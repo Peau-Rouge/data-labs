{
 "cells": [
  {
   "cell_type": "markdown",
   "metadata": {},
   "source": [
    " - Using your data, create a minimum of one scatter plot, one histogram, one box plot and one bar graph (you can add more than one visualization of each type of you choose). Graphs should contain the proper labeling of the x and y axis when appropriate as well as a title for the graph.\n",
    " - Explain what insight or information is inferred from these visualizations. The explanation should be in the notebook in markdown cells."
   ]
  },
  {
   "cell_type": "code",
   "execution_count": 299,
   "metadata": {},
   "outputs": [
    {
     "data": {
      "text/html": [
       "        <script type=\"text/javascript\">\n",
       "        window.PlotlyConfig = {MathJaxConfig: 'local'};\n",
       "        if (window.MathJax) {MathJax.Hub.Config({SVG: {font: \"STIX-Web\"}});}\n",
       "        if (typeof require !== 'undefined') {\n",
       "        require.undef(\"plotly\");\n",
       "        requirejs.config({\n",
       "            paths: {\n",
       "                'plotly': ['https://cdn.plot.ly/plotly-latest.min']\n",
       "            }\n",
       "        });\n",
       "        require(['plotly'], function(Plotly) {\n",
       "            window._Plotly = Plotly;\n",
       "        });\n",
       "        }\n",
       "        </script>\n",
       "        "
      ]
     },
     "metadata": {},
     "output_type": "display_data"
    }
   ],
   "source": [
    "import numpy as np\n",
    "import pandas as pd\n",
    "import re\n",
    "import seaborn as sns\n",
    "import pandas as pd\n",
    "import plotly.plotly as py\n",
    "import cufflinks as cf\n",
    "from ipywidgets import interact\n",
    "cf.go_offline()\n",
    "import matplotlib.pyplot as plt\n"
   ]
  },
  {
   "cell_type": "code",
   "execution_count": 266,
   "metadata": {},
   "outputs": [
    {
     "data": {
      "text/html": [
       "<div>\n",
       "<style scoped>\n",
       "    .dataframe tbody tr th:only-of-type {\n",
       "        vertical-align: middle;\n",
       "    }\n",
       "\n",
       "    .dataframe tbody tr th {\n",
       "        vertical-align: top;\n",
       "    }\n",
       "\n",
       "    .dataframe thead th {\n",
       "        text-align: right;\n",
       "    }\n",
       "</style>\n",
       "<table border=\"1\" class=\"dataframe\">\n",
       "  <thead>\n",
       "    <tr style=\"text-align: right;\">\n",
       "      <th></th>\n",
       "      <th>Flight Number</th>\n",
       "      <th>Date</th>\n",
       "      <th>Time (UTC)</th>\n",
       "      <th>Booster Version</th>\n",
       "      <th>Launch Site</th>\n",
       "      <th>Payload</th>\n",
       "      <th>Payload Mass (kg)</th>\n",
       "      <th>Orbit</th>\n",
       "      <th>Customer</th>\n",
       "      <th>Mission Outcome</th>\n",
       "      <th>Landing Outcome</th>\n",
       "    </tr>\n",
       "  </thead>\n",
       "  <tbody>\n",
       "    <tr>\n",
       "      <th>0</th>\n",
       "      <td>1</td>\n",
       "      <td>2010-06-04</td>\n",
       "      <td>18:45:00</td>\n",
       "      <td>F9 v1.0  B0003</td>\n",
       "      <td>CCAFS LC-40</td>\n",
       "      <td>Dragon Spacecraft Qualification Unit</td>\n",
       "      <td>NaN</td>\n",
       "      <td>LEO</td>\n",
       "      <td>SpaceX</td>\n",
       "      <td>Success</td>\n",
       "      <td>Failure   (parachute)</td>\n",
       "    </tr>\n",
       "    <tr>\n",
       "      <th>1</th>\n",
       "      <td>2</td>\n",
       "      <td>2010-12-08</td>\n",
       "      <td>15:43:00</td>\n",
       "      <td>F9 v1.0  B0004</td>\n",
       "      <td>CCAFS LC-40</td>\n",
       "      <td>Dragon demo flight C1, two CubeSats,  barrel o...</td>\n",
       "      <td>NaN</td>\n",
       "      <td>LEO (ISS)</td>\n",
       "      <td>NASA (COTS) NRO</td>\n",
       "      <td>Success</td>\n",
       "      <td>Failure   (parachute)</td>\n",
       "    </tr>\n",
       "    <tr>\n",
       "      <th>2</th>\n",
       "      <td>3</td>\n",
       "      <td>2012-05-22</td>\n",
       "      <td>7:44:00</td>\n",
       "      <td>F9 v1.0  B0005</td>\n",
       "      <td>CCAFS LC-40</td>\n",
       "      <td>Dragon demo flight C2+</td>\n",
       "      <td>525</td>\n",
       "      <td>LEO (ISS)</td>\n",
       "      <td>NASA (COTS)</td>\n",
       "      <td>Success</td>\n",
       "      <td>No attempt</td>\n",
       "    </tr>\n",
       "    <tr>\n",
       "      <th>3</th>\n",
       "      <td>4</td>\n",
       "      <td>2012-10-08</td>\n",
       "      <td>0:35:00</td>\n",
       "      <td>F9 v1.0  B0006</td>\n",
       "      <td>CCAFS LC-40</td>\n",
       "      <td>SpaceX CRS-1</td>\n",
       "      <td>500</td>\n",
       "      <td>LEO (ISS)</td>\n",
       "      <td>NASA (CRS)</td>\n",
       "      <td>Success</td>\n",
       "      <td>No attempt</td>\n",
       "    </tr>\n",
       "    <tr>\n",
       "      <th>4</th>\n",
       "      <td>5</td>\n",
       "      <td>2013-03-01</td>\n",
       "      <td>15:10:00</td>\n",
       "      <td>F9 v1.0  B0007</td>\n",
       "      <td>CCAFS LC-40</td>\n",
       "      <td>SpaceX CRS-2</td>\n",
       "      <td>677</td>\n",
       "      <td>LEO (ISS)</td>\n",
       "      <td>NASA (CRS)</td>\n",
       "      <td>Success</td>\n",
       "      <td>No attempt</td>\n",
       "    </tr>\n",
       "  </tbody>\n",
       "</table>\n",
       "</div>"
      ],
      "text/plain": [
       "  Flight Number        Date Time (UTC) Booster Version  Launch Site  \\\n",
       "0             1  2010-06-04   18:45:00  F9 v1.0  B0003  CCAFS LC-40   \n",
       "1             2  2010-12-08   15:43:00  F9 v1.0  B0004  CCAFS LC-40   \n",
       "2             3  2012-05-22    7:44:00  F9 v1.0  B0005  CCAFS LC-40   \n",
       "3             4  2012-10-08    0:35:00  F9 v1.0  B0006  CCAFS LC-40   \n",
       "4             5  2013-03-01   15:10:00  F9 v1.0  B0007  CCAFS LC-40   \n",
       "\n",
       "                                             Payload Payload Mass (kg)  \\\n",
       "0               Dragon Spacecraft Qualification Unit               NaN   \n",
       "1  Dragon demo flight C1, two CubeSats,  barrel o...               NaN   \n",
       "2                             Dragon demo flight C2+              525    \n",
       "3                                       SpaceX CRS-1              500    \n",
       "4                                       SpaceX CRS-2              677    \n",
       "\n",
       "       Orbit         Customer Mission Outcome        Landing Outcome  \n",
       "0        LEO           SpaceX         Success  Failure   (parachute)  \n",
       "1  LEO (ISS)  NASA (COTS) NRO         Success  Failure   (parachute)  \n",
       "2  LEO (ISS)      NASA (COTS)         Success             No attempt  \n",
       "3  LEO (ISS)       NASA (CRS)         Success             No attempt  \n",
       "4  LEO (ISS)       NASA (CRS)         Success             No attempt  "
      ]
     },
     "execution_count": 266,
     "metadata": {},
     "output_type": "execute_result"
    }
   ],
   "source": [
    "spacex = pd.read_csv('Data/spacex_launch_data.csv')\n",
    "spacex.head()\n",
    "\n"
   ]
  },
  {
   "cell_type": "code",
   "execution_count": 267,
   "metadata": {},
   "outputs": [
    {
     "data": {
      "text/plain": [
       "Flight Number        object\n",
       "Date                 object\n",
       "Time (UTC)           object\n",
       "Booster Version      object\n",
       "Launch Site          object\n",
       "Payload              object\n",
       "Payload Mass (kg)    object\n",
       "Orbit                object\n",
       "Customer             object\n",
       "Mission Outcome      object\n",
       "Landing Outcome      object\n",
       "dtype: object"
      ]
     },
     "execution_count": 267,
     "metadata": {},
     "output_type": "execute_result"
    }
   ],
   "source": [
    "spacex.dtypes"
   ]
  },
  {
   "cell_type": "code",
   "execution_count": null,
   "metadata": {},
   "outputs": [],
   "source": []
  },
  {
   "cell_type": "markdown",
   "metadata": {},
   "source": [
    "### New column 'Payload Mass v2' =  Changing 'Payload Mass' into numerical, removing '~', replacing 'Classified' by NaN values"
   ]
  },
  {
   "cell_type": "code",
   "execution_count": 268,
   "metadata": {},
   "outputs": [
    {
     "data": {
      "text/html": [
       "<div>\n",
       "<style scoped>\n",
       "    .dataframe tbody tr th:only-of-type {\n",
       "        vertical-align: middle;\n",
       "    }\n",
       "\n",
       "    .dataframe tbody tr th {\n",
       "        vertical-align: top;\n",
       "    }\n",
       "\n",
       "    .dataframe thead th {\n",
       "        text-align: right;\n",
       "    }\n",
       "</style>\n",
       "<table border=\"1\" class=\"dataframe\">\n",
       "  <thead>\n",
       "    <tr style=\"text-align: right;\">\n",
       "      <th></th>\n",
       "      <th>Flight Number</th>\n",
       "      <th>Date</th>\n",
       "      <th>Time (UTC)</th>\n",
       "      <th>Booster Version</th>\n",
       "      <th>Launch Site</th>\n",
       "      <th>Payload</th>\n",
       "      <th>Payload Mass (kg)</th>\n",
       "      <th>Orbit</th>\n",
       "      <th>Customer</th>\n",
       "      <th>Mission Outcome</th>\n",
       "      <th>Landing Outcome</th>\n",
       "      <th>Payload Mass v2</th>\n",
       "    </tr>\n",
       "  </thead>\n",
       "  <tbody>\n",
       "    <tr>\n",
       "      <th>0</th>\n",
       "      <td>1</td>\n",
       "      <td>2010-06-04</td>\n",
       "      <td>18:45:00</td>\n",
       "      <td>F9 v1.0  B0003</td>\n",
       "      <td>CCAFS LC-40</td>\n",
       "      <td>Dragon Spacecraft Qualification Unit</td>\n",
       "      <td>NaN</td>\n",
       "      <td>LEO</td>\n",
       "      <td>SpaceX</td>\n",
       "      <td>Success</td>\n",
       "      <td>Failure   (parachute)</td>\n",
       "      <td>NaN</td>\n",
       "    </tr>\n",
       "    <tr>\n",
       "      <th>1</th>\n",
       "      <td>2</td>\n",
       "      <td>2010-12-08</td>\n",
       "      <td>15:43:00</td>\n",
       "      <td>F9 v1.0  B0004</td>\n",
       "      <td>CCAFS LC-40</td>\n",
       "      <td>Dragon demo flight C1, two CubeSats,  barrel o...</td>\n",
       "      <td>NaN</td>\n",
       "      <td>LEO (ISS)</td>\n",
       "      <td>NASA (COTS) NRO</td>\n",
       "      <td>Success</td>\n",
       "      <td>Failure   (parachute)</td>\n",
       "      <td>NaN</td>\n",
       "    </tr>\n",
       "    <tr>\n",
       "      <th>2</th>\n",
       "      <td>3</td>\n",
       "      <td>2012-05-22</td>\n",
       "      <td>7:44:00</td>\n",
       "      <td>F9 v1.0  B0005</td>\n",
       "      <td>CCAFS LC-40</td>\n",
       "      <td>Dragon demo flight C2+</td>\n",
       "      <td>525</td>\n",
       "      <td>LEO (ISS)</td>\n",
       "      <td>NASA (COTS)</td>\n",
       "      <td>Success</td>\n",
       "      <td>No attempt</td>\n",
       "      <td>525</td>\n",
       "    </tr>\n",
       "    <tr>\n",
       "      <th>3</th>\n",
       "      <td>4</td>\n",
       "      <td>2012-10-08</td>\n",
       "      <td>0:35:00</td>\n",
       "      <td>F9 v1.0  B0006</td>\n",
       "      <td>CCAFS LC-40</td>\n",
       "      <td>SpaceX CRS-1</td>\n",
       "      <td>500</td>\n",
       "      <td>LEO (ISS)</td>\n",
       "      <td>NASA (CRS)</td>\n",
       "      <td>Success</td>\n",
       "      <td>No attempt</td>\n",
       "      <td>500</td>\n",
       "    </tr>\n",
       "    <tr>\n",
       "      <th>4</th>\n",
       "      <td>5</td>\n",
       "      <td>2013-03-01</td>\n",
       "      <td>15:10:00</td>\n",
       "      <td>F9 v1.0  B0007</td>\n",
       "      <td>CCAFS LC-40</td>\n",
       "      <td>SpaceX CRS-2</td>\n",
       "      <td>677</td>\n",
       "      <td>LEO (ISS)</td>\n",
       "      <td>NASA (CRS)</td>\n",
       "      <td>Success</td>\n",
       "      <td>No attempt</td>\n",
       "      <td>677</td>\n",
       "    </tr>\n",
       "  </tbody>\n",
       "</table>\n",
       "</div>"
      ],
      "text/plain": [
       "  Flight Number        Date Time (UTC) Booster Version  Launch Site  \\\n",
       "0             1  2010-06-04   18:45:00  F9 v1.0  B0003  CCAFS LC-40   \n",
       "1             2  2010-12-08   15:43:00  F9 v1.0  B0004  CCAFS LC-40   \n",
       "2             3  2012-05-22    7:44:00  F9 v1.0  B0005  CCAFS LC-40   \n",
       "3             4  2012-10-08    0:35:00  F9 v1.0  B0006  CCAFS LC-40   \n",
       "4             5  2013-03-01   15:10:00  F9 v1.0  B0007  CCAFS LC-40   \n",
       "\n",
       "                                             Payload Payload Mass (kg)  \\\n",
       "0               Dragon Spacecraft Qualification Unit               NaN   \n",
       "1  Dragon demo flight C1, two CubeSats,  barrel o...               NaN   \n",
       "2                             Dragon demo flight C2+              525    \n",
       "3                                       SpaceX CRS-1              500    \n",
       "4                                       SpaceX CRS-2              677    \n",
       "\n",
       "       Orbit         Customer Mission Outcome        Landing Outcome  \\\n",
       "0        LEO           SpaceX         Success  Failure   (parachute)   \n",
       "1  LEO (ISS)  NASA (COTS) NRO         Success  Failure   (parachute)   \n",
       "2  LEO (ISS)      NASA (COTS)         Success             No attempt   \n",
       "3  LEO (ISS)       NASA (CRS)         Success             No attempt   \n",
       "4  LEO (ISS)       NASA (CRS)         Success             No attempt   \n",
       "\n",
       "  Payload Mass v2  \n",
       "0             NaN  \n",
       "1             NaN  \n",
       "2             525  \n",
       "3             500  \n",
       "4             677  "
      ]
     },
     "execution_count": 268,
     "metadata": {},
     "output_type": "execute_result"
    }
   ],
   "source": [
    "spacex[\"Payload Mass v2\"] = spacex[\"Payload Mass (kg)\"].str.replace('\\xa0', '', regex=True)\n",
    "spacex[\"Payload Mass v2\"] = spacex[\"Payload Mass v2\"].str.replace('~', '', regex=True)\n",
    "spacex[\"Payload Mass v2\"] = spacex[\"Payload Mass v2\"].str.replace(',', '', regex=True)\n",
    "\n",
    "spacex[\"Payload Mass v2\"] = spacex[\"Payload Mass v2\"].replace({'Classified':np.nan})\n",
    "spacex.head()\n",
    "#spacex[\"Payload Mass (kg)\"].dropna()"
   ]
  },
  {
   "cell_type": "code",
   "execution_count": null,
   "metadata": {},
   "outputs": [],
   "source": []
  },
  {
   "cell_type": "markdown",
   "metadata": {},
   "source": [
    "### Converting 'Date' column format to datetime64[ns]"
   ]
  },
  {
   "cell_type": "code",
   "execution_count": 269,
   "metadata": {},
   "outputs": [
    {
     "name": "stdout",
     "output_type": "stream",
     "text": [
      "Flight Number                object\n",
      "Date                         object\n",
      "Time (UTC)                   object\n",
      "Booster Version              object\n",
      "Launch Site                  object\n",
      "Payload                      object\n",
      "Payload Mass (kg)            object\n",
      "Orbit                        object\n",
      "Customer                     object\n",
      "Mission Outcome              object\n",
      "Landing Outcome              object\n",
      "Payload Mass v2              object\n",
      "Date1                datetime64[ns]\n",
      "dtype: object\n"
     ]
    },
    {
     "data": {
      "text/html": [
       "<div>\n",
       "<style scoped>\n",
       "    .dataframe tbody tr th:only-of-type {\n",
       "        vertical-align: middle;\n",
       "    }\n",
       "\n",
       "    .dataframe tbody tr th {\n",
       "        vertical-align: top;\n",
       "    }\n",
       "\n",
       "    .dataframe thead th {\n",
       "        text-align: right;\n",
       "    }\n",
       "</style>\n",
       "<table border=\"1\" class=\"dataframe\">\n",
       "  <thead>\n",
       "    <tr style=\"text-align: right;\">\n",
       "      <th></th>\n",
       "      <th>Flight Number</th>\n",
       "      <th>Date</th>\n",
       "      <th>Time (UTC)</th>\n",
       "      <th>Booster Version</th>\n",
       "      <th>Launch Site</th>\n",
       "      <th>Payload</th>\n",
       "      <th>Payload Mass (kg)</th>\n",
       "      <th>Orbit</th>\n",
       "      <th>Customer</th>\n",
       "      <th>Mission Outcome</th>\n",
       "      <th>Landing Outcome</th>\n",
       "      <th>Payload Mass v2</th>\n",
       "      <th>Date1</th>\n",
       "    </tr>\n",
       "  </thead>\n",
       "  <tbody>\n",
       "    <tr>\n",
       "      <th>0</th>\n",
       "      <td>1</td>\n",
       "      <td>2010-06-04</td>\n",
       "      <td>18:45:00</td>\n",
       "      <td>F9 v1.0  B0003</td>\n",
       "      <td>CCAFS LC-40</td>\n",
       "      <td>Dragon Spacecraft Qualification Unit</td>\n",
       "      <td>NaN</td>\n",
       "      <td>LEO</td>\n",
       "      <td>SpaceX</td>\n",
       "      <td>Success</td>\n",
       "      <td>Failure   (parachute)</td>\n",
       "      <td>NaN</td>\n",
       "      <td>2010-06-04</td>\n",
       "    </tr>\n",
       "    <tr>\n",
       "      <th>1</th>\n",
       "      <td>2</td>\n",
       "      <td>2010-12-08</td>\n",
       "      <td>15:43:00</td>\n",
       "      <td>F9 v1.0  B0004</td>\n",
       "      <td>CCAFS LC-40</td>\n",
       "      <td>Dragon demo flight C1, two CubeSats,  barrel o...</td>\n",
       "      <td>NaN</td>\n",
       "      <td>LEO (ISS)</td>\n",
       "      <td>NASA (COTS) NRO</td>\n",
       "      <td>Success</td>\n",
       "      <td>Failure   (parachute)</td>\n",
       "      <td>NaN</td>\n",
       "      <td>2010-12-08</td>\n",
       "    </tr>\n",
       "    <tr>\n",
       "      <th>2</th>\n",
       "      <td>3</td>\n",
       "      <td>2012-05-22</td>\n",
       "      <td>7:44:00</td>\n",
       "      <td>F9 v1.0  B0005</td>\n",
       "      <td>CCAFS LC-40</td>\n",
       "      <td>Dragon demo flight C2+</td>\n",
       "      <td>525</td>\n",
       "      <td>LEO (ISS)</td>\n",
       "      <td>NASA (COTS)</td>\n",
       "      <td>Success</td>\n",
       "      <td>No attempt</td>\n",
       "      <td>525</td>\n",
       "      <td>2012-05-22</td>\n",
       "    </tr>\n",
       "    <tr>\n",
       "      <th>3</th>\n",
       "      <td>4</td>\n",
       "      <td>2012-10-08</td>\n",
       "      <td>0:35:00</td>\n",
       "      <td>F9 v1.0  B0006</td>\n",
       "      <td>CCAFS LC-40</td>\n",
       "      <td>SpaceX CRS-1</td>\n",
       "      <td>500</td>\n",
       "      <td>LEO (ISS)</td>\n",
       "      <td>NASA (CRS)</td>\n",
       "      <td>Success</td>\n",
       "      <td>No attempt</td>\n",
       "      <td>500</td>\n",
       "      <td>2012-10-08</td>\n",
       "    </tr>\n",
       "    <tr>\n",
       "      <th>4</th>\n",
       "      <td>5</td>\n",
       "      <td>2013-03-01</td>\n",
       "      <td>15:10:00</td>\n",
       "      <td>F9 v1.0  B0007</td>\n",
       "      <td>CCAFS LC-40</td>\n",
       "      <td>SpaceX CRS-2</td>\n",
       "      <td>677</td>\n",
       "      <td>LEO (ISS)</td>\n",
       "      <td>NASA (CRS)</td>\n",
       "      <td>Success</td>\n",
       "      <td>No attempt</td>\n",
       "      <td>677</td>\n",
       "      <td>2013-03-01</td>\n",
       "    </tr>\n",
       "  </tbody>\n",
       "</table>\n",
       "</div>"
      ],
      "text/plain": [
       "  Flight Number        Date Time (UTC) Booster Version  Launch Site  \\\n",
       "0             1  2010-06-04   18:45:00  F9 v1.0  B0003  CCAFS LC-40   \n",
       "1             2  2010-12-08   15:43:00  F9 v1.0  B0004  CCAFS LC-40   \n",
       "2             3  2012-05-22    7:44:00  F9 v1.0  B0005  CCAFS LC-40   \n",
       "3             4  2012-10-08    0:35:00  F9 v1.0  B0006  CCAFS LC-40   \n",
       "4             5  2013-03-01   15:10:00  F9 v1.0  B0007  CCAFS LC-40   \n",
       "\n",
       "                                             Payload Payload Mass (kg)  \\\n",
       "0               Dragon Spacecraft Qualification Unit               NaN   \n",
       "1  Dragon demo flight C1, two CubeSats,  barrel o...               NaN   \n",
       "2                             Dragon demo flight C2+              525    \n",
       "3                                       SpaceX CRS-1              500    \n",
       "4                                       SpaceX CRS-2              677    \n",
       "\n",
       "       Orbit         Customer Mission Outcome        Landing Outcome  \\\n",
       "0        LEO           SpaceX         Success  Failure   (parachute)   \n",
       "1  LEO (ISS)  NASA (COTS) NRO         Success  Failure   (parachute)   \n",
       "2  LEO (ISS)      NASA (COTS)         Success             No attempt   \n",
       "3  LEO (ISS)       NASA (CRS)         Success             No attempt   \n",
       "4  LEO (ISS)       NASA (CRS)         Success             No attempt   \n",
       "\n",
       "  Payload Mass v2      Date1  \n",
       "0             NaN 2010-06-04  \n",
       "1             NaN 2010-12-08  \n",
       "2             525 2012-05-22  \n",
       "3             500 2012-10-08  \n",
       "4             677 2013-03-01  "
      ]
     },
     "execution_count": 269,
     "metadata": {},
     "output_type": "execute_result"
    }
   ],
   "source": [
    "spacex['Date1'] = pd.to_datetime(spacex['Date'])\n",
    "print(spacex.dtypes)\n",
    "spacex.head()\n"
   ]
  },
  {
   "cell_type": "code",
   "execution_count": null,
   "metadata": {},
   "outputs": [],
   "source": []
  },
  {
   "cell_type": "code",
   "execution_count": 270,
   "metadata": {},
   "outputs": [
    {
     "data": {
      "text/html": [
       "<div>\n",
       "<style scoped>\n",
       "    .dataframe tbody tr th:only-of-type {\n",
       "        vertical-align: middle;\n",
       "    }\n",
       "\n",
       "    .dataframe tbody tr th {\n",
       "        vertical-align: top;\n",
       "    }\n",
       "\n",
       "    .dataframe thead th {\n",
       "        text-align: right;\n",
       "    }\n",
       "</style>\n",
       "<table border=\"1\" class=\"dataframe\">\n",
       "  <thead>\n",
       "    <tr style=\"text-align: right;\">\n",
       "      <th></th>\n",
       "      <th>Flight Number</th>\n",
       "      <th>Date</th>\n",
       "      <th>Time (UTC)</th>\n",
       "      <th>Booster Version</th>\n",
       "      <th>Launch Site</th>\n",
       "      <th>Payload</th>\n",
       "      <th>Payload Mass (kg)</th>\n",
       "      <th>Orbit</th>\n",
       "      <th>Customer</th>\n",
       "      <th>Mission Outcome</th>\n",
       "      <th>Landing Outcome</th>\n",
       "      <th>Payload Mass v2</th>\n",
       "      <th>Date1</th>\n",
       "      <th>Year</th>\n",
       "      <th>Month</th>\n",
       "      <th>Day</th>\n",
       "    </tr>\n",
       "  </thead>\n",
       "  <tbody>\n",
       "    <tr>\n",
       "      <th>0</th>\n",
       "      <td>1</td>\n",
       "      <td>2010-06-04</td>\n",
       "      <td>18:45:00</td>\n",
       "      <td>F9 v1.0  B0003</td>\n",
       "      <td>CCAFS LC-40</td>\n",
       "      <td>Dragon Spacecraft Qualification Unit</td>\n",
       "      <td>NaN</td>\n",
       "      <td>LEO</td>\n",
       "      <td>SpaceX</td>\n",
       "      <td>Success</td>\n",
       "      <td>Failure   (parachute)</td>\n",
       "      <td>NaN</td>\n",
       "      <td>2010-06-04</td>\n",
       "      <td>2010</td>\n",
       "      <td>6</td>\n",
       "      <td>4</td>\n",
       "    </tr>\n",
       "    <tr>\n",
       "      <th>1</th>\n",
       "      <td>2</td>\n",
       "      <td>2010-12-08</td>\n",
       "      <td>15:43:00</td>\n",
       "      <td>F9 v1.0  B0004</td>\n",
       "      <td>CCAFS LC-40</td>\n",
       "      <td>Dragon demo flight C1, two CubeSats,  barrel o...</td>\n",
       "      <td>NaN</td>\n",
       "      <td>LEO (ISS)</td>\n",
       "      <td>NASA (COTS) NRO</td>\n",
       "      <td>Success</td>\n",
       "      <td>Failure   (parachute)</td>\n",
       "      <td>NaN</td>\n",
       "      <td>2010-12-08</td>\n",
       "      <td>2010</td>\n",
       "      <td>12</td>\n",
       "      <td>8</td>\n",
       "    </tr>\n",
       "    <tr>\n",
       "      <th>2</th>\n",
       "      <td>3</td>\n",
       "      <td>2012-05-22</td>\n",
       "      <td>7:44:00</td>\n",
       "      <td>F9 v1.0  B0005</td>\n",
       "      <td>CCAFS LC-40</td>\n",
       "      <td>Dragon demo flight C2+</td>\n",
       "      <td>525</td>\n",
       "      <td>LEO (ISS)</td>\n",
       "      <td>NASA (COTS)</td>\n",
       "      <td>Success</td>\n",
       "      <td>No attempt</td>\n",
       "      <td>525</td>\n",
       "      <td>2012-05-22</td>\n",
       "      <td>2012</td>\n",
       "      <td>5</td>\n",
       "      <td>22</td>\n",
       "    </tr>\n",
       "    <tr>\n",
       "      <th>3</th>\n",
       "      <td>4</td>\n",
       "      <td>2012-10-08</td>\n",
       "      <td>0:35:00</td>\n",
       "      <td>F9 v1.0  B0006</td>\n",
       "      <td>CCAFS LC-40</td>\n",
       "      <td>SpaceX CRS-1</td>\n",
       "      <td>500</td>\n",
       "      <td>LEO (ISS)</td>\n",
       "      <td>NASA (CRS)</td>\n",
       "      <td>Success</td>\n",
       "      <td>No attempt</td>\n",
       "      <td>500</td>\n",
       "      <td>2012-10-08</td>\n",
       "      <td>2012</td>\n",
       "      <td>10</td>\n",
       "      <td>8</td>\n",
       "    </tr>\n",
       "    <tr>\n",
       "      <th>4</th>\n",
       "      <td>5</td>\n",
       "      <td>2013-03-01</td>\n",
       "      <td>15:10:00</td>\n",
       "      <td>F9 v1.0  B0007</td>\n",
       "      <td>CCAFS LC-40</td>\n",
       "      <td>SpaceX CRS-2</td>\n",
       "      <td>677</td>\n",
       "      <td>LEO (ISS)</td>\n",
       "      <td>NASA (CRS)</td>\n",
       "      <td>Success</td>\n",
       "      <td>No attempt</td>\n",
       "      <td>677</td>\n",
       "      <td>2013-03-01</td>\n",
       "      <td>2013</td>\n",
       "      <td>3</td>\n",
       "      <td>1</td>\n",
       "    </tr>\n",
       "    <tr>\n",
       "      <th>5</th>\n",
       "      <td>6</td>\n",
       "      <td>2013-09-29</td>\n",
       "      <td>16:00:00</td>\n",
       "      <td>F9 v1.1  B1003</td>\n",
       "      <td>VAFB SLC-4E</td>\n",
       "      <td>CASSIOPE</td>\n",
       "      <td>500</td>\n",
       "      <td>Polar LEO</td>\n",
       "      <td>MDA</td>\n",
       "      <td>Success</td>\n",
       "      <td>Uncontrolled (ocean)</td>\n",
       "      <td>500</td>\n",
       "      <td>2013-09-29</td>\n",
       "      <td>2013</td>\n",
       "      <td>9</td>\n",
       "      <td>29</td>\n",
       "    </tr>\n",
       "    <tr>\n",
       "      <th>6</th>\n",
       "      <td>7</td>\n",
       "      <td>2013-12-03</td>\n",
       "      <td>22:41:00</td>\n",
       "      <td>F9 v1.1</td>\n",
       "      <td>CCAFS LC-40</td>\n",
       "      <td>SES-8</td>\n",
       "      <td>3,170</td>\n",
       "      <td>GTO</td>\n",
       "      <td>SES</td>\n",
       "      <td>Success</td>\n",
       "      <td>No attempt</td>\n",
       "      <td>3170</td>\n",
       "      <td>2013-12-03</td>\n",
       "      <td>2013</td>\n",
       "      <td>12</td>\n",
       "      <td>3</td>\n",
       "    </tr>\n",
       "    <tr>\n",
       "      <th>7</th>\n",
       "      <td>8</td>\n",
       "      <td>2014-01-06</td>\n",
       "      <td>22:06:00</td>\n",
       "      <td>F9 v1.1</td>\n",
       "      <td>CCAFS LC-40</td>\n",
       "      <td>Thaicom 6</td>\n",
       "      <td>3,325</td>\n",
       "      <td>GTO</td>\n",
       "      <td>Thaicom</td>\n",
       "      <td>Success</td>\n",
       "      <td>No attempt</td>\n",
       "      <td>3325</td>\n",
       "      <td>2014-01-06</td>\n",
       "      <td>2014</td>\n",
       "      <td>1</td>\n",
       "      <td>6</td>\n",
       "    </tr>\n",
       "  </tbody>\n",
       "</table>\n",
       "</div>"
      ],
      "text/plain": [
       "  Flight Number        Date Time (UTC) Booster Version  Launch Site  \\\n",
       "0             1  2010-06-04   18:45:00  F9 v1.0  B0003  CCAFS LC-40   \n",
       "1             2  2010-12-08   15:43:00  F9 v1.0  B0004  CCAFS LC-40   \n",
       "2             3  2012-05-22    7:44:00  F9 v1.0  B0005  CCAFS LC-40   \n",
       "3             4  2012-10-08    0:35:00  F9 v1.0  B0006  CCAFS LC-40   \n",
       "4             5  2013-03-01   15:10:00  F9 v1.0  B0007  CCAFS LC-40   \n",
       "5             6  2013-09-29   16:00:00  F9 v1.1  B1003  VAFB SLC-4E   \n",
       "6             7  2013-12-03   22:41:00         F9 v1.1  CCAFS LC-40   \n",
       "7             8  2014-01-06   22:06:00         F9 v1.1  CCAFS LC-40   \n",
       "\n",
       "                                             Payload Payload Mass (kg)  \\\n",
       "0               Dragon Spacecraft Qualification Unit               NaN   \n",
       "1  Dragon demo flight C1, two CubeSats,  barrel o...               NaN   \n",
       "2                             Dragon demo flight C2+              525    \n",
       "3                                       SpaceX CRS-1              500    \n",
       "4                                       SpaceX CRS-2              677    \n",
       "5                                           CASSIOPE              500    \n",
       "6                                              SES-8            3,170    \n",
       "7                                          Thaicom 6            3,325    \n",
       "\n",
       "       Orbit         Customer Mission Outcome        Landing Outcome  \\\n",
       "0        LEO           SpaceX         Success  Failure   (parachute)   \n",
       "1  LEO (ISS)  NASA (COTS) NRO         Success  Failure   (parachute)   \n",
       "2  LEO (ISS)      NASA (COTS)         Success             No attempt   \n",
       "3  LEO (ISS)       NASA (CRS)         Success             No attempt   \n",
       "4  LEO (ISS)       NASA (CRS)         Success             No attempt   \n",
       "5  Polar LEO              MDA         Success   Uncontrolled (ocean)   \n",
       "6        GTO              SES         Success             No attempt   \n",
       "7        GTO          Thaicom         Success             No attempt   \n",
       "\n",
       "  Payload Mass v2      Date1  Year  Month  Day  \n",
       "0             NaN 2010-06-04  2010      6    4  \n",
       "1             NaN 2010-12-08  2010     12    8  \n",
       "2             525 2012-05-22  2012      5   22  \n",
       "3             500 2012-10-08  2012     10    8  \n",
       "4             677 2013-03-01  2013      3    1  \n",
       "5             500 2013-09-29  2013      9   29  \n",
       "6            3170 2013-12-03  2013     12    3  \n",
       "7            3325 2014-01-06  2014      1    6  "
      ]
     },
     "execution_count": 270,
     "metadata": {},
     "output_type": "execute_result"
    }
   ],
   "source": [
    "spacex['Year'] = pd.DatetimeIndex(spacex['Date1']).year\n",
    "spacex['Month'] = pd.DatetimeIndex(spacex['Date1']).month\n",
    "spacex['Day'] = pd.DatetimeIndex(spacex['Date1']).day\n",
    "spacex.head(8)\n"
   ]
  },
  {
   "cell_type": "code",
   "execution_count": null,
   "metadata": {},
   "outputs": [],
   "source": []
  },
  {
   "cell_type": "code",
   "execution_count": 271,
   "metadata": {},
   "outputs": [
    {
     "name": "stdout",
     "output_type": "stream",
     "text": [
      "Flight Number                object\n",
      "Date                         object\n",
      "Time (UTC)                   object\n",
      "Booster Version              object\n",
      "Launch Site                  object\n",
      "Payload                      object\n",
      "Payload Mass (kg)            object\n",
      "Orbit                        object\n",
      "Customer                     object\n",
      "Mission Outcome              object\n",
      "Landing Outcome              object\n",
      "Payload Mass v2              object\n",
      "Date1                datetime64[ns]\n",
      "Year                          int64\n",
      "Month                         int64\n",
      "Day                           int64\n",
      "dtype: object\n"
     ]
    }
   ],
   "source": [
    "print(spacex.dtypes)\n"
   ]
  },
  {
   "cell_type": "code",
   "execution_count": null,
   "metadata": {},
   "outputs": [],
   "source": []
  },
  {
   "cell_type": "code",
   "execution_count": 194,
   "metadata": {},
   "outputs": [],
   "source": []
  },
  {
   "cell_type": "markdown",
   "metadata": {},
   "source": [
    "## Total Payload Mass launched into space since 2010"
   ]
  },
  {
   "cell_type": "markdown",
   "metadata": {},
   "source": [
    "### Grouping by date the total mass of payload launched into space. Removing NaN values"
   ]
  },
  {
   "cell_type": "code",
   "execution_count": 272,
   "metadata": {},
   "outputs": [],
   "source": [
    "# changing data types\n",
    "\n",
    "spacex['Payload Mass v2'] = spacex['Payload Mass v2'].astype(float)\n"
   ]
  },
  {
   "cell_type": "code",
   "execution_count": 273,
   "metadata": {},
   "outputs": [
    {
     "name": "stdout",
     "output_type": "stream",
     "text": [
      "   Year  Payload Mass v2\n",
      "1  2012       512.500000\n",
      "2  2013      1449.000000\n",
      "3  2014      3019.333333\n",
      "4  2015      2530.714286\n",
      "5  2016      3401.625000\n"
     ]
    },
    {
     "data": {
      "application/vnd.plotly.v1+json": {
       "config": {
        "linkText": "Export to plot.ly",
        "plotlyServerURL": "https://plot.ly",
        "showLink": true
       },
       "data": [
        {
         "line": {
          "color": "rgba(55, 128, 191, 1.0)",
          "dash": "solid",
          "shape": "linear",
          "width": 1.3
         },
         "mode": "lines",
         "name": "Payload Mass v2",
         "text": "",
         "type": "scatter",
         "uid": "340e5df6-27c5-4b68-ac31-448fac8efdda",
         "x": [
          2012,
          2013,
          2014,
          2015,
          2016,
          2017,
          2018
         ],
         "y": [
          512.5,
          1449,
          3019.3333333333335,
          2530.714285714286,
          3401.625,
          5334,
          4177.5
         ]
        }
       ],
       "layout": {
        "legend": {
         "bgcolor": "#F5F6F9",
         "font": {
          "color": "#4D5663"
         }
        },
        "paper_bgcolor": "#F5F6F9",
        "plot_bgcolor": "#F5F6F9",
        "title": {
         "font": {
          "color": "#4D5663"
         },
         "text": "Average Payload Mass (kg) launched into space every year since 2010"
        },
        "xaxis": {
         "gridcolor": "#E1E5ED",
         "showgrid": true,
         "tickfont": {
          "color": "#4D5663"
         },
         "title": {
          "font": {
           "color": "#4D5663"
          },
          "text": "time"
         },
         "zerolinecolor": "#E1E5ED"
        },
        "yaxis": {
         "gridcolor": "#E1E5ED",
         "showgrid": true,
         "tickfont": {
          "color": "#4D5663"
         },
         "title": {
          "font": {
           "color": "#4D5663"
          },
          "text": "Average Payload Mass"
         },
         "zerolinecolor": "#E1E5ED"
        }
       }
      },
      "text/html": [
       "<div>\n",
       "        \n",
       "        \n",
       "            <div id=\"91461682-81b7-4731-98d7-6b8e393485d6\" class=\"plotly-graph-div\" style=\"height:525px; width:100%;\"></div>\n",
       "            <script type=\"text/javascript\">\n",
       "                require([\"plotly\"], function(Plotly) {\n",
       "                    window.PLOTLYENV=window.PLOTLYENV || {};\n",
       "                    window.PLOTLYENV.BASE_URL='https://plot.ly';\n",
       "                    \n",
       "                if (document.getElementById(\"91461682-81b7-4731-98d7-6b8e393485d6\")) {\n",
       "                    Plotly.newPlot(\n",
       "                        '91461682-81b7-4731-98d7-6b8e393485d6',\n",
       "                        [{\"line\": {\"color\": \"rgba(55, 128, 191, 1.0)\", \"dash\": \"solid\", \"shape\": \"linear\", \"width\": 1.3}, \"mode\": \"lines\", \"name\": \"Payload Mass v2\", \"text\": \"\", \"type\": \"scatter\", \"uid\": \"340e5df6-27c5-4b68-ac31-448fac8efdda\", \"x\": [2012, 2013, 2014, 2015, 2016, 2017, 2018], \"y\": [512.5, 1449.0, 3019.3333333333335, 2530.714285714286, 3401.625, 5334.0, 4177.5]}],\n",
       "                        {\"legend\": {\"bgcolor\": \"#F5F6F9\", \"font\": {\"color\": \"#4D5663\"}}, \"paper_bgcolor\": \"#F5F6F9\", \"plot_bgcolor\": \"#F5F6F9\", \"title\": {\"font\": {\"color\": \"#4D5663\"}, \"text\": \"Average Payload Mass (kg) launched into space every year since 2010\"}, \"xaxis\": {\"gridcolor\": \"#E1E5ED\", \"showgrid\": true, \"tickfont\": {\"color\": \"#4D5663\"}, \"title\": {\"font\": {\"color\": \"#4D5663\"}, \"text\": \"time\"}, \"zerolinecolor\": \"#E1E5ED\"}, \"yaxis\": {\"gridcolor\": \"#E1E5ED\", \"showgrid\": true, \"tickfont\": {\"color\": \"#4D5663\"}, \"title\": {\"font\": {\"color\": \"#4D5663\"}, \"text\": \"Average Payload Mass\"}, \"zerolinecolor\": \"#E1E5ED\"}},\n",
       "                        {\"showLink\": true, \"linkText\": \"Export to plot.ly\", \"plotlyServerURL\": \"https://plot.ly\", \"responsive\": true}\n",
       "                    ).then(function(){\n",
       "                            \n",
       "var gd = document.getElementById('91461682-81b7-4731-98d7-6b8e393485d6');\n",
       "var x = new MutationObserver(function (mutations, observer) {{\n",
       "        var display = window.getComputedStyle(gd).display;\n",
       "        if (!display || display === 'none') {{\n",
       "            console.log([gd, 'removed!']);\n",
       "            Plotly.purge(gd);\n",
       "            observer.disconnect();\n",
       "        }}\n",
       "}});\n",
       "\n",
       "// Listen for the removal of the full notebook cells\n",
       "var notebookContainer = gd.closest('#notebook-container');\n",
       "if (notebookContainer) {{\n",
       "    x.observe(notebookContainer, {childList: true});\n",
       "}}\n",
       "\n",
       "// Listen for the clearing of the current output cell\n",
       "var outputEl = gd.closest('.output');\n",
       "if (outputEl) {{\n",
       "    x.observe(outputEl, {childList: true});\n",
       "}}\n",
       "\n",
       "                        })\n",
       "                };\n",
       "                });\n",
       "            </script>\n",
       "        </div>"
      ]
     },
     "metadata": {},
     "output_type": "display_data"
    }
   ],
   "source": [
    "spacex_groupby = spacex.groupby('Year', as_index=False).agg({'Payload Mass v2':'mean'})\n",
    "spacex_groupby.sort_values(by=['Year'], inplace=True)\n",
    "spacex_groupby = spacex_groupby.dropna()\n",
    "print(spacex_groupby.head())\n",
    "\n",
    "\n",
    "spacex_groupby.iplot(kind='line', x='Year', xTitle='time',\n",
    "           yTitle='Average Payload Mass', title='Average Payload Mass (kg) launched into space every year since 2010',\n",
    "           color = 'blue')"
   ]
  },
  {
   "cell_type": "markdown",
   "metadata": {},
   "source": [
    "Line chart of Total Payload Mass launched into space between 2010 and 2018. \n",
    "Total payload mass seems to have increased and launches seem to be more frequent since 2010 "
   ]
  },
  {
   "cell_type": "code",
   "execution_count": null,
   "metadata": {},
   "outputs": [],
   "source": []
  },
  {
   "cell_type": "markdown",
   "metadata": {},
   "source": [
    "## Boxplot of Average Payload Mass (kg) and Landing Outcome"
   ]
  },
  {
   "cell_type": "markdown",
   "metadata": {},
   "source": [
    "### creating new column for Landing Outcome : changing format, modifying string, removing parenthesis etc."
   ]
  },
  {
   "cell_type": "code",
   "execution_count": 275,
   "metadata": {},
   "outputs": [
    {
     "data": {
      "text/plain": [
       "0      Failure\n",
       "1      Failure\n",
       "2    Noattempt\n",
       "3    Noattempt\n",
       "4    Noattempt\n",
       "Name: Landing Outcome v2, dtype: object"
      ]
     },
     "execution_count": 275,
     "metadata": {},
     "output_type": "execute_result"
    }
   ],
   "source": [
    "spacex[\"Landing Outcome v2\"] = spacex[\"Landing Outcome\"].str.replace(' ', '')\n",
    "spacex[\"Landing Outcome v2\"] = spacex[\"Landing Outcome v2\"].str.replace(r\" ?\\([^)]+\\)\", \"\", regex = True)\n",
    "spacex[\"Landing Outcome v2\"][48] = 'Success'\n",
    "spacex[\"Landing Outcome v2\"].head()"
   ]
  },
  {
   "cell_type": "code",
   "execution_count": 278,
   "metadata": {},
   "outputs": [
    {
     "name": "stdout",
     "output_type": "stream",
     "text": [
      "  Landing Outcome v2   Launch Site  Payload Mass v2\n",
      "0         Controlled   CCAFS LC-40           1394.0\n",
      "1         Controlled  CCAFS SLC-40           4230.0\n",
      "2         Controlled   VAFB SLC-4E           9600.0\n",
      "3            Failure   CCAFS LC-40           3291.0\n",
      "4            Failure   VAFB SLC-4E            553.0\n"
     ]
    },
    {
     "data": {
      "text/plain": [
       "Text(0.5, 1.0, 'Boxplot of average Payload Mass (kg) launched into space between 2010 and 2018')"
      ]
     },
     "execution_count": 278,
     "metadata": {},
     "output_type": "execute_result"
    },
    {
     "data": {
      "image/png": "[encoded data removed]",
      "text/plain": [
       "<Figure size 792x576 with 1 Axes>"
      ]
     },
     "metadata": {
      "needs_background": "light"
     },
     "output_type": "display_data"
    }
   ],
   "source": [
    "spacex_groupby = spacex.groupby(['Landing Outcome v2', 'Launch Site'], as_index=False).agg({'Payload Mass v2':'mean'})\n",
    "\n",
    "print(spacex_groupby.head())\n",
    "\n",
    "\n",
    "sns.mpl.rc(\"figure\", figsize=(11,8))\n",
    "sns.boxplot(x=\"Landing Outcome v2\", y=\"Payload Mass v2\", data= spacex_groupby, palette=\"Set3\").set_title('Boxplot of average Payload Mass (kg) launched into space between 2010 and 2018')\n",
    "\n",
    "\n"
   ]
  },
  {
   "cell_type": "markdown",
   "metadata": {},
   "source": [
    "\n",
    "Failure or uncontrolled landing tend to happen in lighter payload mass."
   ]
  },
  {
   "cell_type": "code",
   "execution_count": null,
   "metadata": {},
   "outputs": [],
   "source": []
  },
  {
   "cell_type": "markdown",
   "metadata": {},
   "source": [
    "## Total number of flights and Mission outcome by Launch Site"
   ]
  },
  {
   "cell_type": "markdown",
   "metadata": {},
   "source": [
    "### Total number of flights"
   ]
  },
  {
   "cell_type": "code",
   "execution_count": 279,
   "metadata": {},
   "outputs": [
    {
     "name": "stdout",
     "output_type": "stream",
     "text": [
      "    Launch Site  Flight Number\n",
      "0   CCAFS LC-40             26\n",
      "1  CCAFS SLC-40              7\n",
      "2    KSC LC-39A             14\n",
      "3   VAFB SLC-4E             10\n"
     ]
    },
    {
     "data": {
      "application/vnd.plotly.v1+json": {
       "config": {
        "linkText": "Export to plot.ly",
        "plotlyServerURL": "https://plot.ly",
        "showLink": true
       },
       "data": [
        {
         "marker": {
          "color": "rgba(255, 153, 51, 0.6)",
          "line": {
           "color": "rgba(255, 153, 51, 1.0)",
           "width": 1
          }
         },
         "name": "Flight Number",
         "orientation": "v",
         "text": "",
         "type": "bar",
         "uid": "c3e91a04-54fb-442d-a28b-b310b9996ef5",
         "x": [
          "CCAFS LC-40",
          "CCAFS SLC-40",
          "KSC LC-39A",
          "VAFB SLC-4E"
         ],
         "y": [
          26,
          7,
          14,
          10
         ]
        }
       ],
       "layout": {
        "legend": {
         "bgcolor": "#F5F6F9",
         "font": {
          "color": "#4D5663"
         }
        },
        "paper_bgcolor": "#F5F6F9",
        "plot_bgcolor": "#F5F6F9",
        "title": {
         "font": {
          "color": "#4D5663"
         },
         "text": "Total number of flights by Launch Site"
        },
        "xaxis": {
         "gridcolor": "#E1E5ED",
         "showgrid": true,
         "tickfont": {
          "color": "#4D5663"
         },
         "title": {
          "font": {
           "color": "#4D5663"
          },
          "text": "Launch Site"
         },
         "zerolinecolor": "#E1E5ED"
        },
        "yaxis": {
         "gridcolor": "#E1E5ED",
         "showgrid": true,
         "tickfont": {
          "color": "#4D5663"
         },
         "title": {
          "font": {
           "color": "#4D5663"
          },
          "text": "Total number of flights"
         },
         "zerolinecolor": "#E1E5ED"
        }
       }
      },
      "text/html": [
       "<div>\n",
       "        \n",
       "        \n",
       "            <div id=\"7137c8b8-d782-49f5-a6e9-f4ef49fa2bb5\" class=\"plotly-graph-div\" style=\"height:525px; width:100%;\"></div>\n",
       "            <script type=\"text/javascript\">\n",
       "                require([\"plotly\"], function(Plotly) {\n",
       "                    window.PLOTLYENV=window.PLOTLYENV || {};\n",
       "                    window.PLOTLYENV.BASE_URL='https://plot.ly';\n",
       "                    \n",
       "                if (document.getElementById(\"7137c8b8-d782-49f5-a6e9-f4ef49fa2bb5\")) {\n",
       "                    Plotly.newPlot(\n",
       "                        '7137c8b8-d782-49f5-a6e9-f4ef49fa2bb5',\n",
       "                        [{\"marker\": {\"color\": \"rgba(255, 153, 51, 0.6)\", \"line\": {\"color\": \"rgba(255, 153, 51, 1.0)\", \"width\": 1}}, \"name\": \"Flight Number\", \"orientation\": \"v\", \"text\": \"\", \"type\": \"bar\", \"uid\": \"c3e91a04-54fb-442d-a28b-b310b9996ef5\", \"x\": [\"CCAFS LC-40\", \"CCAFS SLC-40\", \"KSC LC-39A\", \"VAFB SLC-4E\"], \"y\": [26, 7, 14, 10]}],\n",
       "                        {\"legend\": {\"bgcolor\": \"#F5F6F9\", \"font\": {\"color\": \"#4D5663\"}}, \"paper_bgcolor\": \"#F5F6F9\", \"plot_bgcolor\": \"#F5F6F9\", \"title\": {\"font\": {\"color\": \"#4D5663\"}, \"text\": \"Total number of flights by Launch Site\"}, \"xaxis\": {\"gridcolor\": \"#E1E5ED\", \"showgrid\": true, \"tickfont\": {\"color\": \"#4D5663\"}, \"title\": {\"font\": {\"color\": \"#4D5663\"}, \"text\": \"Launch Site\"}, \"zerolinecolor\": \"#E1E5ED\"}, \"yaxis\": {\"gridcolor\": \"#E1E5ED\", \"showgrid\": true, \"tickfont\": {\"color\": \"#4D5663\"}, \"title\": {\"font\": {\"color\": \"#4D5663\"}, \"text\": \"Total number of flights\"}, \"zerolinecolor\": \"#E1E5ED\"}},\n",
       "                        {\"showLink\": true, \"linkText\": \"Export to plot.ly\", \"plotlyServerURL\": \"https://plot.ly\", \"responsive\": true}\n",
       "                    ).then(function(){\n",
       "                            \n",
       "var gd = document.getElementById('7137c8b8-d782-49f5-a6e9-f4ef49fa2bb5');\n",
       "var x = new MutationObserver(function (mutations, observer) {{\n",
       "        var display = window.getComputedStyle(gd).display;\n",
       "        if (!display || display === 'none') {{\n",
       "            console.log([gd, 'removed!']);\n",
       "            Plotly.purge(gd);\n",
       "            observer.disconnect();\n",
       "        }}\n",
       "}});\n",
       "\n",
       "// Listen for the removal of the full notebook cells\n",
       "var notebookContainer = gd.closest('#notebook-container');\n",
       "if (notebookContainer) {{\n",
       "    x.observe(notebookContainer, {childList: true});\n",
       "}}\n",
       "\n",
       "// Listen for the clearing of the current output cell\n",
       "var outputEl = gd.closest('.output');\n",
       "if (outputEl) {{\n",
       "    x.observe(outputEl, {childList: true});\n",
       "}}\n",
       "\n",
       "                        })\n",
       "                };\n",
       "                });\n",
       "            </script>\n",
       "        </div>"
      ]
     },
     "metadata": {},
     "output_type": "display_data"
    }
   ],
   "source": [
    "\n",
    "\n",
    "flights = spacex.groupby(['Launch Site'], as_index=False).agg({'Flight Number': 'count'})\n",
    "print(flights.head())\n",
    "\n",
    "flights.iplot(kind='bar', x ='Launch Site', xTitle='Launch Site',\n",
    "           yTitle='Total number of flights', title='Total number of flights by Launch Site')\n",
    "\n"
   ]
  },
  {
   "cell_type": "markdown",
   "metadata": {},
   "source": [
    "Launch Site CCAFS LC-40 has launched more flights than the others."
   ]
  },
  {
   "cell_type": "markdown",
   "metadata": {},
   "source": [
    "### Mission outcome by Launch Site"
   ]
  },
  {
   "cell_type": "code",
   "execution_count": 280,
   "metadata": {},
   "outputs": [
    {
     "data": {
      "text/html": [
       "<div>\n",
       "<style scoped>\n",
       "    .dataframe tbody tr th:only-of-type {\n",
       "        vertical-align: middle;\n",
       "    }\n",
       "\n",
       "    .dataframe tbody tr th {\n",
       "        vertical-align: top;\n",
       "    }\n",
       "\n",
       "    .dataframe thead th {\n",
       "        text-align: right;\n",
       "    }\n",
       "</style>\n",
       "<table border=\"1\" class=\"dataframe\">\n",
       "  <thead>\n",
       "    <tr style=\"text-align: right;\">\n",
       "      <th>Mission Outcome</th>\n",
       "      <th>Failure  (in flight)</th>\n",
       "      <th>Success</th>\n",
       "      <th>Success  (payload status unclear)</th>\n",
       "    </tr>\n",
       "    <tr>\n",
       "      <th>Launch Site</th>\n",
       "      <th></th>\n",
       "      <th></th>\n",
       "      <th></th>\n",
       "    </tr>\n",
       "  </thead>\n",
       "  <tbody>\n",
       "    <tr>\n",
       "      <th>CCAFS LC-40</th>\n",
       "      <td>1</td>\n",
       "      <td>25</td>\n",
       "      <td>0</td>\n",
       "    </tr>\n",
       "    <tr>\n",
       "      <th>CCAFS SLC-40</th>\n",
       "      <td>0</td>\n",
       "      <td>6</td>\n",
       "      <td>1</td>\n",
       "    </tr>\n",
       "    <tr>\n",
       "      <th>KSC LC-39A</th>\n",
       "      <td>0</td>\n",
       "      <td>14</td>\n",
       "      <td>0</td>\n",
       "    </tr>\n",
       "    <tr>\n",
       "      <th>VAFB SLC-4E</th>\n",
       "      <td>0</td>\n",
       "      <td>10</td>\n",
       "      <td>0</td>\n",
       "    </tr>\n",
       "  </tbody>\n",
       "</table>\n",
       "</div>"
      ],
      "text/plain": [
       "Mission Outcome  Failure  (in flight)  Success  \\\n",
       "Launch Site                                      \n",
       "CCAFS LC-40                         1       25   \n",
       "CCAFS SLC-40                        0        6   \n",
       "KSC LC-39A                          0       14   \n",
       "VAFB SLC-4E                         0       10   \n",
       "\n",
       "Mission Outcome  Success  (payload status unclear)  \n",
       "Launch Site                                         \n",
       "CCAFS LC-40                                      0  \n",
       "CCAFS SLC-40                                     1  \n",
       "KSC LC-39A                                       0  \n",
       "VAFB SLC-4E                                      0  "
      ]
     },
     "execution_count": 280,
     "metadata": {},
     "output_type": "execute_result"
    }
   ],
   "source": [
    "success = pd.crosstab(spacex[\"Launch Site\"], spacex[\"Mission Outcome\"])\n",
    "success"
   ]
  },
  {
   "cell_type": "code",
   "execution_count": 288,
   "metadata": {},
   "outputs": [
    {
     "data": {
      "text/plain": [
       "0    Success\n",
       "1    Success\n",
       "2    Success\n",
       "3    Success\n",
       "4    Success\n",
       "Name: Mission Outcome v2, dtype: object"
      ]
     },
     "execution_count": 288,
     "metadata": {},
     "output_type": "execute_result"
    }
   ],
   "source": [
    "spacex[\"Mission Outcome v2\"] = spacex[\"Mission Outcome\"].str.replace(r\" ?\\([^)]+\\)\", \"\", regex = True)\n",
    "spacex[\"Mission Outcome v2\"] = spacex[\"Mission Outcome v2\"].str.replace(' ', '')\n",
    "spacex[\"Mission Outcome v2\"].head()"
   ]
  },
  {
   "cell_type": "code",
   "execution_count": 289,
   "metadata": {},
   "outputs": [
    {
     "data": {
      "text/html": [
       "<div>\n",
       "<style scoped>\n",
       "    .dataframe tbody tr th:only-of-type {\n",
       "        vertical-align: middle;\n",
       "    }\n",
       "\n",
       "    .dataframe tbody tr th {\n",
       "        vertical-align: top;\n",
       "    }\n",
       "\n",
       "    .dataframe thead th {\n",
       "        text-align: right;\n",
       "    }\n",
       "</style>\n",
       "<table border=\"1\" class=\"dataframe\">\n",
       "  <thead>\n",
       "    <tr style=\"text-align: right;\">\n",
       "      <th>Mission Outcome v2</th>\n",
       "      <th>Failure</th>\n",
       "      <th>Success</th>\n",
       "    </tr>\n",
       "    <tr>\n",
       "      <th>Launch Site</th>\n",
       "      <th></th>\n",
       "      <th></th>\n",
       "    </tr>\n",
       "  </thead>\n",
       "  <tbody>\n",
       "    <tr>\n",
       "      <th>CCAFS LC-40</th>\n",
       "      <td>1</td>\n",
       "      <td>25</td>\n",
       "    </tr>\n",
       "    <tr>\n",
       "      <th>CCAFS SLC-40</th>\n",
       "      <td>0</td>\n",
       "      <td>7</td>\n",
       "    </tr>\n",
       "    <tr>\n",
       "      <th>KSC LC-39A</th>\n",
       "      <td>0</td>\n",
       "      <td>14</td>\n",
       "    </tr>\n",
       "    <tr>\n",
       "      <th>VAFB SLC-4E</th>\n",
       "      <td>0</td>\n",
       "      <td>10</td>\n",
       "    </tr>\n",
       "  </tbody>\n",
       "</table>\n",
       "</div>"
      ],
      "text/plain": [
       "Mission Outcome v2  Failure  Success\n",
       "Launch Site                         \n",
       "CCAFS LC-40               1       25\n",
       "CCAFS SLC-40              0        7\n",
       "KSC LC-39A                0       14\n",
       "VAFB SLC-4E               0       10"
      ]
     },
     "execution_count": 289,
     "metadata": {},
     "output_type": "execute_result"
    }
   ],
   "source": [
    "success = pd.crosstab(spacex[\"Launch Site\"], spacex[\"Mission Outcome v2\"])\n",
    "success"
   ]
  },
  {
   "cell_type": "code",
   "execution_count": 290,
   "metadata": {},
   "outputs": [
    {
     "data": {
      "application/vnd.plotly.v1+json": {
       "config": {
        "linkText": "Export to plot.ly",
        "plotlyServerURL": "https://plot.ly",
        "showLink": true
       },
       "data": [
        {
         "marker": {
          "color": "rgba(255, 153, 51, 0.6)",
          "line": {
           "color": "rgba(255, 153, 51, 1.0)",
           "width": 1
          }
         },
         "name": "Failure",
         "orientation": "v",
         "text": "",
         "type": "bar",
         "uid": "a3033091-2d6d-4311-be3e-ca7c5aa8256f",
         "x": [
          "CCAFS LC-40",
          "CCAFS SLC-40",
          "KSC LC-39A",
          "VAFB SLC-4E"
         ],
         "y": [
          1,
          0,
          0,
          0
         ]
        },
        {
         "marker": {
          "color": "rgba(55, 128, 191, 0.6)",
          "line": {
           "color": "rgba(55, 128, 191, 1.0)",
           "width": 1
          }
         },
         "name": "Success",
         "orientation": "v",
         "text": "",
         "type": "bar",
         "uid": "6f6cee7e-cd0a-4287-aee1-32869c0263b8",
         "x": [
          "CCAFS LC-40",
          "CCAFS SLC-40",
          "KSC LC-39A",
          "VAFB SLC-4E"
         ],
         "y": [
          25,
          7,
          14,
          10
         ]
        }
       ],
       "layout": {
        "legend": {
         "bgcolor": "#F5F6F9",
         "font": {
          "color": "#4D5663"
         }
        },
        "paper_bgcolor": "#F5F6F9",
        "plot_bgcolor": "#F5F6F9",
        "title": {
         "font": {
          "color": "#4D5663"
         },
         "text": "Mission Outcome by Launch Site"
        },
        "xaxis": {
         "gridcolor": "#E1E5ED",
         "showgrid": true,
         "tickfont": {
          "color": "#4D5663"
         },
         "title": {
          "font": {
           "color": "#4D5663"
          },
          "text": "Launch Site"
         },
         "zerolinecolor": "#E1E5ED"
        },
        "yaxis": {
         "gridcolor": "#E1E5ED",
         "showgrid": true,
         "tickfont": {
          "color": "#4D5663"
         },
         "title": {
          "font": {
           "color": "#4D5663"
          },
          "text": "Mission outcome"
         },
         "zerolinecolor": "#E1E5ED"
        }
       }
      },
      "text/html": [
       "<div>\n",
       "        \n",
       "        \n",
       "            <div id=\"89e3b117-8850-4284-8ecf-5fc2626f4520\" class=\"plotly-graph-div\" style=\"height:525px; width:100%;\"></div>\n",
       "            <script type=\"text/javascript\">\n",
       "                require([\"plotly\"], function(Plotly) {\n",
       "                    window.PLOTLYENV=window.PLOTLYENV || {};\n",
       "                    window.PLOTLYENV.BASE_URL='https://plot.ly';\n",
       "                    \n",
       "                if (document.getElementById(\"89e3b117-8850-4284-8ecf-5fc2626f4520\")) {\n",
       "                    Plotly.newPlot(\n",
       "                        '89e3b117-8850-4284-8ecf-5fc2626f4520',\n",
       "                        [{\"marker\": {\"color\": \"rgba(255, 153, 51, 0.6)\", \"line\": {\"color\": \"rgba(255, 153, 51, 1.0)\", \"width\": 1}}, \"name\": \"Failure\", \"orientation\": \"v\", \"text\": \"\", \"type\": \"bar\", \"uid\": \"a3033091-2d6d-4311-be3e-ca7c5aa8256f\", \"x\": [\"CCAFS LC-40\", \"CCAFS SLC-40\", \"KSC LC-39A\", \"VAFB SLC-4E\"], \"y\": [1, 0, 0, 0]}, {\"marker\": {\"color\": \"rgba(55, 128, 191, 0.6)\", \"line\": {\"color\": \"rgba(55, 128, 191, 1.0)\", \"width\": 1}}, \"name\": \"Success\", \"orientation\": \"v\", \"text\": \"\", \"type\": \"bar\", \"uid\": \"6f6cee7e-cd0a-4287-aee1-32869c0263b8\", \"x\": [\"CCAFS LC-40\", \"CCAFS SLC-40\", \"KSC LC-39A\", \"VAFB SLC-4E\"], \"y\": [25, 7, 14, 10]}],\n",
       "                        {\"legend\": {\"bgcolor\": \"#F5F6F9\", \"font\": {\"color\": \"#4D5663\"}}, \"paper_bgcolor\": \"#F5F6F9\", \"plot_bgcolor\": \"#F5F6F9\", \"title\": {\"font\": {\"color\": \"#4D5663\"}, \"text\": \"Mission Outcome by Launch Site\"}, \"xaxis\": {\"gridcolor\": \"#E1E5ED\", \"showgrid\": true, \"tickfont\": {\"color\": \"#4D5663\"}, \"title\": {\"font\": {\"color\": \"#4D5663\"}, \"text\": \"Launch Site\"}, \"zerolinecolor\": \"#E1E5ED\"}, \"yaxis\": {\"gridcolor\": \"#E1E5ED\", \"showgrid\": true, \"tickfont\": {\"color\": \"#4D5663\"}, \"title\": {\"font\": {\"color\": \"#4D5663\"}, \"text\": \"Mission outcome\"}, \"zerolinecolor\": \"#E1E5ED\"}},\n",
       "                        {\"showLink\": true, \"linkText\": \"Export to plot.ly\", \"plotlyServerURL\": \"https://plot.ly\", \"responsive\": true}\n",
       "                    ).then(function(){\n",
       "                            \n",
       "var gd = document.getElementById('89e3b117-8850-4284-8ecf-5fc2626f4520');\n",
       "var x = new MutationObserver(function (mutations, observer) {{\n",
       "        var display = window.getComputedStyle(gd).display;\n",
       "        if (!display || display === 'none') {{\n",
       "            console.log([gd, 'removed!']);\n",
       "            Plotly.purge(gd);\n",
       "            observer.disconnect();\n",
       "        }}\n",
       "}});\n",
       "\n",
       "// Listen for the removal of the full notebook cells\n",
       "var notebookContainer = gd.closest('#notebook-container');\n",
       "if (notebookContainer) {{\n",
       "    x.observe(notebookContainer, {childList: true});\n",
       "}}\n",
       "\n",
       "// Listen for the clearing of the current output cell\n",
       "var outputEl = gd.closest('.output');\n",
       "if (outputEl) {{\n",
       "    x.observe(outputEl, {childList: true});\n",
       "}}\n",
       "\n",
       "                        })\n",
       "                };\n",
       "                });\n",
       "            </script>\n",
       "        </div>"
      ]
     },
     "metadata": {},
     "output_type": "display_data"
    }
   ],
   "source": [
    "success.iplot(kind='bar', xTitle='Launch Site', \n",
    "           yTitle='Mission outcome', title='Mission Outcome by Launch Site')"
   ]
  },
  {
   "cell_type": "markdown",
   "metadata": {},
   "source": [
    "### Total number of flights & Mission outcome by Launch Site"
   ]
  },
  {
   "cell_type": "code",
   "execution_count": 291,
   "metadata": {},
   "outputs": [
    {
     "data": {
      "text/html": [
       "<div>\n",
       "<style scoped>\n",
       "    .dataframe tbody tr th:only-of-type {\n",
       "        vertical-align: middle;\n",
       "    }\n",
       "\n",
       "    .dataframe tbody tr th {\n",
       "        vertical-align: top;\n",
       "    }\n",
       "\n",
       "    .dataframe thead th {\n",
       "        text-align: right;\n",
       "    }\n",
       "</style>\n",
       "<table border=\"1\" class=\"dataframe\">\n",
       "  <thead>\n",
       "    <tr style=\"text-align: right;\">\n",
       "      <th></th>\n",
       "      <th>Flight Number</th>\n",
       "      <th>Failure</th>\n",
       "      <th>Success</th>\n",
       "    </tr>\n",
       "    <tr>\n",
       "      <th>Launch Site</th>\n",
       "      <th></th>\n",
       "      <th></th>\n",
       "      <th></th>\n",
       "    </tr>\n",
       "  </thead>\n",
       "  <tbody>\n",
       "    <tr>\n",
       "      <th>CCAFS LC-40</th>\n",
       "      <td>26</td>\n",
       "      <td>1</td>\n",
       "      <td>25</td>\n",
       "    </tr>\n",
       "    <tr>\n",
       "      <th>CCAFS SLC-40</th>\n",
       "      <td>7</td>\n",
       "      <td>0</td>\n",
       "      <td>7</td>\n",
       "    </tr>\n",
       "    <tr>\n",
       "      <th>KSC LC-39A</th>\n",
       "      <td>14</td>\n",
       "      <td>0</td>\n",
       "      <td>14</td>\n",
       "    </tr>\n",
       "    <tr>\n",
       "      <th>VAFB SLC-4E</th>\n",
       "      <td>10</td>\n",
       "      <td>0</td>\n",
       "      <td>10</td>\n",
       "    </tr>\n",
       "  </tbody>\n",
       "</table>\n",
       "</div>"
      ],
      "text/plain": [
       "              Flight Number  Failure  Success\n",
       "Launch Site                                  \n",
       "CCAFS LC-40              26        1       25\n",
       "CCAFS SLC-40              7        0        7\n",
       "KSC LC-39A               14        0       14\n",
       "VAFB SLC-4E              10        0       10"
      ]
     },
     "execution_count": 291,
     "metadata": {},
     "output_type": "execute_result"
    }
   ],
   "source": [
    "mix = pd.concat([flights.set_index('Launch Site'), success], axis=1)\n",
    "mix"
   ]
  },
  {
   "cell_type": "code",
   "execution_count": 292,
   "metadata": {},
   "outputs": [
    {
     "data": {
      "application/vnd.plotly.v1+json": {
       "config": {
        "linkText": "Export to plot.ly",
        "plotlyServerURL": "https://plot.ly",
        "showLink": true
       },
       "data": [
        {
         "marker": {
          "color": "rgba(255, 153, 51, 0.6)",
          "line": {
           "color": "rgba(255, 153, 51, 1.0)",
           "width": 1
          }
         },
         "name": "Flight Number",
         "orientation": "v",
         "text": "",
         "type": "bar",
         "uid": "d5afad4f-d602-4352-8cd8-0a8a5bf3c14e",
         "x": [
          "CCAFS LC-40",
          "CCAFS SLC-40",
          "KSC LC-39A",
          "VAFB SLC-4E"
         ],
         "y": [
          26,
          7,
          14,
          10
         ]
        },
        {
         "marker": {
          "color": "rgba(55, 128, 191, 0.6)",
          "line": {
           "color": "rgba(55, 128, 191, 1.0)",
           "width": 1
          }
         },
         "name": "Failure",
         "orientation": "v",
         "text": "",
         "type": "bar",
         "uid": "78dfbb34-6a29-479a-9a85-d9aa69a7c61b",
         "x": [
          "CCAFS LC-40",
          "CCAFS SLC-40",
          "KSC LC-39A",
          "VAFB SLC-4E"
         ],
         "y": [
          1,
          0,
          0,
          0
         ]
        },
        {
         "marker": {
          "color": "rgba(50, 171, 96, 0.6)",
          "line": {
           "color": "rgba(50, 171, 96, 1.0)",
           "width": 1
          }
         },
         "name": "Success",
         "orientation": "v",
         "text": "",
         "type": "bar",
         "uid": "56b61b46-907d-4706-95a1-eb7ce6a6085e",
         "x": [
          "CCAFS LC-40",
          "CCAFS SLC-40",
          "KSC LC-39A",
          "VAFB SLC-4E"
         ],
         "y": [
          25,
          7,
          14,
          10
         ]
        }
       ],
       "layout": {
        "legend": {
         "bgcolor": "#F5F6F9",
         "font": {
          "color": "#4D5663"
         }
        },
        "paper_bgcolor": "#F5F6F9",
        "plot_bgcolor": "#F5F6F9",
        "title": {
         "font": {
          "color": "#4D5663"
         },
         "text": "Total number of flights & Mission Outcome by Launch Site"
        },
        "xaxis": {
         "gridcolor": "#E1E5ED",
         "showgrid": true,
         "tickfont": {
          "color": "#4D5663"
         },
         "title": {
          "font": {
           "color": "#4D5663"
          },
          "text": "Launch Site"
         },
         "zerolinecolor": "#E1E5ED"
        },
        "yaxis": {
         "gridcolor": "#E1E5ED",
         "showgrid": true,
         "tickfont": {
          "color": "#4D5663"
         },
         "title": {
          "font": {
           "color": "#4D5663"
          },
          "text": "Total number of flights & Mission outcome"
         },
         "zerolinecolor": "#E1E5ED"
        }
       }
      },
      "text/html": [
       "<div>\n",
       "        \n",
       "        \n",
       "            <div id=\"ffbbb8ae-2995-4546-a7ff-b2aae1c30ef5\" class=\"plotly-graph-div\" style=\"height:525px; width:100%;\"></div>\n",
       "            <script type=\"text/javascript\">\n",
       "                require([\"plotly\"], function(Plotly) {\n",
       "                    window.PLOTLYENV=window.PLOTLYENV || {};\n",
       "                    window.PLOTLYENV.BASE_URL='https://plot.ly';\n",
       "                    \n",
       "                if (document.getElementById(\"ffbbb8ae-2995-4546-a7ff-b2aae1c30ef5\")) {\n",
       "                    Plotly.newPlot(\n",
       "                        'ffbbb8ae-2995-4546-a7ff-b2aae1c30ef5',\n",
       "                        [{\"marker\": {\"color\": \"rgba(255, 153, 51, 0.6)\", \"line\": {\"color\": \"rgba(255, 153, 51, 1.0)\", \"width\": 1}}, \"name\": \"Flight Number\", \"orientation\": \"v\", \"text\": \"\", \"type\": \"bar\", \"uid\": \"d5afad4f-d602-4352-8cd8-0a8a5bf3c14e\", \"x\": [\"CCAFS LC-40\", \"CCAFS SLC-40\", \"KSC LC-39A\", \"VAFB SLC-4E\"], \"y\": [26, 7, 14, 10]}, {\"marker\": {\"color\": \"rgba(55, 128, 191, 0.6)\", \"line\": {\"color\": \"rgba(55, 128, 191, 1.0)\", \"width\": 1}}, \"name\": \"Failure\", \"orientation\": \"v\", \"text\": \"\", \"type\": \"bar\", \"uid\": \"78dfbb34-6a29-479a-9a85-d9aa69a7c61b\", \"x\": [\"CCAFS LC-40\", \"CCAFS SLC-40\", \"KSC LC-39A\", \"VAFB SLC-4E\"], \"y\": [1, 0, 0, 0]}, {\"marker\": {\"color\": \"rgba(50, 171, 96, 0.6)\", \"line\": {\"color\": \"rgba(50, 171, 96, 1.0)\", \"width\": 1}}, \"name\": \"Success\", \"orientation\": \"v\", \"text\": \"\", \"type\": \"bar\", \"uid\": \"56b61b46-907d-4706-95a1-eb7ce6a6085e\", \"x\": [\"CCAFS LC-40\", \"CCAFS SLC-40\", \"KSC LC-39A\", \"VAFB SLC-4E\"], \"y\": [25, 7, 14, 10]}],\n",
       "                        {\"legend\": {\"bgcolor\": \"#F5F6F9\", \"font\": {\"color\": \"#4D5663\"}}, \"paper_bgcolor\": \"#F5F6F9\", \"plot_bgcolor\": \"#F5F6F9\", \"title\": {\"font\": {\"color\": \"#4D5663\"}, \"text\": \"Total number of flights & Mission Outcome by Launch Site\"}, \"xaxis\": {\"gridcolor\": \"#E1E5ED\", \"showgrid\": true, \"tickfont\": {\"color\": \"#4D5663\"}, \"title\": {\"font\": {\"color\": \"#4D5663\"}, \"text\": \"Launch Site\"}, \"zerolinecolor\": \"#E1E5ED\"}, \"yaxis\": {\"gridcolor\": \"#E1E5ED\", \"showgrid\": true, \"tickfont\": {\"color\": \"#4D5663\"}, \"title\": {\"font\": {\"color\": \"#4D5663\"}, \"text\": \"Total number of flights & Mission outcome\"}, \"zerolinecolor\": \"#E1E5ED\"}},\n",
       "                        {\"showLink\": true, \"linkText\": \"Export to plot.ly\", \"plotlyServerURL\": \"https://plot.ly\", \"responsive\": true}\n",
       "                    ).then(function(){\n",
       "                            \n",
       "var gd = document.getElementById('ffbbb8ae-2995-4546-a7ff-b2aae1c30ef5');\n",
       "var x = new MutationObserver(function (mutations, observer) {{\n",
       "        var display = window.getComputedStyle(gd).display;\n",
       "        if (!display || display === 'none') {{\n",
       "            console.log([gd, 'removed!']);\n",
       "            Plotly.purge(gd);\n",
       "            observer.disconnect();\n",
       "        }}\n",
       "}});\n",
       "\n",
       "// Listen for the removal of the full notebook cells\n",
       "var notebookContainer = gd.closest('#notebook-container');\n",
       "if (notebookContainer) {{\n",
       "    x.observe(notebookContainer, {childList: true});\n",
       "}}\n",
       "\n",
       "// Listen for the clearing of the current output cell\n",
       "var outputEl = gd.closest('.output');\n",
       "if (outputEl) {{\n",
       "    x.observe(outputEl, {childList: true});\n",
       "}}\n",
       "\n",
       "                        })\n",
       "                };\n",
       "                });\n",
       "            </script>\n",
       "        </div>"
      ]
     },
     "metadata": {},
     "output_type": "display_data"
    }
   ],
   "source": [
    "mix.iplot(kind='bar', xTitle='Launch Site', \n",
    "           yTitle='Total number of flights & Mission outcome', title='Total number of flights & Mission Outcome by Launch Site')"
   ]
  },
  {
   "cell_type": "markdown",
   "metadata": {},
   "source": [
    "This bar graph shows the proportion of successes among total number of flights for each Launch Site"
   ]
  },
  {
   "cell_type": "markdown",
   "metadata": {},
   "source": []
  },
  {
   "cell_type": "code",
   "execution_count": null,
   "metadata": {},
   "outputs": [],
   "source": []
  },
  {
   "cell_type": "code",
   "execution_count": 293,
   "metadata": {},
   "outputs": [
    {
     "data": {
      "text/html": [
       "<div>\n",
       "<style scoped>\n",
       "    .dataframe tbody tr th:only-of-type {\n",
       "        vertical-align: middle;\n",
       "    }\n",
       "\n",
       "    .dataframe tbody tr th {\n",
       "        vertical-align: top;\n",
       "    }\n",
       "\n",
       "    .dataframe thead th {\n",
       "        text-align: right;\n",
       "    }\n",
       "</style>\n",
       "<table border=\"1\" class=\"dataframe\">\n",
       "  <thead>\n",
       "    <tr style=\"text-align: right;\">\n",
       "      <th>Landing Outcome v2</th>\n",
       "      <th>Controlled</th>\n",
       "      <th>Failure</th>\n",
       "      <th>Noattempt</th>\n",
       "      <th>Precluded</th>\n",
       "      <th>Success</th>\n",
       "      <th>Uncontrolled</th>\n",
       "    </tr>\n",
       "    <tr>\n",
       "      <th>Launch Site</th>\n",
       "      <th></th>\n",
       "      <th></th>\n",
       "      <th></th>\n",
       "      <th></th>\n",
       "      <th></th>\n",
       "      <th></th>\n",
       "    </tr>\n",
       "  </thead>\n",
       "  <tbody>\n",
       "    <tr>\n",
       "      <th>CCAFS LC-40</th>\n",
       "      <td>3</td>\n",
       "      <td>6</td>\n",
       "      <td>9</td>\n",
       "      <td>1</td>\n",
       "      <td>6</td>\n",
       "      <td>1</td>\n",
       "    </tr>\n",
       "    <tr>\n",
       "      <th>CCAFS SLC-40</th>\n",
       "      <td>1</td>\n",
       "      <td>0</td>\n",
       "      <td>3</td>\n",
       "      <td>0</td>\n",
       "      <td>3</td>\n",
       "      <td>0</td>\n",
       "    </tr>\n",
       "    <tr>\n",
       "      <th>KSC LC-39A</th>\n",
       "      <td>0</td>\n",
       "      <td>0</td>\n",
       "      <td>3</td>\n",
       "      <td>0</td>\n",
       "      <td>11</td>\n",
       "      <td>0</td>\n",
       "    </tr>\n",
       "    <tr>\n",
       "      <th>VAFB SLC-4E</th>\n",
       "      <td>1</td>\n",
       "      <td>1</td>\n",
       "      <td>3</td>\n",
       "      <td>0</td>\n",
       "      <td>4</td>\n",
       "      <td>1</td>\n",
       "    </tr>\n",
       "  </tbody>\n",
       "</table>\n",
       "</div>"
      ],
      "text/plain": [
       "Landing Outcome v2  Controlled  Failure  Noattempt  Precluded  Success  \\\n",
       "Launch Site                                                              \n",
       "CCAFS LC-40                  3        6          9          1        6   \n",
       "CCAFS SLC-40                 1        0          3          0        3   \n",
       "KSC LC-39A                   0        0          3          0       11   \n",
       "VAFB SLC-4E                  1        1          3          0        4   \n",
       "\n",
       "Landing Outcome v2  Uncontrolled  \n",
       "Launch Site                       \n",
       "CCAFS LC-40                    1  \n",
       "CCAFS SLC-40                   0  \n",
       "KSC LC-39A                     0  \n",
       "VAFB SLC-4E                    1  "
      ]
     },
     "execution_count": 293,
     "metadata": {},
     "output_type": "execute_result"
    }
   ],
   "source": [
    "landing = pd.crosstab(spacex[\"Launch Site\"], spacex[\"Landing Outcome v2\"])\n",
    "landing"
   ]
  },
  {
   "cell_type": "markdown",
   "metadata": {},
   "source": [
    "The crosstab shows occurrences in landing outcomes by Launch Site"
   ]
  },
  {
   "cell_type": "code",
   "execution_count": 294,
   "metadata": {},
   "outputs": [
    {
     "data": {
      "application/vnd.plotly.v1+json": {
       "config": {
        "linkText": "Export to plot.ly",
        "plotlyServerURL": "https://plot.ly",
        "showLink": true
       },
       "data": [
        {
         "marker": {
          "color": "rgba(255, 153, 51, 0.6)",
          "line": {
           "color": "rgba(255, 153, 51, 1.0)",
           "width": 1
          }
         },
         "name": "Controlled",
         "orientation": "v",
         "text": "",
         "type": "bar",
         "uid": "85ed750a-7e8e-4b95-857d-f55dfc5640f3",
         "x": [
          "CCAFS LC-40",
          "CCAFS SLC-40",
          "KSC LC-39A",
          "VAFB SLC-4E"
         ],
         "y": [
          3,
          1,
          0,
          1
         ]
        },
        {
         "marker": {
          "color": "rgba(55, 128, 191, 0.6)",
          "line": {
           "color": "rgba(55, 128, 191, 1.0)",
           "width": 1
          }
         },
         "name": "Failure",
         "orientation": "v",
         "text": "",
         "type": "bar",
         "uid": "1edd6c4f-e112-4bfe-80da-b6ba8fce0ba7",
         "x": [
          "CCAFS LC-40",
          "CCAFS SLC-40",
          "KSC LC-39A",
          "VAFB SLC-4E"
         ],
         "y": [
          6,
          0,
          0,
          1
         ]
        },
        {
         "marker": {
          "color": "rgba(50, 171, 96, 0.6)",
          "line": {
           "color": "rgba(50, 171, 96, 1.0)",
           "width": 1
          }
         },
         "name": "Noattempt",
         "orientation": "v",
         "text": "",
         "type": "bar",
         "uid": "8bfc452a-89fd-488c-a4a2-45a448ad54fb",
         "x": [
          "CCAFS LC-40",
          "CCAFS SLC-40",
          "KSC LC-39A",
          "VAFB SLC-4E"
         ],
         "y": [
          9,
          3,
          3,
          3
         ]
        },
        {
         "marker": {
          "color": "rgba(128, 0, 128, 0.6)",
          "line": {
           "color": "rgba(128, 0, 128, 1.0)",
           "width": 1
          }
         },
         "name": "Precluded",
         "orientation": "v",
         "text": "",
         "type": "bar",
         "uid": "1815cf2c-a2a9-4070-b8ba-be10bbfbc353",
         "x": [
          "CCAFS LC-40",
          "CCAFS SLC-40",
          "KSC LC-39A",
          "VAFB SLC-4E"
         ],
         "y": [
          1,
          0,
          0,
          0
         ]
        },
        {
         "marker": {
          "color": "rgba(219, 64, 82, 0.6)",
          "line": {
           "color": "rgba(219, 64, 82, 1.0)",
           "width": 1
          }
         },
         "name": "Success",
         "orientation": "v",
         "text": "",
         "type": "bar",
         "uid": "6deaea87-0079-4d50-a028-2881805aed97",
         "x": [
          "CCAFS LC-40",
          "CCAFS SLC-40",
          "KSC LC-39A",
          "VAFB SLC-4E"
         ],
         "y": [
          6,
          3,
          11,
          4
         ]
        },
        {
         "marker": {
          "color": "rgba(0, 128, 128, 0.6)",
          "line": {
           "color": "rgba(0, 128, 128, 1.0)",
           "width": 1
          }
         },
         "name": "Uncontrolled",
         "orientation": "v",
         "text": "",
         "type": "bar",
         "uid": "12850a68-1cb5-4d67-8d2e-3a57e1cd2edd",
         "x": [
          "CCAFS LC-40",
          "CCAFS SLC-40",
          "KSC LC-39A",
          "VAFB SLC-4E"
         ],
         "y": [
          1,
          0,
          0,
          1
         ]
        }
       ],
       "layout": {
        "legend": {
         "bgcolor": "#F5F6F9",
         "font": {
          "color": "#4D5663"
         }
        },
        "paper_bgcolor": "#F5F6F9",
        "plot_bgcolor": "#F5F6F9",
        "title": {
         "font": {
          "color": "#4D5663"
         },
         "text": "Total number of Landing Outcome by Launch Site"
        },
        "xaxis": {
         "gridcolor": "#E1E5ED",
         "showgrid": true,
         "tickfont": {
          "color": "#4D5663"
         },
         "title": {
          "font": {
           "color": "#4D5663"
          },
          "text": "Launch Site"
         },
         "zerolinecolor": "#E1E5ED"
        },
        "yaxis": {
         "gridcolor": "#E1E5ED",
         "showgrid": true,
         "tickfont": {
          "color": "#4D5663"
         },
         "title": {
          "font": {
           "color": "#4D5663"
          },
          "text": "Total number of Landing outcome"
         },
         "zerolinecolor": "#E1E5ED"
        }
       }
      },
      "text/html": [
       "<div>\n",
       "        \n",
       "        \n",
       "            <div id=\"d84c645d-0e6a-43d3-be58-c51639adaa6d\" class=\"plotly-graph-div\" style=\"height:525px; width:100%;\"></div>\n",
       "            <script type=\"text/javascript\">\n",
       "                require([\"plotly\"], function(Plotly) {\n",
       "                    window.PLOTLYENV=window.PLOTLYENV || {};\n",
       "                    window.PLOTLYENV.BASE_URL='https://plot.ly';\n",
       "                    \n",
       "                if (document.getElementById(\"d84c645d-0e6a-43d3-be58-c51639adaa6d\")) {\n",
       "                    Plotly.newPlot(\n",
       "                        'd84c645d-0e6a-43d3-be58-c51639adaa6d',\n",
       "                        [{\"marker\": {\"color\": \"rgba(255, 153, 51, 0.6)\", \"line\": {\"color\": \"rgba(255, 153, 51, 1.0)\", \"width\": 1}}, \"name\": \"Controlled\", \"orientation\": \"v\", \"text\": \"\", \"type\": \"bar\", \"uid\": \"85ed750a-7e8e-4b95-857d-f55dfc5640f3\", \"x\": [\"CCAFS LC-40\", \"CCAFS SLC-40\", \"KSC LC-39A\", \"VAFB SLC-4E\"], \"y\": [3, 1, 0, 1]}, {\"marker\": {\"color\": \"rgba(55, 128, 191, 0.6)\", \"line\": {\"color\": \"rgba(55, 128, 191, 1.0)\", \"width\": 1}}, \"name\": \"Failure\", \"orientation\": \"v\", \"text\": \"\", \"type\": \"bar\", \"uid\": \"1edd6c4f-e112-4bfe-80da-b6ba8fce0ba7\", \"x\": [\"CCAFS LC-40\", \"CCAFS SLC-40\", \"KSC LC-39A\", \"VAFB SLC-4E\"], \"y\": [6, 0, 0, 1]}, {\"marker\": {\"color\": \"rgba(50, 171, 96, 0.6)\", \"line\": {\"color\": \"rgba(50, 171, 96, 1.0)\", \"width\": 1}}, \"name\": \"Noattempt\", \"orientation\": \"v\", \"text\": \"\", \"type\": \"bar\", \"uid\": \"8bfc452a-89fd-488c-a4a2-45a448ad54fb\", \"x\": [\"CCAFS LC-40\", \"CCAFS SLC-40\", \"KSC LC-39A\", \"VAFB SLC-4E\"], \"y\": [9, 3, 3, 3]}, {\"marker\": {\"color\": \"rgba(128, 0, 128, 0.6)\", \"line\": {\"color\": \"rgba(128, 0, 128, 1.0)\", \"width\": 1}}, \"name\": \"Precluded\", \"orientation\": \"v\", \"text\": \"\", \"type\": \"bar\", \"uid\": \"1815cf2c-a2a9-4070-b8ba-be10bbfbc353\", \"x\": [\"CCAFS LC-40\", \"CCAFS SLC-40\", \"KSC LC-39A\", \"VAFB SLC-4E\"], \"y\": [1, 0, 0, 0]}, {\"marker\": {\"color\": \"rgba(219, 64, 82, 0.6)\", \"line\": {\"color\": \"rgba(219, 64, 82, 1.0)\", \"width\": 1}}, \"name\": \"Success\", \"orientation\": \"v\", \"text\": \"\", \"type\": \"bar\", \"uid\": \"6deaea87-0079-4d50-a028-2881805aed97\", \"x\": [\"CCAFS LC-40\", \"CCAFS SLC-40\", \"KSC LC-39A\", \"VAFB SLC-4E\"], \"y\": [6, 3, 11, 4]}, {\"marker\": {\"color\": \"rgba(0, 128, 128, 0.6)\", \"line\": {\"color\": \"rgba(0, 128, 128, 1.0)\", \"width\": 1}}, \"name\": \"Uncontrolled\", \"orientation\": \"v\", \"text\": \"\", \"type\": \"bar\", \"uid\": \"12850a68-1cb5-4d67-8d2e-3a57e1cd2edd\", \"x\": [\"CCAFS LC-40\", \"CCAFS SLC-40\", \"KSC LC-39A\", \"VAFB SLC-4E\"], \"y\": [1, 0, 0, 1]}],\n",
       "                        {\"legend\": {\"bgcolor\": \"#F5F6F9\", \"font\": {\"color\": \"#4D5663\"}}, \"paper_bgcolor\": \"#F5F6F9\", \"plot_bgcolor\": \"#F5F6F9\", \"title\": {\"font\": {\"color\": \"#4D5663\"}, \"text\": \"Total number of Landing Outcome by Launch Site\"}, \"xaxis\": {\"gridcolor\": \"#E1E5ED\", \"showgrid\": true, \"tickfont\": {\"color\": \"#4D5663\"}, \"title\": {\"font\": {\"color\": \"#4D5663\"}, \"text\": \"Launch Site\"}, \"zerolinecolor\": \"#E1E5ED\"}, \"yaxis\": {\"gridcolor\": \"#E1E5ED\", \"showgrid\": true, \"tickfont\": {\"color\": \"#4D5663\"}, \"title\": {\"font\": {\"color\": \"#4D5663\"}, \"text\": \"Total number of Landing outcome\"}, \"zerolinecolor\": \"#E1E5ED\"}},\n",
       "                        {\"showLink\": true, \"linkText\": \"Export to plot.ly\", \"plotlyServerURL\": \"https://plot.ly\", \"responsive\": true}\n",
       "                    ).then(function(){\n",
       "                            \n",
       "var gd = document.getElementById('d84c645d-0e6a-43d3-be58-c51639adaa6d');\n",
       "var x = new MutationObserver(function (mutations, observer) {{\n",
       "        var display = window.getComputedStyle(gd).display;\n",
       "        if (!display || display === 'none') {{\n",
       "            console.log([gd, 'removed!']);\n",
       "            Plotly.purge(gd);\n",
       "            observer.disconnect();\n",
       "        }}\n",
       "}});\n",
       "\n",
       "// Listen for the removal of the full notebook cells\n",
       "var notebookContainer = gd.closest('#notebook-container');\n",
       "if (notebookContainer) {{\n",
       "    x.observe(notebookContainer, {childList: true});\n",
       "}}\n",
       "\n",
       "// Listen for the clearing of the current output cell\n",
       "var outputEl = gd.closest('.output');\n",
       "if (outputEl) {{\n",
       "    x.observe(outputEl, {childList: true});\n",
       "}}\n",
       "\n",
       "                        })\n",
       "                };\n",
       "                });\n",
       "            </script>\n",
       "        </div>"
      ]
     },
     "metadata": {},
     "output_type": "display_data"
    }
   ],
   "source": [
    "landing.iplot(kind='bar', xTitle='Launch Site', \n",
    "           yTitle='Total number of Landing outcome', title='Total number of Landing Outcome by Launch Site')"
   ]
  },
  {
   "cell_type": "markdown",
   "metadata": {},
   "source": [
    "The bar graph shows total quantity of each landing outcome by launch site. Launch site KSC LC-39A seems to have more successes in absolute value and relatively to other outcomes."
   ]
  },
  {
   "cell_type": "markdown",
   "metadata": {},
   "source": [
    "### Total number of flights by Customer"
   ]
  },
  {
   "cell_type": "code",
   "execution_count": 305,
   "metadata": {},
   "outputs": [
    {
     "name": "stdout",
     "output_type": "stream",
     "text": [
      "                     Customer  Flight Number\n",
      "0                ABS Eutelsat              2\n",
      "1                     AsiaSat              2\n",
      "2                   Bulsatcom              1\n",
      "3                    EchoStar              1\n",
      "4  Hisdesat exactEarth SpaceX              1\n"
     ]
    },
    {
     "data": {
      "text/plain": [
       "<matplotlib.axes._subplots.AxesSubplot at 0x1c293a54e0>"
      ]
     },
     "execution_count": 305,
     "metadata": {},
     "output_type": "execute_result"
    },
    {
     "data": {
      "image/png": "[encoded data removed]",
      "text/plain": [
       "<Figure size 792x576 with 1 Axes>"
      ]
     },
     "metadata": {},
     "output_type": "display_data"
    }
   ],
   "source": [
    "customers = spacex.groupby(['Customer'], as_index=False).agg({'Flight Number': 'count'})\n",
    "print(customers.head())\n",
    "\n",
    "#customers.iplot(kind='bar', x ='Customer', xTitle='Customer',\n",
    "#           yTitle='Total number of flights', title='Total number of flights by Customer')\n",
    "\n",
    "spacex['Flight Number'].groupby(spacex['Customer']).count().plot(kind='pie')\n"
   ]
  },
  {
   "cell_type": "markdown",
   "metadata": {},
   "source": [
    "NASA (CRS) is the biggest customer in terms of flights number.\n",
    "\n",
    "Iridium Communications and SES are second."
   ]
  },
  {
   "cell_type": "markdown",
   "metadata": {},
   "source": [
    "##  Total payload mass by Launch Site from 2010 to 2018"
   ]
  },
  {
   "cell_type": "code",
   "execution_count": 307,
   "metadata": {},
   "outputs": [
    {
     "data": {
      "application/vnd.plotly.v1+json": {
       "config": {
        "linkText": "Export to plot.ly",
        "plotlyServerURL": "https://plot.ly",
        "showLink": true
       },
       "data": [
        {
         "marker": {
          "color": "rgba(255, 153, 51, 1.0)",
          "line": {
           "width": 1.3
          },
          "opacity": 0.8,
          "size": 12,
          "symbol": "circle"
         },
         "mode": "markers",
         "name": "CCAFS LC-40",
         "textfont": {
          "color": "#4D5663"
         },
         "type": "scatter",
         "uid": "7ad51199-1b90-4291-b44a-c6b4c60cdbfa",
         "x": [
          "2010-06-04T00:00:00.000000000",
          "2010-12-08T00:00:00.000000000",
          "2012-05-22T00:00:00.000000000",
          "2012-10-08T00:00:00.000000000",
          "2013-03-01T00:00:00.000000000",
          "2013-12-03T00:00:00.000000000",
          "2014-01-06T00:00:00.000000000",
          "2014-04-18T00:00:00.000000000",
          "2014-07-14T00:00:00.000000000",
          "2014-08-05T00:00:00.000000000",
          "2014-09-07T00:00:00.000000000",
          "2014-09-21T00:00:00.000000000",
          "2015-01-10T00:00:00.000000000",
          "2015-02-11T00:00:00.000000000",
          "2015-03-02T00:00:00.000000000",
          "2015-04-14T00:00:00.000000000",
          "2015-04-27T00:00:00.000000000",
          "2015-06-28T00:00:00.000000000",
          "2015-12-22T00:00:00.000000000",
          "2016-03-04T00:00:00.000000000",
          "2016-04-08T00:00:00.000000000",
          "2016-05-06T00:00:00.000000000",
          "2016-05-27T00:00:00.000000000",
          "2016-06-15T00:00:00.000000000",
          "2016-07-18T00:00:00.000000000",
          "2016-08-14T00:00:00.000000000"
         ],
         "y": [
          null,
          null,
          525,
          500,
          677,
          3170,
          3325,
          2296,
          1316,
          4535,
          4428,
          2216,
          2395,
          570,
          4159,
          1898,
          4707,
          1952,
          2034,
          5271,
          3136,
          4696,
          3100,
          3600,
          2257,
          4600
         ]
        },
        {
         "marker": {
          "color": "rgba(55, 128, 191, 1.0)",
          "line": {
           "width": 1.3
          },
          "opacity": 0.8,
          "size": 12,
          "symbol": "circle"
         },
         "mode": "markers",
         "name": "VAFB SLC-4E",
         "textfont": {
          "color": "#4D5663"
         },
         "type": "scatter",
         "uid": "89627421-ff77-4e19-a510-34622a3b3559",
         "x": [
          "2013-09-29T00:00:00.000000000",
          "2016-01-17T00:00:00.000000000",
          "2017-01-14T00:00:00.000000000",
          "2017-06-25T00:00:00.000000000",
          "2017-08-24T00:00:00.000000000",
          "2017-10-09T00:00:00.000000000",
          "2017-12-23T00:00:00.000000000",
          "2018-02-22T00:00:00.000000000",
          "2018-03-30T00:00:00.000000000",
          "2018-05-22T00:00:00.000000000"
         ],
         "y": [
          500,
          553,
          9600,
          9600,
          475,
          9600,
          9600,
          2150,
          9600,
          6460
         ]
        },
        {
         "marker": {
          "color": "rgba(50, 171, 96, 1.0)",
          "line": {
           "width": 1.3
          },
          "opacity": 0.8,
          "size": 12,
          "symbol": "circle"
         },
         "mode": "markers",
         "name": "KSC LC-39A",
         "textfont": {
          "color": "#4D5663"
         },
         "type": "scatter",
         "uid": "b0a10947-f7e4-4437-998f-8d7958ad55a5",
         "x": [
          "2017-02-19T00:00:00.000000000",
          "2017-03-16T00:00:00.000000000",
          "2017-03-30T00:00:00.000000000",
          "2017-05-01T00:00:00.000000000",
          "2017-05-15T00:00:00.000000000",
          "2017-06-03T00:00:00.000000000",
          "2017-06-23T00:00:00.000000000",
          "2017-07-05T00:00:00.000000000",
          "2017-08-14T00:00:00.000000000",
          "2017-09-07T00:00:00.000000000",
          "2017-10-11T00:00:00.000000000",
          "2017-10-30T00:00:00.000000000",
          "2018-02-06T00:00:00.000000000",
          "2018-05-11T00:00:00.000000000"
         ],
         "y": [
          2490,
          5600,
          5300,
          null,
          6070,
          2708,
          3669,
          6761,
          3310,
          4990,
          5200,
          3500,
          1250,
          3600
         ]
        },
        {
         "marker": {
          "color": "rgba(128, 0, 128, 1.0)",
          "line": {
           "width": 1.3
          },
          "opacity": 0.8,
          "size": 12,
          "symbol": "circle"
         },
         "mode": "markers",
         "name": "CCAFS SLC-40",
         "textfont": {
          "color": "#4D5663"
         },
         "type": "scatter",
         "uid": "bdc74b0a-a4b7-438c-9a54-9bc8c21d278e",
         "x": [
          "2017-12-15T00:00:00.000000000",
          "2018-01-08T00:00:00.000000000",
          "2018-01-31T00:00:00.000000000",
          "2018-03-06T00:00:00.000000000",
          "2018-04-02T00:00:00.000000000",
          "2018-04-18T00:00:00.000000000",
          "2018-06-04T00:00:00.000000000"
         ],
         "y": [
          2205,
          null,
          4230,
          6092,
          2647,
          362,
          5384
         ]
        }
       ],
       "layout": {
        "legend": {
         "bgcolor": "#F5F6F9",
         "font": {
          "color": "#4D5663"
         }
        },
        "paper_bgcolor": "#F5F6F9",
        "plot_bgcolor": "#F5F6F9",
        "title": {
         "font": {
          "color": "#4D5663"
         },
         "text": " Date (x-axis) vs. Payload Mass (kg) (y-axis) "
        },
        "xaxis": {
         "gridcolor": "#E1E5ED",
         "showgrid": true,
         "tickfont": {
          "color": "#4D5663"
         },
         "title": {
          "font": {
           "color": "#4D5663"
          },
          "text": "Year"
         },
         "zerolinecolor": "#E1E5ED"
        },
        "yaxis": {
         "gridcolor": "#E1E5ED",
         "showgrid": true,
         "tickfont": {
          "color": "#4D5663"
         },
         "title": {
          "font": {
           "color": "#4D5663"
          },
          "text": "Payload Mass v2"
         },
         "zerolinecolor": "#E1E5ED"
        }
       }
      },
      "text/html": [
       "<div>\n",
       "        \n",
       "        \n",
       "            <div id=\"c53f249d-dd69-41dc-8685-882d58300c10\" class=\"plotly-graph-div\" style=\"height:525px; width:100%;\"></div>\n",
       "            <script type=\"text/javascript\">\n",
       "                require([\"plotly\"], function(Plotly) {\n",
       "                    window.PLOTLYENV=window.PLOTLYENV || {};\n",
       "                    window.PLOTLYENV.BASE_URL='https://plot.ly';\n",
       "                    \n",
       "                if (document.getElementById(\"c53f249d-dd69-41dc-8685-882d58300c10\")) {\n",
       "                    Plotly.newPlot(\n",
       "                        'c53f249d-dd69-41dc-8685-882d58300c10',\n",
       "                        [{\"marker\": {\"color\": \"rgba(255, 153, 51, 1.0)\", \"line\": {\"width\": 1.3}, \"opacity\": 0.8, \"size\": 12, \"symbol\": \"circle\"}, \"mode\": \"markers\", \"name\": \"CCAFS LC-40\", \"textfont\": {\"color\": \"#4D5663\"}, \"type\": \"scatter\", \"uid\": \"7ad51199-1b90-4291-b44a-c6b4c60cdbfa\", \"x\": [\"2010-06-04T00:00:00.000000000\", \"2010-12-08T00:00:00.000000000\", \"2012-05-22T00:00:00.000000000\", \"2012-10-08T00:00:00.000000000\", \"2013-03-01T00:00:00.000000000\", \"2013-12-03T00:00:00.000000000\", \"2014-01-06T00:00:00.000000000\", \"2014-04-18T00:00:00.000000000\", \"2014-07-14T00:00:00.000000000\", \"2014-08-05T00:00:00.000000000\", \"2014-09-07T00:00:00.000000000\", \"2014-09-21T00:00:00.000000000\", \"2015-01-10T00:00:00.000000000\", \"2015-02-11T00:00:00.000000000\", \"2015-03-02T00:00:00.000000000\", \"2015-04-14T00:00:00.000000000\", \"2015-04-27T00:00:00.000000000\", \"2015-06-28T00:00:00.000000000\", \"2015-12-22T00:00:00.000000000\", \"2016-03-04T00:00:00.000000000\", \"2016-04-08T00:00:00.000000000\", \"2016-05-06T00:00:00.000000000\", \"2016-05-27T00:00:00.000000000\", \"2016-06-15T00:00:00.000000000\", \"2016-07-18T00:00:00.000000000\", \"2016-08-14T00:00:00.000000000\"], \"y\": [null, null, 525.0, 500.0, 677.0, 3170.0, 3325.0, 2296.0, 1316.0, 4535.0, 4428.0, 2216.0, 2395.0, 570.0, 4159.0, 1898.0, 4707.0, 1952.0, 2034.0, 5271.0, 3136.0, 4696.0, 3100.0, 3600.0, 2257.0, 4600.0]}, {\"marker\": {\"color\": \"rgba(55, 128, 191, 1.0)\", \"line\": {\"width\": 1.3}, \"opacity\": 0.8, \"size\": 12, \"symbol\": \"circle\"}, \"mode\": \"markers\", \"name\": \"VAFB SLC-4E\", \"textfont\": {\"color\": \"#4D5663\"}, \"type\": \"scatter\", \"uid\": \"89627421-ff77-4e19-a510-34622a3b3559\", \"x\": [\"2013-09-29T00:00:00.000000000\", \"2016-01-17T00:00:00.000000000\", \"2017-01-14T00:00:00.000000000\", \"2017-06-25T00:00:00.000000000\", \"2017-08-24T00:00:00.000000000\", \"2017-10-09T00:00:00.000000000\", \"2017-12-23T00:00:00.000000000\", \"2018-02-22T00:00:00.000000000\", \"2018-03-30T00:00:00.000000000\", \"2018-05-22T00:00:00.000000000\"], \"y\": [500.0, 553.0, 9600.0, 9600.0, 475.0, 9600.0, 9600.0, 2150.0, 9600.0, 6460.0]}, {\"marker\": {\"color\": \"rgba(50, 171, 96, 1.0)\", \"line\": {\"width\": 1.3}, \"opacity\": 0.8, \"size\": 12, \"symbol\": \"circle\"}, \"mode\": \"markers\", \"name\": \"KSC LC-39A\", \"textfont\": {\"color\": \"#4D5663\"}, \"type\": \"scatter\", \"uid\": \"b0a10947-f7e4-4437-998f-8d7958ad55a5\", \"x\": [\"2017-02-19T00:00:00.000000000\", \"2017-03-16T00:00:00.000000000\", \"2017-03-30T00:00:00.000000000\", \"2017-05-01T00:00:00.000000000\", \"2017-05-15T00:00:00.000000000\", \"2017-06-03T00:00:00.000000000\", \"2017-06-23T00:00:00.000000000\", \"2017-07-05T00:00:00.000000000\", \"2017-08-14T00:00:00.000000000\", \"2017-09-07T00:00:00.000000000\", \"2017-10-11T00:00:00.000000000\", \"2017-10-30T00:00:00.000000000\", \"2018-02-06T00:00:00.000000000\", \"2018-05-11T00:00:00.000000000\"], \"y\": [2490.0, 5600.0, 5300.0, null, 6070.0, 2708.0, 3669.0, 6761.0, 3310.0, 4990.0, 5200.0, 3500.0, 1250.0, 3600.0]}, {\"marker\": {\"color\": \"rgba(128, 0, 128, 1.0)\", \"line\": {\"width\": 1.3}, \"opacity\": 0.8, \"size\": 12, \"symbol\": \"circle\"}, \"mode\": \"markers\", \"name\": \"CCAFS SLC-40\", \"textfont\": {\"color\": \"#4D5663\"}, \"type\": \"scatter\", \"uid\": \"bdc74b0a-a4b7-438c-9a54-9bc8c21d278e\", \"x\": [\"2017-12-15T00:00:00.000000000\", \"2018-01-08T00:00:00.000000000\", \"2018-01-31T00:00:00.000000000\", \"2018-03-06T00:00:00.000000000\", \"2018-04-02T00:00:00.000000000\", \"2018-04-18T00:00:00.000000000\", \"2018-06-04T00:00:00.000000000\"], \"y\": [2205.0, null, 4230.0, 6092.0, 2647.0, 362.0, 5384.0]}],\n",
       "                        {\"legend\": {\"bgcolor\": \"#F5F6F9\", \"font\": {\"color\": \"#4D5663\"}}, \"paper_bgcolor\": \"#F5F6F9\", \"plot_bgcolor\": \"#F5F6F9\", \"title\": {\"font\": {\"color\": \"#4D5663\"}, \"text\": \" Date (x-axis) vs. Payload Mass (kg) (y-axis) \"}, \"xaxis\": {\"gridcolor\": \"#E1E5ED\", \"showgrid\": true, \"tickfont\": {\"color\": \"#4D5663\"}, \"title\": {\"font\": {\"color\": \"#4D5663\"}, \"text\": \"Year\"}, \"zerolinecolor\": \"#E1E5ED\"}, \"yaxis\": {\"gridcolor\": \"#E1E5ED\", \"showgrid\": true, \"tickfont\": {\"color\": \"#4D5663\"}, \"title\": {\"font\": {\"color\": \"#4D5663\"}, \"text\": \"Payload Mass v2\"}, \"zerolinecolor\": \"#E1E5ED\"}},\n",
       "                        {\"showLink\": true, \"linkText\": \"Export to plot.ly\", \"plotlyServerURL\": \"https://plot.ly\", \"responsive\": true}\n",
       "                    ).then(function(){\n",
       "                            \n",
       "var gd = document.getElementById('c53f249d-dd69-41dc-8685-882d58300c10');\n",
       "var x = new MutationObserver(function (mutations, observer) {{\n",
       "        var display = window.getComputedStyle(gd).display;\n",
       "        if (!display || display === 'none') {{\n",
       "            console.log([gd, 'removed!']);\n",
       "            Plotly.purge(gd);\n",
       "            observer.disconnect();\n",
       "        }}\n",
       "}});\n",
       "\n",
       "// Listen for the removal of the full notebook cells\n",
       "var notebookContainer = gd.closest('#notebook-container');\n",
       "if (notebookContainer) {{\n",
       "    x.observe(notebookContainer, {childList: true});\n",
       "}}\n",
       "\n",
       "// Listen for the clearing of the current output cell\n",
       "var outputEl = gd.closest('.output');\n",
       "if (outputEl) {{\n",
       "    x.observe(outputEl, {childList: true});\n",
       "}}\n",
       "\n",
       "                        })\n",
       "                };\n",
       "                });\n",
       "            </script>\n",
       "        </div>"
      ]
     },
     "metadata": {},
     "output_type": "display_data"
    }
   ],
   "source": [
    "spacex.iplot(x='Date1', y='Payload Mass v2', categories='Launch Site',\n",
    "           xTitle='Year', yTitle='Payload Mass v2',\n",
    "           title=' Date (x-axis) vs. Payload Mass (kg) (y-axis) ')\n",
    "\n"
   ]
  },
  {
   "cell_type": "markdown",
   "metadata": {},
   "source": [
    "KSC LC-39A started to launched in late 2017, whereas CCAFS LC-40 started right in 2012.\n",
    "CCAFS SLC-40 is the lastest Launch Site to be in action.\n",
    "\n",
    "VAFB SLC-4E is the Launch Site that launches the heaviest Payload Mass, compared to the others."
   ]
  },
  {
   "cell_type": "markdown",
   "metadata": {},
   "source": []
  }
 ],
 "metadata": {
  "kernelspec": {
   "display_name": "Python 3",
   "language": "python",
   "name": "python3"
  },
  "language_info": {
   "codemirror_mode": {
    "name": "ipython",
    "version": 3
   },
   "file_extension": ".py",
   "mimetype": "text/x-python",
   "name": "python",
   "nbconvert_exporter": "python",
   "pygments_lexer": "ipython3",
   "version": "3.7.3"
  }
 },
 "nbformat": 4,
 "nbformat_minor": 2
}
