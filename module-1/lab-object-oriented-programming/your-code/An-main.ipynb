{
 "cells": [
  {
   "cell_type": "code",
   "execution_count": 26,
   "metadata": {},
   "outputs": [
    {
     "name": "stdout",
     "output_type": "stream",
     "text": [
      "[1, 2, 3]\n",
      "[4, 5, 6]\n"
     ]
    }
   ],
   "source": [
    "mat = ([[1,2,3], [4,5,6]])  \n",
    "for depth in mat:\n",
    "    print(depth)"
   ]
  },
  {
   "cell_type": "code",
   "execution_count": 52,
   "metadata": {},
   "outputs": [],
   "source": [
    "def twodim(mat):\n",
    "    # This function takes a list of lists and checks that it is of depth 2. \n",
    "    # If the depth is not 2, either return false or return informative errors that let the user know the depth of the list.\n",
    "    # Input: nested list\n",
    "    # Output: Boolean (or error)\n",
    "    # Sample Input: [[1,2,3], [4,5,6]]\n",
    "    # Sample Output: True\n",
    "    # Your Code Here:\n",
    "    if type(mat) is list:\n",
    "        if type(mat[0]) is list:\n",
    "            if type(mat[0][0]) is list:\n",
    "                print(\"Entered matrix is not of length 2\")\n",
    "                return False\n",
    "            return True\n",
    "        else:\n",
    "            print(\"Entered matrix is not of length 2\")\n",
    "            return False\n"
   ]
  },
  {
   "cell_type": "code",
   "execution_count": 27,
   "metadata": {},
   "outputs": [
    {
     "data": {
      "text/plain": [
       "True"
      ]
     },
     "execution_count": 27,
     "metadata": {},
     "output_type": "execute_result"
    }
   ],
   "source": [
    "twodim(mat)"
   ]
  },
  {
   "cell_type": "code",
   "execution_count": 58,
   "metadata": {},
   "outputs": [
    {
     "data": {
      "text/plain": [
       "2"
      ]
     },
     "execution_count": 58,
     "metadata": {},
     "output_type": "execute_result"
    }
   ],
   "source": [
    "#Hint: stop your recursion when there are no more lists, this will be the depth of your matrix. \n",
    "#Check that this depth is equal to 2. Second Hint: At every level of the recursion, \n",
    "# use the filter function to keep only the members of the list that are lists.\n",
    "def twodimrecursive(mat):      \n",
    "    if type(mat) is list:\n",
    "        return twodimrecursive(mat[0])+1\n",
    "    else:\n",
    "        return 0\n",
    "\n",
    "twodimrecursive(mat)"
   ]
  },
  {
   "cell_type": "code",
   "execution_count": null,
   "metadata": {},
   "outputs": [],
   "source": []
  },
  {
   "cell_type": "code",
   "execution_count": null,
   "metadata": {},
   "outputs": [],
   "source": [
    "\n"
   ]
  },
  {
   "cell_type": "code",
   "execution_count": 35,
   "metadata": {},
   "outputs": [],
   "source": [
    "\"\"\"\n",
    "\n",
    "def twodimrecursive(mat):\n",
    "    depth=0\n",
    "    # Your code here:\n",
    "    for list_ in mat:\n",
    "        print(list_)\n",
    "        if isinstance(list_, list):\n",
    "            print(True)\n",
    "            depth += 1\n",
    "            print(depth)\n",
    "    return depth\n",
    "\n",
    "\n",
    "def twodimrecursive(mat):\n",
    "    # Your code here:\n",
    "    is_list = list(filter(lambda x: isinstance(x, list), mat))\n",
    "    depth = len(is_list)\n",
    "    print(depth)\n",
    "    if depth == 2:\n",
    "        return True\n",
    "\"\"\""
   ]
  },
  {
   "cell_type": "code",
   "execution_count": 36,
   "metadata": {},
   "outputs": [
    {
     "name": "stdout",
     "output_type": "stream",
     "text": [
      "2\n"
     ]
    },
    {
     "data": {
      "text/plain": [
       "True"
      ]
     },
     "execution_count": 36,
     "metadata": {},
     "output_type": "execute_result"
    }
   ],
   "source": [
    "twodimrecursive(mat)\n"
   ]
  },
  {
   "cell_type": "code",
   "execution_count": 32,
   "metadata": {},
   "outputs": [
    {
     "data": {
      "text/plain": [
       "[[1, 2, 3], [4, 5, 6]]"
      ]
     },
     "execution_count": 32,
     "metadata": {},
     "output_type": "execute_result"
    }
   ],
   "source": [
    "#is_list = list(filter(lambda x: isinstance(x, list), mat))\n",
    "#is_list\n"
   ]
  },
  {
   "cell_type": "code",
   "execution_count": 45,
   "metadata": {},
   "outputs": [],
   "source": [
    "def rowcolumn(mat):\n",
    "    # This function takes a list of lists and returns the size of the rows and the columns \n",
    "    # Input: list of lists\n",
    "    # Output: Tuple of rows and columns\n",
    "    #\n",
    "    # Sample input: [[1,2,3],[4,5,6]]\n",
    "    # Sample Output: (2, 3)\n",
    "    \n",
    "    # Your code here:\n",
    "    tup = tuple((len(mat), len(mat[0])))\n",
    "    return tup\n"
   ]
  },
  {
   "cell_type": "code",
   "execution_count": 47,
   "metadata": {},
   "outputs": [
    {
     "name": "stdout",
     "output_type": "stream",
     "text": [
      "(2, 3)\n"
     ]
    },
    {
     "data": {
      "text/plain": [
       "(3, 4)"
      ]
     },
     "execution_count": 47,
     "metadata": {},
     "output_type": "execute_result"
    }
   ],
   "source": [
    "mat = [[1,2,3],[4,5,6]]\n",
    "\n",
    "print(rowcolumn(mat))\n",
    "rowcolumn([[1,2,3,4], [1,2,3,4],[1,2,3,4]])"
   ]
  },
  {
   "cell_type": "code",
   "execution_count": 67,
   "metadata": {},
   "outputs": [],
   "source": [
    "def compare(mat1, mat2):\n",
    "    # This function takes a two lists of lists and checks whether they have the same number of rows and columns\n",
    "    # Input: two list of lists\n",
    "    # Output: True or False\n",
    "    #\n",
    "    # Sample input: [[1,2,3],[4,5,6]], [[7,8,9], [10,11,12]]\n",
    "    # Sample Output: True\n",
    "    tup1 = tuple((len(mat1), len(mat1[0])))\n",
    "    tup2 = tuple((len(mat2), len(mat2[0])))\n",
    "\n",
    "    # Your code here:\n",
    "    if tup1 == tup2:\n",
    "        return True\n",
    "    else:\n",
    "        return False"
   ]
  },
  {
   "cell_type": "code",
   "execution_count": 71,
   "metadata": {},
   "outputs": [
    {
     "data": {
      "text/plain": [
       "True"
      ]
     },
     "execution_count": 71,
     "metadata": {},
     "output_type": "execute_result"
    }
   ],
   "source": [
    "compare([[1,2,3],[4,5,6]], [[7,8,9], [10,11,12]])"
   ]
  },
  {
   "cell_type": "code",
   "execution_count": null,
   "metadata": {},
   "outputs": [],
   "source": [
    "\n"
   ]
  },
  {
   "cell_type": "code",
   "execution_count": 112,
   "metadata": {},
   "outputs": [],
   "source": [
    "def addition(mat1, mat2):\n",
    "    # This function takes a two lists of lists and adds each cell together\n",
    "    # Input: two list of lists\n",
    "    # Output: one summed list of lists\n",
    "    #\n",
    "    # Sample input: [[1,2,3],[4,5,6]], [[7,8,9], [10,11,12]]\n",
    "    # Sample Output: [[8,10,12],[14,16,18]]\n",
    "    tup1 = tuple((len(mat1), len(mat1[0])))\n",
    "    tup2 = tuple((len(mat2), len(mat2[0])))\n",
    "\n",
    "    # Your code here:\n",
    "    if tup1 == tup2:\n",
    "        mat_f=[]\n",
    "        for row in range(len(mat1)):\n",
    "            a = [i for i in mat1[row]]\n",
    "            b = [i for i in mat2[row]]\n",
    "            mat_f.append([a[i]+b[i] for i in range(len(a))])\n",
    "        return mat_f\n"
   ]
  },
  {
   "cell_type": "code",
   "execution_count": 30,
   "metadata": {},
   "outputs": [],
   "source": [
    "def addition(mat1, mat2):\n",
    "    # This function takes a two lists of lists and adds each cell together\n",
    "    # Input: two list of lists\n",
    "    # Output: one summed list of lists\n",
    "    #\n",
    "    # Sample input: [[1,2,3],[4,5,6]], [[7,8,9], [10,11,12]]\n",
    "    # Sample Output: [[8,10,12],[14,16,18]]\n",
    "    tup1 = tuple((len(mat1), len(mat1[0])))\n",
    "    tup2 = tuple((len(mat2), len(mat2[0])))\n",
    "\n",
    "    # Your code here:\n",
    "    if tup1 == tup2:\n",
    "        # return [[i1 + i2 for i1, i2 in zip(sublist1, sublist2)] for sublist1, sublist2 in zip(mat1, mat2)]\n",
    "        result = []\n",
    "        for sublist1, sublist2 in zip(mat1, mat2):\n",
    "            result.append([i1 + i2 for i1, i2 in zip(sublist1, sublist2)])\n",
    "            print(result)\n",
    "            \n",
    "        return result\n",
    "    else:\n",
    "        return None\n",
    "            \n",
    "        #for i1, i2 in zip(sublist1, sublist2):\n",
    "                #print(i1, i2)\n",
    "                #mat_f.append([a[i]+b[i] for i in range(len(a))])\n",
    "        #return mat_f\n"
   ]
  },
  {
   "cell_type": "code",
   "execution_count": 31,
   "metadata": {},
   "outputs": [
    {
     "name": "stdout",
     "output_type": "stream",
     "text": [
      "[[8, 10, 12]]\n",
      "[[8, 10, 12], [14, 16, 18]]\n",
      "[[8, 10, 12], [14, 16, 18]]\n"
     ]
    }
   ],
   "source": [
    "print(addition([[1,2,3],[4,5,6]], [[7,8,9], [10,11,12]]))"
   ]
  },
  {
   "cell_type": "code",
   "execution_count": 143,
   "metadata": {},
   "outputs": [],
   "source": [
    "class Matrix2D:\n",
    "    # First, we will write the __init__ function. \n",
    "    # In this function, we will initialize rows and the columns using the matrix that we have passed to the class.\n",
    "    \n",
    "    def __init__(self, mat):\n",
    "        # Assign mat to self.mat\n",
    "        # Assign rows and cols to self.rows and self.cols\n",
    "        # To find the rows and the cols, use the rowcolumn function and pass self.mat to the function.\n",
    "        # Since the rowcolumn function is now a member of the class, make sure to refer to the function as self.rowcolumn\n",
    "        # Your code here:\n",
    "        \n",
    "        self.mat = mat\n",
    "        self.rows = self.rowcolumn(self.mat)[0]\n",
    "        self.cols = self.rowcolumn(self.mat)[1]    \n",
    "    \n",
    "    # Insert the twodim function here.\n",
    "    # The only change you need to make is that now we are passing self and mat to the function (make sure self is first).\n",
    "    # Your code here:\n",
    "\n",
    "    def twodim(self, mat):\n",
    "    # This function takes a list of lists and checks that it is of depth 2. \n",
    "        if len(mat)==2:\n",
    "            return True\n",
    "        else:\n",
    "            print(\"Entered matrix is not of length 2\")\n",
    "    \n",
    "    # Insert the rowcolumn function here.\n",
    "    # The changes you need to make: \n",
    "    # 1. The function now takes self and mat as arguments (make sure to pass self first).\n",
    "    # 2. Any reference to twodim will be changed to self.twodim since this function is a member of the class and takes self \n",
    "    # Your code here:\n",
    "    \n",
    "    def rowcolumn(self, mat):\n",
    "    # This function takes a list of lists and returns the size of the rows and the columns \n",
    "    # Input: list of lists\n",
    "    # Output: Tuple of rows and columns\n",
    "    # Your code here:\n",
    "    \n",
    "        tup = tuple((len(mat), len(mat[0])))\n",
    "        return tup\n",
    "    \n",
    "    \n",
    "    # Insert the compare function here\n",
    "    # Add self as the first argument passed to the function\n",
    "    \n",
    "    # Your code here:\n",
    "\n",
    "    def compare(self, mat2):\n",
    "        # This function takes a two lists of lists and checks whether they have the same number of rows and columns\n",
    "        # Input: two list of lists\n",
    "        # Output: True or False\n",
    "\n",
    "        # Your code here:\n",
    "        \n",
    "        tup1 = self.rowcolumn(self.mat)\n",
    "        tup2 = self.rowcolumn(mat2)\n",
    "        if tup1 == tup2 :\n",
    "            return True\n",
    "        else:\n",
    "            return False\n",
    "        \n",
    "    \n",
    "    # Insert the addition function here\n",
    "    # This function now takes self and matrix (another matrix of the Matrix2D class)\n",
    "    # Change the compare function to self.compare \n",
    "    # Change any reference to mat1 and mat2 to self.mat and matrix.mat respectively\n",
    "    # Return your result as a Matrix2D(result). This will ensure that we return a new matrix and not a list of lists.\n",
    "    \n",
    "    # Your code here:\n",
    "    def addition(self, matrix):\n",
    "    # This function takes a two lists of lists and adds each cell together\n",
    "    # Input: two list of lists\n",
    "    # Output: one summed list of lists\n",
    "\n",
    "    # Your code here:\n",
    "    \n",
    "        if self.compare(matrix.mat):\n",
    "            mat_f=[]\n",
    "            for row in range(len(self.mat)):\n",
    "                a = [i for i in self.mat[row]]\n",
    "                b = [i for i in matrix.mat[row]]\n",
    "                mat_f.append([a[i]+b[i] for i in range(len(a))])\n",
    "            return Matrix2D(mat_f)\n"
   ]
  },
  {
   "cell_type": "code",
   "execution_count": 144,
   "metadata": {},
   "outputs": [
    {
     "data": {
      "text/plain": [
       "[[8, 10, 12], [14, 16, 18]]"
      ]
     },
     "execution_count": 144,
     "metadata": {},
     "output_type": "execute_result"
    }
   ],
   "source": [
    "Matrix2D([[1,2,3],[4,5,6]]).addition(Matrix2D([[7,8,9],[10,11,12]])).mat"
   ]
  },
  {
   "cell_type": "code",
   "execution_count": 149,
   "metadata": {},
   "outputs": [
    {
     "data": {
      "text/plain": [
       "[(1, 4), (2, 5), (3, 6)]"
      ]
     },
     "execution_count": 149,
     "metadata": {},
     "output_type": "execute_result"
    }
   ],
   "source": [
    "mat=[[1,2,3],[4,5,6]]\n",
    "mat[0]\n",
    "\n",
    "x = [1, 2, 3]\n",
    "y = [4, 5, 6]\n",
    "list(zip(x, y))\n"
   ]
  },
  {
   "cell_type": "code",
   "execution_count": 154,
   "metadata": {},
   "outputs": [],
   "source": [
    "def transpose(mat):\n",
    "    # This function takes a list of lists and returns a transposed list of lists.\n",
    "    # Input: list of lists\n",
    "    # Output: list of lists\n",
    "    \n",
    "    # Sample Input: [[1,2,3],[4,5,6]]\n",
    "    # Sample Output: [[1,4], [2,5], [3,6]]\n",
    "    \n",
    "    # Your code here:\n",
    "    return list(zip(mat[0],mat[1]))\n",
    "  "
   ]
  },
  {
   "cell_type": "code",
   "execution_count": 155,
   "metadata": {},
   "outputs": [
    {
     "data": {
      "text/plain": [
       "[(1, 4), (2, 5), (3, 6)]"
      ]
     },
     "execution_count": 155,
     "metadata": {},
     "output_type": "execute_result"
    }
   ],
   "source": [
    "transpose([[1,2,3],[4,5,6]])"
   ]
  },
  {
   "cell_type": "code",
   "execution_count": 158,
   "metadata": {},
   "outputs": [],
   "source": [
    "class Matrix2D:\n",
    "    # First, we will write the __init__ function. \n",
    "    # In this function, we will initialize rows and the columns using the matrix that we have passed to the class.\n",
    "    \n",
    "    def __init__(self, mat):\n",
    "        # Assign mat to self.mat\n",
    "        # Assign rows and cols to self.rows and self.cols\n",
    "        # To find the rows and the cols, use the rowcolumn function and pass self.mat to the function.\n",
    "        # Since the rowcolumn function is now a member of the class, make sure to refer to the function as self.rowcolumn\n",
    "        # Your code here:\n",
    "        \n",
    "        self.mat = mat\n",
    "        self.rows = self.rowcolumn(self.mat)[0]\n",
    "        self.cols = self.rowcolumn(self.mat)[1]    \n",
    "    \n",
    "    # Insert the twodim function here.\n",
    "    # The only change you need to make is that now we are passing self and mat to the function (make sure self is first).\n",
    "    # Your code here:\n",
    "\n",
    "    def twodim(self, mat):\n",
    "    # This function takes a list of lists and checks that it is of depth 2. \n",
    "        if len(mat)==2:\n",
    "            return True\n",
    "        else:\n",
    "            print(\"Entered matrix is not of length 2\")\n",
    "    \n",
    "    # Insert the rowcolumn function here.\n",
    "    # The changes you need to make: \n",
    "    # 1. The function now takes self and mat as arguments (make sure to pass self first).\n",
    "    # 2. Any reference to twodim will be changed to self.twodim since this function is a member of the class and takes self \n",
    "    # Your code here:\n",
    "    \n",
    "    def rowcolumn(self, mat):\n",
    "    # This function takes a list of lists and returns the size of the rows and the columns \n",
    "    # Input: list of lists\n",
    "    # Output: Tuple of rows and columns\n",
    "    # Your code here:\n",
    "    \n",
    "        tup = tuple((len(mat), len(mat[0])))\n",
    "        return tup\n",
    "    \n",
    "    \n",
    "    # Insert the compare function here\n",
    "    # Add self as the first argument passed to the function\n",
    "    \n",
    "    # Your code here:\n",
    "\n",
    "    def compare(self, mat2):\n",
    "        # This function takes a two lists of lists and checks whether they have the same number of rows and columns\n",
    "        # Input: two list of lists\n",
    "        # Output: True or False\n",
    "\n",
    "        # Your code here:\n",
    "        \n",
    "        tup1 = self.rowcolumn(self.mat)\n",
    "        tup2 = self.rowcolumn(mat2)\n",
    "        if tup1 == tup2 :\n",
    "            return True\n",
    "        else:\n",
    "            return False\n",
    "        \n",
    "        \n",
    "        \n",
    "    def transpose(matrice):\n",
    "        # This function takes a list of lists and returns a transposed list of lists.\n",
    "        # Input: list of lists\n",
    "        # Output: list of lists\n",
    "\n",
    "        # Sample Input: [[1,2,3],[4,5,6]]\n",
    "        # Sample Output: [[1,4], [2,5], [3,6]]\n",
    "\n",
    "        # Your code here:\n",
    "        return list(zip(matrice[0],matrice[1]))\n",
    "    \n",
    "    \n",
    "    \n",
    "    # Insert the addition function here\n",
    "    # This function now takes self and matrix (another matrix of the Matrix2D class)\n",
    "    # Change the compare function to self.compare \n",
    "    # Change any reference to mat1 and mat2 to self.mat and matrix.mat respectively\n",
    "    # Return your result as a Matrix2D(result). This will ensure that we return a new matrix and not a list of lists.\n",
    "    \n",
    "    # Your code here:\n",
    "    def addition_transpose(self, matrix):\n",
    "    # This function takes a two lists of lists and adds each cell together\n",
    "    # Input: two list of lists\n",
    "    # Output: one summed list of lists\n",
    "\n",
    "    # Your code here:\n",
    "    \n",
    "        if self.compare(matrix.mat):\n",
    "            mat_f=[]\n",
    "            for row in range(len(self.mat)):\n",
    "                a = [i for i in self.mat[row]]\n",
    "                b = [i for i in matrix.mat[row]]\n",
    "                mat_f.append([a[i]+b[i] for i in range(len(a))])\n",
    "            \n",
    "            return Matrix2D(transpose(mat_f))\n"
   ]
  },
  {
   "cell_type": "code",
   "execution_count": 159,
   "metadata": {},
   "outputs": [
    {
     "data": {
      "text/plain": [
       "[(8, 14), (10, 16), (12, 18)]"
      ]
     },
     "execution_count": 159,
     "metadata": {},
     "output_type": "execute_result"
    }
   ],
   "source": [
    "Matrix2D([[1,2,3],[4,5,6]]).addition_transpose(Matrix2D([[7,8,9],[10,11,12]])).mat"
   ]
  },
  {
   "cell_type": "code",
   "execution_count": null,
   "metadata": {},
   "outputs": [],
   "source": []
  }
 ],
 "metadata": {
  "kernelspec": {
   "display_name": "Python 3",
   "language": "python",
   "name": "python3"
  },
  "language_info": {
   "codemirror_mode": {
    "name": "ipython",
    "version": 3
   },
   "file_extension": ".py",
   "mimetype": "text/x-python",
   "name": "python",
   "nbconvert_exporter": "python",
   "pygments_lexer": "ipython3",
   "version": "3.7.3"
  }
 },
 "nbformat": 4,
 "nbformat_minor": 2
}
