{
 "cells": [
  {
   "cell_type": "markdown",
   "metadata": {},
   "source": [
    "# Before your start:\n",
    "- Read the README.md file\n",
    "- Comment as much as you can and use the resources in the README.md file\n",
    "- Happy learning!"
   ]
  },
  {
   "cell_type": "markdown",
   "metadata": {},
   "source": [
    "# Challenge 1 - Matrix Functions\n",
    "\n",
    "#### We would like to create our own matrix. To make life simple for us, we can represent matrices as a list of lists. For the sake of simplicity, we will assume that the maximum number of dimensions a matrix will have is 2.\n",
    "\n",
    "The most basic thing we would like to do with two matrices is to add them together. To add two matrices, we must perform a number of checks. The first check we would like to perform is whether the matrix is two dimesional. This is because we want to limit ourselves to two dimensional matrices to simplify our problem. In the cell below write a function that checks is a matrix is two dimesional. "
   ]
  },
  {
   "cell_type": "code",
   "execution_count": 15,
   "metadata": {},
   "outputs": [],
   "source": [
    "def twodim(mat):\n",
    "    # This function takes a list of lists and checks that it is of depth 2. \n",
    "    # If the depth is not 2, either return false or return informative errors that let the user know the depth of the list.\n",
    "    # Input: nested list\n",
    "    # Output: Boolean (or error)\n",
    "    # Sample Input: [[1,2,3], [4,5,6]]\n",
    "    # Sample Output: True\n",
    "    # Your Code Here:\n",
    "    if type(mat) is list:\n",
    "        if type(mat[0]) is list:\n",
    "            if type(mat[0][0]) is list:\n",
    "                print(\"Entered matrix is not of length 2\")\n",
    "                return False\n",
    "            return True\n",
    "        else:\n",
    "            print(\"Entered matrix is not of length 2\")\n",
    "            return False\n"
   ]
  },
  {
   "cell_type": "code",
   "execution_count": 16,
   "metadata": {},
   "outputs": [
    {
     "data": {
      "text/plain": [
       "True"
      ]
     },
     "execution_count": 16,
     "metadata": {},
     "output_type": "execute_result"
    }
   ],
   "source": [
    "twodim([[1,2,3], [4,5,6]])"
   ]
  },
  {
   "cell_type": "code",
   "execution_count": 17,
   "metadata": {},
   "outputs": [],
   "source": [
    "mat = [[1,2,3], [4,5,6]]\n",
    "#len(mat)\n",
    "#import numpy as np\n",
    "#np.shape(mat)[0]\n"
   ]
  },
  {
   "cell_type": "code",
   "execution_count": 13,
   "metadata": {},
   "outputs": [],
   "source": [
    "#print(len([[1,2,4,5], [1,2,3], [1,2,3]]))"
   ]
  },
  {
   "cell_type": "markdown",
   "metadata": {},
   "source": [
    "# Bonus Challenge 1 - Write the function recursively\n",
    "\n",
    "Rewrite the `twodim` function using recursion. \n",
    "Read more about recursion [here](https://www.cs.utah.edu/~germain/PPS/Topics/recursion.html)\n",
    "\n",
    "Hint: stop your recursion when there are no more lists, this wil be the depth of your matrix. Check that this depth is equal to 2.\n",
    "Second Hint: At every level of the recursion, use the filter function to keep only the members of the list that are lists."
   ]
  },
  {
   "cell_type": "code",
   "execution_count": 20,
   "metadata": {},
   "outputs": [],
   "source": [
    "#Hint: stop your recursion when there are no more lists, this will be the depth of your matrix. \n",
    "#Check that this depth is equal to 2. Second Hint: At every level of the recursion, \n",
    "# use the filter function to keep only the members of the list that are lists.\n",
    "def twodimrecursive(mat):      \n",
    "    if type(mat) is list:\n",
    "        return twodimrecursive(mat[0])+1\n",
    "    else:\n",
    "        return 0\n",
    "\n"
   ]
  },
  {
   "cell_type": "code",
   "execution_count": null,
   "metadata": {},
   "outputs": [],
   "source": [
    "\n",
    " "
   ]
  },
  {
   "cell_type": "code",
   "execution_count": null,
   "metadata": {},
   "outputs": [],
   "source": []
  },
  {
   "cell_type": "code",
   "execution_count": 21,
   "metadata": {},
   "outputs": [
    {
     "data": {
      "text/plain": [
       "2"
      ]
     },
     "execution_count": 21,
     "metadata": {},
     "output_type": "execute_result"
    }
   ],
   "source": [
    "twodimrecursive([[1,2,3],[1,2]])"
   ]
  },
  {
   "cell_type": "markdown",
   "metadata": {},
   "source": [
    "#### Next, we will write a function that checks for the number of rows and columns of a matrix. \n",
    "\n",
    "Recall that the outer list will tell us the number of rows and the inner lists will tell us the number of columns. Make sure that all inner lists are of the same length."
   ]
  },
  {
   "cell_type": "code",
   "execution_count": 171,
   "metadata": {},
   "outputs": [],
   "source": [
    "def rowcolumn(mat):\n",
    "    # This function takes a list of lists and returns the size of the rows and the columns \n",
    "    # Input: list of lists\n",
    "    # Output: Tuple of rows and columns\n",
    "    #\n",
    "    # Sample input: [[1,2,3],[4,5,6]]\n",
    "    # Sample Output: (2, 3)\n",
    "    \n",
    "    # Your code here:\n",
    "    tup = tuple((len(mat), len(mat[0])))\n",
    "    return tup\n",
    "    "
   ]
  },
  {
   "cell_type": "code",
   "execution_count": 172,
   "metadata": {},
   "outputs": [
    {
     "data": {
      "text/plain": [
       "(3, 4)"
      ]
     },
     "execution_count": 172,
     "metadata": {},
     "output_type": "execute_result"
    }
   ],
   "source": [
    "rowcolumn([[1,2,3,4], [1,2,3,4],[1,2,3,4]])"
   ]
  },
  {
   "cell_type": "markdown",
   "metadata": {},
   "source": [
    "#### Our next step is to write a function that compares two matrices and tells us whether they are of equal size.\n",
    "\n",
    "In this function we will check whether the number of rows and number of columns is the same."
   ]
  },
  {
   "cell_type": "code",
   "execution_count": 173,
   "metadata": {},
   "outputs": [],
   "source": [
    "def compare(mat1, mat2):\n",
    "    # This function takes a two lists of lists and checks whether they have the same number of rows and columns\n",
    "    # Input: two list of lists\n",
    "    # Output: True or False\n",
    "    #\n",
    "    # Sample input: [[1,2,3],[4,5,6]], [[7,8,9], [10,11,12]]\n",
    "    # Sample Output: True\n",
    "    tup1 = rowcolumn(mat1)\n",
    "    tup2 = rowcolumn(mat2)\n",
    "\n",
    "    # Your code here:\n",
    "    return tup1 == tup2\n",
    "\n",
    "    "
   ]
  },
  {
   "cell_type": "code",
   "execution_count": 174,
   "metadata": {},
   "outputs": [
    {
     "data": {
      "text/plain": [
       "True"
      ]
     },
     "execution_count": 174,
     "metadata": {},
     "output_type": "execute_result"
    }
   ],
   "source": [
    "compare([[1,2,3],[4,5,6]], [[7,8,9], [10,11,12]])"
   ]
  },
  {
   "cell_type": "markdown",
   "metadata": {},
   "source": [
    "#### Now that we have all the tools we need, write a function that adds two matrices together. \n",
    "\n",
    "Remember that a matrix is represented as a list of lists. Therefore, we must add each element in the list. The plus symbol is used for concatenating two lists and not for adding every element in two lists."
   ]
  },
  {
   "cell_type": "code",
   "execution_count": 175,
   "metadata": {},
   "outputs": [],
   "source": [
    "def addition(mat1, mat2):\n",
    "    # This function takes a two lists of lists and adds each cell together\n",
    "    # Input: two list of lists\n",
    "    # Output: one summed list of lists\n",
    "    #\n",
    "    # Sample input: [[1,2,3],[4,5,6]], [[7,8,9], [10,11,12]]\n",
    "    # Sample Output: [[8,10,12],[14,16,18]]\n",
    "    \n",
    "\n",
    "    # Your code here:\n",
    "    if compare(mat1, mat2):\n",
    "        # return [[i1 + i2 for i1, i2 in zip(sublist1, sublist2)] for sublist1, sublist2 in zip(mat1, mat2)]\n",
    "        result = []\n",
    "        for sublist1, sublist2 in zip(mat1, mat2):\n",
    "            result.append([i1 + i2 for i1, i2 in zip(sublist1, sublist2)])\n",
    "            #print(result)\n",
    "            \n",
    "        return result\n",
    "    else:\n",
    "        return None"
   ]
  },
  {
   "cell_type": "code",
   "execution_count": 176,
   "metadata": {},
   "outputs": [
    {
     "data": {
      "text/plain": [
       "[[8, 10, 12], [14, 16, 18]]"
      ]
     },
     "execution_count": 176,
     "metadata": {},
     "output_type": "execute_result"
    }
   ],
   "source": [
    "addition([[1,2,3],[4,5,6]], [[7,8,9], [10,11,12]])"
   ]
  },
  {
   "cell_type": "markdown",
   "metadata": {},
   "source": [
    "# Challenge 2 - Creating the Class\n",
    "\n",
    "In the cell below, you will be creating the class Matrix2D. Use the functions you have written above and tweak them according to the instructions in the comments. You got this!"
   ]
  },
  {
   "cell_type": "code",
   "execution_count": 165,
   "metadata": {},
   "outputs": [],
   "source": [
    "class Matrix2D:\n",
    "    # First, we will write the __init__ function. \n",
    "    # In this function, we will initialize rows and the columns using the matrix that we have passed to the class.\n",
    "    \n",
    "    def __init__(self, mat):\n",
    "        # Assign mat to self.mat\n",
    "        # Assign rows and cols to self.rows and self.cols\n",
    "        # To find the rows and the cols, use the rowcolumn function and pass self.mat to the function.\n",
    "        # Since the rowcolumn function is now a member of the class, make sure to refer to the function as self.rowcolumn\n",
    "        # Your code here:\n",
    "        \n",
    "        self.mat = mat\n",
    "        self.rows = self.rowcolumn()[0]\n",
    "        self.cols = self.rowcolumn()[1]    \n",
    "    \n",
    "    # Insert the twodim function here.\n",
    "    # The only change you need to make is that now we are passing self and mat to the function (make sure self is first).\n",
    "    # Your code here:\n",
    "\n",
    "    def twodim(self):\n",
    "    # This function takes a list of lists and checks that it is of depth 2. \n",
    "        if type(self.mat) is list:\n",
    "            if type(self.mat[0]) is list:\n",
    "                if type(self.mat[0][0]) is list:\n",
    "                    print(\"Entered matrix is not of length 2\")\n",
    "                    return False\n",
    "                return True\n",
    "            else:\n",
    "                print(\"Entered matrix is not of length 2\")\n",
    "                return False\n",
    "    \n",
    "    # Insert the rowcolumn function here.\n",
    "    # The changes you need to make: \n",
    "    # 1. The function now takes self and mat as arguments (make sure to pass self first).\n",
    "    # 2. Any reference to twodim will be changed to self.twodim since this function is a member of the class and takes self \n",
    "    # Your code here:\n",
    "    \n",
    "    def rowcolumn(self):\n",
    "    # This function takes a list of lists and returns the size of the rows and the columns \n",
    "    # Input: list of lists\n",
    "    # Output: Tuple of rows and columns\n",
    "    # Your code here:\n",
    "    \n",
    "        tup = tuple((len(self.mat), len(self.mat[0])))\n",
    "        return tup\n",
    "    \n",
    "    \n",
    "    # Insert the compare function here\n",
    "    # Add self as the first argument passed to the function\n",
    "    \n",
    "    # Your code here:\n",
    "\n",
    "    def compare(self, inst_of_matrix2D):\n",
    "        # This function takes \n",
    "        # Input: two list of lists\n",
    "        # Output: True or False\n",
    "\n",
    "        # Your code here:\n",
    "        \n",
    "        tup1 = self.rowcolumn()\n",
    "        tup2 = inst_of_matrix2D.rowcolumn()\n",
    "        return tup1 == tup2\n",
    "        \n",
    "     \n",
    "    \n",
    "    \n",
    "    # Insert the addition function here\n",
    "    # This function now takes self and matrix (another matrix of the Matrix2D class)\n",
    "    # Change the compare function to self.compare \n",
    "    # Change any reference to mat1 and mat2 to self.mat and matrix.mat respectively\n",
    "    # Return your result as a Matrix2D(result). This will ensure that we return a new matrix and not a list of lists.\n",
    "    \n",
    "    # Your code here:\n",
    "    def addition(self, inst_of_matrix2D):\n",
    "    # This function takes a two lists of lists and adds each cell together\n",
    "    # Input: two list of lists\n",
    "    # Output: one summed list of lists\n",
    "\n",
    "    # Your code here:\n",
    "    \n",
    "        if self.compare(inst_of_matrix2D):\n",
    "            result = []\n",
    "            for sublist1, sublist2 in zip(self.mat, inst_of_matrix2D.mat):\n",
    "                #print(sublist1, sublist2)\n",
    "                result.append([i1 + i2 for i1, i2 in zip(sublist1, sublist2)])\n",
    "                #print(result)\n",
    "\n",
    "            return Matrix2D(result)\n",
    "        else:\n",
    "            return None\n"
   ]
  },
  {
   "cell_type": "code",
   "execution_count": 166,
   "metadata": {},
   "outputs": [
    {
     "data": {
      "text/plain": [
       "[[8, 10, 12], [14, 16, 18]]"
      ]
     },
     "execution_count": 166,
     "metadata": {},
     "output_type": "execute_result"
    }
   ],
   "source": [
    "Matrix2D([[1,2,3],[4,5,6]]).addition(Matrix2D([[7,8,9],[10,11,12]])).mat"
   ]
  },
  {
   "cell_type": "code",
   "execution_count": null,
   "metadata": {},
   "outputs": [],
   "source": []
  },
  {
   "cell_type": "markdown",
   "metadata": {},
   "source": [
    "# Bonus Challenge 2 - Transpose Function\n",
    "\n",
    "#### Write a function that transposes the matrix and add it to your class.\n",
    "\n",
    "You can read more about the transpose of a matrix [here](https://en.wikipedia.org/wiki/Transpose).\n",
    "\n",
    "Hint: Use the zip function. Read about it [here](https://docs.python.org/3.3/library/functions.html#zip)\n",
    "\n",
    "Second Hint: Read about the asterisk in Python [here](https://docs.python.org/3/reference/expressions.html#expression-lists)"
   ]
  },
  {
   "cell_type": "code",
   "execution_count": null,
   "metadata": {},
   "outputs": [],
   "source": []
  },
  {
   "cell_type": "code",
   "execution_count": 38,
   "metadata": {},
   "outputs": [],
   "source": [
    "def transpose(mat):\n",
    "    # This function takes a list of lists and returns a transposed list of lists.\n",
    "    # Input: list of lists\n",
    "    # Output: list of lists\n",
    "    \n",
    "    # Sample Input: [[1,2,3],[4,5,6]]\n",
    "    # Sample Output: [[1,4], [2,5], [3,6]]\n",
    "    \n",
    "    # Your code here:\n",
    "    return list(zip(mat[0],mat[1]))\n",
    "    "
   ]
  },
  {
   "cell_type": "code",
   "execution_count": 23,
   "metadata": {},
   "outputs": [
    {
     "data": {
      "text/plain": [
       "[[1, 4], [2, 5], [3, 6]]"
      ]
     },
     "execution_count": 23,
     "metadata": {},
     "output_type": "execute_result"
    }
   ],
   "source": [
    "transpose([[1,2,3],[4,5,6]])"
   ]
  },
  {
   "cell_type": "code",
   "execution_count": 167,
   "metadata": {},
   "outputs": [],
   "source": [
    "class Matrix2D:\n",
    "    # First, we will write the __init__ function. \n",
    "    # In this function, we will initialize rows and the columns using the matrix that we have passed to the class.\n",
    "\n",
    "    \n",
    "    def __init__(self, mat):\n",
    "        # Assign mat to self.mat\n",
    "        # Assign rows and cols to self.rows and self.cols\n",
    "        # To find the rows and the cols, use the rowcolumn function and pass self.mat to the function.\n",
    "        # Since the rowcolumn function is now a member of the class, make sure to refer to the function as self.rowcolumn\n",
    "        \n",
    "        self.mat = mat\n",
    "        self.rows = self.rowcolumn()[0]\n",
    "        self.cols = self.rowcolumn()[1]    \n",
    "    \n",
    "\n",
    "\n",
    "    \n",
    "    def twodim(self):\n",
    "    # This function takes a list of lists and checks that it is of depth 2. \n",
    "        if type(self.mat) is list:\n",
    "            if type(self.mat[0]) is list:\n",
    "                if type(self.mat[0][0]) is list:\n",
    "                    print(\"Entered matrix is not of length 2\")\n",
    "                    return False\n",
    "                return True\n",
    "            else:\n",
    "                print(\"Entered matrix is not of length 2\")\n",
    "                return False\n",
    "    \n",
    "\n",
    "    \n",
    "    def rowcolumn(self):\n",
    "    # This function takes a list of lists and returns the size of the rows and the columns     \n",
    "        tup = tuple((len(self.mat), len(self.mat[0])))\n",
    "        return tup\n",
    "\n",
    "    \n",
    "\n",
    "    def compare(self, inst_of_matrix2D):\n",
    "        # This function takes \n",
    "        # Input: two list of lists\n",
    "        # Output: True or False\n",
    "        \n",
    "        tup1 = self.rowcolumn()\n",
    "        tup2 = inst_of_matrix2D.rowcolumn()\n",
    "        return tup1 == tup2\n",
    "        \n",
    "        \n",
    "        \n",
    "        \n",
    "    def transpose(self):\n",
    "        # This function takes a list of lists and returns a transposed list of lists.\n",
    "        return list(zip(self[0],self[1]))\n",
    "    \n",
    "    \n",
    "    \n",
    "\n",
    "    def addition_transpose(self, inst_of_matrix2D):\n",
    "    # This function now takes self and matrix (another matrix of the Matrix2D class)\n",
    "    # Return your result as a Matrix2D(result). This will ensure that we return a new matrix and not a list of lists.\n",
    "    \n",
    "        if self.compare(inst_of_matrix2D):\n",
    "            \n",
    "            result = []\n",
    "            \n",
    "            for sublist1, sublist2 in zip(self.mat, inst_of_matrix2D.mat):\n",
    "                #print(sublist1, sublist2)\n",
    "                result.append([i1 + i2 for i1, i2 in zip(sublist1, sublist2)])\n",
    "                #print(result)\n",
    "                \n",
    "            \n",
    "            return Matrix2D(transpose(result))\n",
    "        \n",
    "        else:\n",
    "            \n",
    "            return None\n",
    "\n",
    "        "
   ]
  },
  {
   "cell_type": "code",
   "execution_count": 168,
   "metadata": {},
   "outputs": [
    {
     "data": {
      "text/plain": [
       "[(8, 14), (10, 16), (12, 18)]"
      ]
     },
     "execution_count": 168,
     "metadata": {},
     "output_type": "execute_result"
    }
   ],
   "source": [
    "Matrix2D([[1,2,3],[4,5,6]]).addition_transpose(Matrix2D([[7,8,9],[10,11,12]])).mat"
   ]
  },
  {
   "cell_type": "code",
   "execution_count": 116,
   "metadata": {},
   "outputs": [
    {
     "name": "stdout",
     "output_type": "stream",
     "text": [
      "rex\n",
      "rex\n",
      "True\n",
      "Rex a 300 et Hubert a 30\n",
      "rex\n",
      "OUAF OUAF OUAF\n",
      "REX  !!!!! \n",
      "rex is eating banana\n",
      "\n",
      "\n",
      "hubert\n",
      "OUAF OUAF OUAF\n",
      "HUBERT  !!!!! \n",
      "hubert is eating banana\n",
      "\n",
      "\n",
      "OUAF OUAF OUAF\n",
      "   a  b\n",
      "0  1  4\n",
      "1  2  5\n",
      "2  3  3\n",
      "df :  3\n",
      "4\n",
      "zjdaznflanflknaf\n",
      "[1, 2]\n",
      "<class 'dict'>\n",
      "<class 'list'>\n",
      "<class 'int'>\n"
     ]
    }
   ],
   "source": [
    "class Caniche:\n",
    "    \n",
    "    \n",
    "    def __init__(self, name, height, n_teeth):\n",
    "        \n",
    "        \n",
    "        self.name = name\n",
    "        self.height = height\n",
    "        self.n_teeth = n_teeth\n",
    "        \n",
    "        \n",
    "    def bark(self):\n",
    "        \n",
    "        print(\"OUAF OUAF OUAF\")\n",
    "        \n",
    "        return None\n",
    "    \n",
    "    def pokemonize(self):\n",
    "        print((self.name).upper(), \" !!!!! \")\n",
    "        \n",
    "        \n",
    "    def fight(self, inst_of_chien):\n",
    "        \"\"\" The one with more teeth is going to win\"\"\"\n",
    "        \n",
    "        \n",
    "        if self.n_teeth > inst_of_chien.n_teeth:\n",
    "            return(self.name)\n",
    "        \n",
    "        elif self.n_teeth < inst_of_chien.n_teeth:\n",
    "            return(inst_of_chien.name)\n",
    "        \n",
    "        else:\n",
    "            print(\"Same number of teeth, look at height????\")\n",
    "            return(None)\n",
    "        \n",
    "        \n",
    "        \n",
    "    def eat(self, food):\n",
    "        \n",
    "        print(\"{} is eating {}\".format(self.name, food))\n",
    "            \n",
    "        \n",
    "        \n",
    "        hubert = Caniche('hubert', 10, 30)\n",
    "\n",
    "\n",
    "rex = Caniche('rex', 100, 300)\n",
    "\n",
    "\n",
    "print(hubert.fight(inst_of_chien=rex))\n",
    "print(rex.fight(inst_of_chien=hubert))\n",
    "\n",
    "\n",
    "print(rex.n_teeth  > hubert.n_teeth)\n",
    "print(\"Rex a {rex_n_teeth} et Hubert a {hubert_n_teeth}\".format(rex_n_teeth=rex.n_teeth,\n",
    "                                                                  hubert_n_teeth=hubert.n_teeth))\n",
    "\n",
    "\n",
    "\n",
    "for chien in [rex, hubert]:\n",
    "    print(chien.name)\n",
    "    #print(chien)\n",
    "    \n",
    "    chien.bark()\n",
    "    chien.pokemonize()\n",
    "    \n",
    "    chien.eat(\"banana\")\n",
    "    \n",
    "    print('\\n')\n",
    "    \n",
    "    \n",
    "    \n",
    "\n",
    "def bark():\n",
    "\n",
    "    print(\"OUAF OUAF OUAF\")\n",
    "\n",
    "    return None\n",
    "\n",
    "bark()\n",
    "\n",
    "\n",
    "\n",
    "import pandas as pd\n",
    "\n",
    "\n",
    "d = {'a': [1,2,3], 'b': [4,5,3]}\n",
    "\n",
    "df = pd.DataFrame.from_dict(d)\n",
    "print(df)\n",
    "\n",
    "\n",
    "l = [1,2,3,4]\n",
    "\n",
    "def get_length(var):\n",
    "    return len(var)\n",
    "\n",
    "\n",
    "print(\"df : \", get_length(df))\n",
    "print(get_length(l))\n",
    "\n",
    "\n",
    "def f(boolean):\n",
    "    \n",
    "    \n",
    "    if boolean:\n",
    "        \n",
    "        \n",
    "        return(\"zjdaznflanflknaf\")\n",
    "    \n",
    "    \n",
    "    else:\n",
    "        \n",
    "        return([1,2])\n",
    "    \n",
    "    \n",
    "    \n",
    "print(f(True))\n",
    "print(f(False))\n",
    "\n",
    "\n",
    "d = {'a': {\"b\":[1]}}\n",
    "\n",
    "\n",
    "print(type(d['a']))\n",
    "print(type(d['a'][\"b\"]))\n",
    "print(type(d['a'][\"b\"][0]))"
   ]
  },
  {
   "cell_type": "code",
   "execution_count": null,
   "metadata": {},
   "outputs": [],
   "source": []
  }
 ],
 "metadata": {
  "kernelspec": {
   "display_name": "Python 3",
   "language": "python",
   "name": "python3"
  },
  "language_info": {
   "codemirror_mode": {
    "name": "ipython",
    "version": 3
   },
   "file_extension": ".py",
   "mimetype": "text/x-python",
   "name": "python",
   "nbconvert_exporter": "python",
   "pygments_lexer": "ipython3",
   "version": "3.7.3"
  }
 },
 "nbformat": 4,
 "nbformat_minor": 2
}
