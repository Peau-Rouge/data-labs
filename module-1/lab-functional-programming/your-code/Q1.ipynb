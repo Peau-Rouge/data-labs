{
 "cells": [
  {
   "cell_type": "markdown",
   "metadata": {},
   "source": [
    "In the cell below, create a Python function that wraps your previous solution for the Bag of Words lab.\n",
    "\n",
    "Requirements:\n",
    "\n",
    "1. Your function should accept the following parameters:\n",
    "    * `docs` [REQUIRED] - array of document paths.\n",
    "    * `stop_words` [OPTIONAL] - array of stop words. The default value is an empty array.\n",
    "\n",
    "1. Your function should return a Python object that contains the following:\n",
    "    * `bag_of_words` - array of strings of normalized unique words in the corpus.\n",
    "    * `term_freq` - array of the term-frequency vectors."
   ]
  },
  {
   "cell_type": "code",
   "execution_count": 6,
   "metadata": {},
   "outputs": [],
   "source": [
    "# Import required libraries\n",
    "import os\n",
    "import numpy as np\n",
    "import pandas as pd\n",
    "\n",
    "# Define function\n",
    "def get_bow_from_docs(docs, stop_words=[]):\n",
    "    \n",
    "    # In the function, first define the variables you will use such as `corpus`, `bag_of_words`, and `term_freq`.\n",
    "    \n",
    "    corpus = []\n",
    "    bag_of_words = []\n",
    "    term_freq = []\n",
    "    \n",
    "    \n",
    "    \"\"\"\n",
    "    Loop `docs` and read the content of each doc into a string in `corpus`.\n",
    "    Remember to convert the doc content to lowercases and remove punctuation.\n",
    "    \"\"\"\n",
    "\n",
    "    for doc in docs:\n",
    "        with open(os.path.join('/Users/admin/Documents/data-labs/module-1/lab-string-operations/your-code', doc), \"r\") as f:\n",
    "            lines = f.readlines()\n",
    "            for line in lines:\n",
    "                corpus.append((line.lower()).replace('.',''))\n",
    "\n",
    "\n",
    "    \"\"\"\n",
    "    Loop `corpus`. Append the terms in each doc into the `bag_of_words` array. The terms in `bag_of_words` \n",
    "    should be unique which means before adding each term you need to check if it's already added to the array.\n",
    "    In addition, check if each term is in the `stop_words` array. Only append the term to `bag_of_words`\n",
    "    if it is not a stop word.\n",
    "    \"\"\"\n",
    "\n",
    "    for doc in corpus:\n",
    "        for term in doc.split():\n",
    "            if term not in bag_of_words:\n",
    "                if term not in stop_words:\n",
    "                    bag_of_words.append(term) \n",
    "    #print(bag_of_words)\n",
    "    \n",
    "    \"\"\"\n",
    "    Loop `corpus` again. For each doc string, count the number of occurrences of each term in `bag_of_words`. \n",
    "    Create an array for each doc's term frequency and append it to `term_freq`.\n",
    "    \"\"\"\n",
    "\n",
    "    for docstring in corpus:\n",
    "        count=[]\n",
    "        for term in bag_of_words:\n",
    "            if term in docstring.split():\n",
    "                count.append(1)\n",
    "            else:\n",
    "                count.append(0)\n",
    "        term_freq.append(count)\n",
    "    \n",
    "    # Now return your output as an object\n",
    "    return {\n",
    "        \"bag_of_words\": bag_of_words,\n",
    "        \"term_freq\": term_freq\n",
    "    }\n",
    "    "
   ]
  },
  {
   "cell_type": "markdown",
   "metadata": {},
   "source": [
    "Test your function without stop words. You should see the output like below:\n",
    "\n",
    "```{'bag_of_words': ['ironhack', 'is', 'cool', 'i', 'love', 'am', 'a', 'student', 'at'], 'term_freq': [[1, 1, 1, 0, 0, 0, 0, 0, 0], [1, 0, 0, 1, 1, 0, 0, 0, 0], [1, 0, 0, 1, 0, 1, 1, 1, 1]]}```"
   ]
  },
  {
   "cell_type": "code",
   "execution_count": 7,
   "metadata": {},
   "outputs": [
    {
     "name": "stdout",
     "output_type": "stream",
     "text": [
      "{'bag_of_words': ['ironhack', 'is', 'cool', 'i', 'love', 'am', 'a', 'student', 'at'], 'term_freq': [[1, 1, 1, 0, 0, 0, 0, 0, 0], [1, 0, 0, 1, 1, 0, 0, 0, 0], [1, 0, 0, 1, 0, 1, 1, 1, 1]]}\n"
     ]
    }
   ],
   "source": [
    "# Define doc paths array\n",
    "docs = ['doc1.txt', 'doc2.txt', 'doc3.txt']\n",
    "\n",
    "# Obtain BoW from your function\n",
    "bow = get_bow_from_docs(docs)\n",
    "\n",
    "# Print BoW\n",
    "print(bow)"
   ]
  },
  {
   "cell_type": "markdown",
   "metadata": {},
   "source": [
    "If your attempt above is successful, nice work done!\n",
    "\n",
    "Now test your function again with the stop words. In the previous lab we defined the stop words in a large array. In this lab, we'll import the stop words from Scikit-Learn."
   ]
  },
  {
   "cell_type": "code",
   "execution_count": 8,
   "metadata": {},
   "outputs": [
    {
     "name": "stdout",
     "output_type": "stream",
     "text": [
      "frozenset({'already', 'inc', 'part', 'been', 'anywhere', 'since', 'together', 'thin', 'out', 'although', 'now', 'between', 'yours', 'interest', 'in', 'along', 'how', 'yet', 'among', 'nobody', 'am', 'while', 'elsewhere', 'have', 'because', 'meanwhile', 'once', 'that', 'whoever', 'again', 'thereupon', 'would', 'further', 'cry', 'against', 'a', 'nothing', 'afterwards', 'hence', 'yourselves', 'ten', 'off', 'full', 'couldnt', 'you', 'almost', 'wherein', 'mine', 'only', 'twenty', 'empty', 'always', 'fire', 'back', 'bottom', 'so', 'some', 'whereby', 'all', 'below', 'with', 'done', 'their', 'him', 'through', 'indeed', 'show', 'none', 'yourself', 'otherwise', 'has', 'an', 'throughout', 'whereafter', 'con', 'our', 'eg', 'also', 'here', 'sincere', 'first', 'herein', 'upon', 'itself', 'less', 'whereas', 'three', 'will', 'fifteen', 'becomes', 'noone', 'therefore', 'thence', 'get', 'them', 'twelve', 'are', 'never', 'onto', 'serious', 'at', 'up', 'seems', 'then', 'seeming', 'these', 'however', 'from', 'neither', 'seem', 'others', 'whence', 'anyhow', 'be', 'on', 'no', 'whom', 'eight', 'should', 'not', 'until', 'more', 'hereby', 'within', 'me', 'ie', 'by', 'describe', 'even', 'too', 'or', 'top', 'via', 'often', 'besides', 'to', 'under', 'enough', 'nine', 'whither', 'us', 'hundred', 'they', 'where', 'due', 'ours', 'its', 'whose', 'found', 'those', 'above', 'beyond', 'why', 'beforehand', 'if', 'could', 'than', 'therein', 'co', 'both', 'after', 'name', 'namely', 'someone', 'do', 'amoungst', 'same', 'may', 'though', 'themselves', 'last', 'formerly', 'whereupon', 'thereby', 'such', 'your', 'about', 'mostly', 'toward', 'made', 'every', 'four', 'cannot', 'thick', 'bill', 'amount', 'give', 'anything', 'hereupon', 'call', 'another', 'thru', 'own', 'other', 'something', 'everything', 'became', 'fifty', 'whole', 'much', 'per', 'everyone', 'mill', 'else', 'ourselves', 'this', 'whenever', 'what', 'of', 'as', 'when', 'i', 'but', 'except', 'very', 'one', 'somehow', 'un', 'into', 'during', 'everywhere', 'and', 'find', 'can', 'anyone', 're', 'nor', 'had', 'put', 'eleven', 'which', 'ltd', 'nowhere', 'alone', 'etc', 'it', 'wherever', 'before', 'behind', 'towards', 'see', 'many', 'for', 'de', 'thus', 'myself', 'front', 'seemed', 'latterly', 'sixty', 'down', 'he', 'latter', 'might', 'former', 'either', 'she', 'hasnt', 'six', 'five', 'few', 'sometime', 'most', 'least', 'moreover', 'the', 'well', 'forty', 'each', 'across', 'detail', 'over', 'was', 'please', 'being', 'become', 'perhaps', 'sometimes', 'somewhere', 'system', 'two', 'several', 'take', 'anyway', 'without', 'is', 'we', 'amongst', 'ever', 'my', 'fill', 'move', 'whatever', 'himself', 'still', 'around', 'go', 'hers', 'third', 'any', 'were', 'her', 'beside', 'his', 'there', 'must', 'who', 'cant', 'next', 'side', 'keep', 'thereafter', 'becoming', 'nevertheless', 'hereafter', 'whether', 'rather', 'herself'})\n"
     ]
    }
   ],
   "source": [
    "from sklearn.feature_extraction import stop_words\n",
    "print(stop_words.ENGLISH_STOP_WORDS)"
   ]
  },
  {
   "cell_type": "markdown",
   "metadata": {},
   "source": [
    "You should have seen a large list of words that looks like:\n",
    "\n",
    "```frozenset({'across', 'mine', 'cannot', ...})```\n",
    "\n",
    "`frozenset` is a type of Python object that is immutable. In this lab you can use it just like an array without conversion."
   ]
  },
  {
   "cell_type": "markdown",
   "metadata": {},
   "source": [
    "Next, test your function with supplying `stop_words.ENGLISH_STOP_WORDS` as the second parameter."
   ]
  },
  {
   "cell_type": "code",
   "execution_count": 12,
   "metadata": {},
   "outputs": [
    {
     "name": "stdout",
     "output_type": "stream",
     "text": [
      "{'bag_of_words': ['ironhack', 'cool', 'love', 'student'], 'term_freq': [[1, 1, 0, 0], [1, 0, 1, 0], [1, 0, 0, 1]]}\n"
     ]
    }
   ],
   "source": [
    "bow = get_bow_from_docs(docs, stop_words.ENGLISH_STOP_WORDS)\n",
    "\n",
    "print(bow)"
   ]
  },
  {
   "cell_type": "markdown",
   "metadata": {},
   "source": [
    "You should have seen:\n",
    "\n",
    "```{'bag_of_words': ['ironhack', 'cool', 'love', 'student'], 'term_freq': [[1, 1, 0, 0], [1, 0, 1, 0], [1, 0, 0, 1]]}```"
   ]
  },
  {
   "cell_type": "code",
   "execution_count": null,
   "metadata": {},
   "outputs": [],
   "source": []
  }
 ],
 "metadata": {
  "kernelspec": {
   "display_name": "Python 3",
   "language": "python",
   "name": "python3"
  },
  "language_info": {
   "codemirror_mode": {
    "name": "ipython",
    "version": 3
   },
   "file_extension": ".py",
   "mimetype": "text/x-python",
   "name": "python",
   "nbconvert_exporter": "python",
   "pygments_lexer": "ipython3",
   "version": "3.7.3"
  }
 },
 "nbformat": 4,
 "nbformat_minor": 2
}
