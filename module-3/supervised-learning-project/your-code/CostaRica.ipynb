{
 "cells": [
  {
   "cell_type": "code",
   "execution_count": 795,
   "metadata": {},
   "outputs": [],
   "source": [
    "import pandas as pd\n",
    "import numpy as np\n",
    "from sklearn.model_selection import train_test_split\n",
    "#from sklearn import linear_model\n",
    "#from sklearn.linear_model import LinearRegression\n",
    "#from sklearn.metrics import r2_score\n",
    "#from sklearn.metrics import mean_squared_error\n",
    "#from sklearn.metrics import mean_absolute_error\n",
    "from sklearn.metrics import confusion_matrix, accuracy_score\n",
    "from sklearn.metrics import balanced_accuracy_score\n",
    "from sklearn.metrics import precision_score, recall_score, f1_score\n",
    "from sklearn.metrics import confusion_matrix\n",
    "import seaborn as sns; sns.set()\n",
    "from pylab import rcParams\n",
    "from sklearn.ensemble import RandomForestClassifier\n",
    "from sklearn import metrics\n",
    "import matplotlib.pyplot as plt\n",
    "from sklearn.neighbors import KNeighborsClassifier\n",
    "from sklearn.ensemble import GradientBoostingClassifier\n",
    "from sklearn.naive_bayes import GaussianNB\n",
    "from sklearn.svm import SVC\n",
    "from sklearn.model_selection import cross_val_score\n",
    "from sklearn.neural_network import MLPClassifier"
   ]
  },
  {
   "cell_type": "code",
   "execution_count": 796,
   "metadata": {},
   "outputs": [],
   "source": [
    "import warnings\n",
    "warnings.filterwarnings(\"ignore\")"
   ]
  },
  {
   "cell_type": "markdown",
   "metadata": {},
   "source": [
    "The Inter-American Development Bank is asking the Kaggle community for help with income qualification for some of the world's poorest families. Are you up for the challenge?\n",
    "\n",
    "Here's the backstory: Many social programs have a hard time making sure the right people are given enough aid. It’s especially tricky when a program focuses on the poorest segment of the population. The world’s poorest typically can’t provide the necessary income and expense records to prove that they qualify.\n",
    "\n",
    "In Latin America, one popular method uses an algorithm to verify income qualification. It’s called the Proxy Means Test (or PMT). With PMT, agencies use a model that considers a family’s observable household attributes like the material of their walls and ceiling, or the assets found in the home to classify them and predict their level of need.\n",
    "\n",
    "While this is an improvement, accuracy remains a problem as the region’s population grows and poverty declines.\n",
    "\n",
    "To improve on PMT, the IDB (the largest source of development financing for Latin America and the Caribbean) has turned to the Kaggle community. They believe that new methods beyond traditional econometrics, based on a dataset of Costa Rican household characteristics, might help improve PMT’s performance.\n",
    "\n",
    "Beyond Costa Rica, many countries face this same problem of inaccurately assessing social need. If Kagglers can generate an improvement, the new algorithm could be implemented in other countries around the world."
   ]
  },
  {
   "cell_type": "markdown",
   "metadata": {},
   "source": [
    "## Importing datasets"
   ]
  },
  {
   "cell_type": "code",
   "execution_count": 877,
   "metadata": {},
   "outputs": [],
   "source": [
    "costa_train = pd.read_csv('../data/train.csv')"
   ]
  },
  {
   "cell_type": "code",
   "execution_count": 879,
   "metadata": {},
   "outputs": [],
   "source": [
    "costa_test = pd.read_csv('../data/test.csv')"
   ]
  },
  {
   "cell_type": "code",
   "execution_count": 878,
   "metadata": {},
   "outputs": [
    {
     "data": {
      "text/plain": [
       "9557"
      ]
     },
     "execution_count": 878,
     "metadata": {},
     "output_type": "execute_result"
    }
   ],
   "source": [
    "len(costa_train)"
   ]
  },
  {
   "cell_type": "code",
   "execution_count": 880,
   "metadata": {},
   "outputs": [
    {
     "data": {
      "text/plain": [
       "23856"
      ]
     },
     "execution_count": 880,
     "metadata": {},
     "output_type": "execute_result"
    }
   ],
   "source": [
    "len(costa_test)"
   ]
  },
  {
   "cell_type": "code",
   "execution_count": 881,
   "metadata": {},
   "outputs": [
    {
     "data": {
      "text/html": [
       "<div>\n",
       "<style scoped>\n",
       "    .dataframe tbody tr th:only-of-type {\n",
       "        vertical-align: middle;\n",
       "    }\n",
       "\n",
       "    .dataframe tbody tr th {\n",
       "        vertical-align: top;\n",
       "    }\n",
       "\n",
       "    .dataframe thead th {\n",
       "        text-align: right;\n",
       "    }\n",
       "</style>\n",
       "<table border=\"1\" class=\"dataframe\">\n",
       "  <thead>\n",
       "    <tr style=\"text-align: right;\">\n",
       "      <th></th>\n",
       "      <th>Id</th>\n",
       "      <th>v2a1</th>\n",
       "      <th>hacdor</th>\n",
       "      <th>rooms</th>\n",
       "      <th>hacapo</th>\n",
       "      <th>v14a</th>\n",
       "      <th>refrig</th>\n",
       "      <th>v18q</th>\n",
       "      <th>v18q1</th>\n",
       "      <th>r4h1</th>\n",
       "      <th>...</th>\n",
       "      <th>SQBescolari</th>\n",
       "      <th>SQBage</th>\n",
       "      <th>SQBhogar_total</th>\n",
       "      <th>SQBedjefe</th>\n",
       "      <th>SQBhogar_nin</th>\n",
       "      <th>SQBovercrowding</th>\n",
       "      <th>SQBdependency</th>\n",
       "      <th>SQBmeaned</th>\n",
       "      <th>agesq</th>\n",
       "      <th>Target</th>\n",
       "    </tr>\n",
       "  </thead>\n",
       "  <tbody>\n",
       "    <tr>\n",
       "      <th>0</th>\n",
       "      <td>ID_279628684</td>\n",
       "      <td>190000.0</td>\n",
       "      <td>0</td>\n",
       "      <td>3</td>\n",
       "      <td>0</td>\n",
       "      <td>1</td>\n",
       "      <td>1</td>\n",
       "      <td>0</td>\n",
       "      <td>NaN</td>\n",
       "      <td>0</td>\n",
       "      <td>...</td>\n",
       "      <td>100</td>\n",
       "      <td>1849</td>\n",
       "      <td>1</td>\n",
       "      <td>100</td>\n",
       "      <td>0</td>\n",
       "      <td>1.000000</td>\n",
       "      <td>0.0</td>\n",
       "      <td>100.0</td>\n",
       "      <td>1849</td>\n",
       "      <td>4</td>\n",
       "    </tr>\n",
       "    <tr>\n",
       "      <th>1</th>\n",
       "      <td>ID_f29eb3ddd</td>\n",
       "      <td>135000.0</td>\n",
       "      <td>0</td>\n",
       "      <td>4</td>\n",
       "      <td>0</td>\n",
       "      <td>1</td>\n",
       "      <td>1</td>\n",
       "      <td>1</td>\n",
       "      <td>1.0</td>\n",
       "      <td>0</td>\n",
       "      <td>...</td>\n",
       "      <td>144</td>\n",
       "      <td>4489</td>\n",
       "      <td>1</td>\n",
       "      <td>144</td>\n",
       "      <td>0</td>\n",
       "      <td>1.000000</td>\n",
       "      <td>64.0</td>\n",
       "      <td>144.0</td>\n",
       "      <td>4489</td>\n",
       "      <td>4</td>\n",
       "    </tr>\n",
       "    <tr>\n",
       "      <th>2</th>\n",
       "      <td>ID_68de51c94</td>\n",
       "      <td>NaN</td>\n",
       "      <td>0</td>\n",
       "      <td>8</td>\n",
       "      <td>0</td>\n",
       "      <td>1</td>\n",
       "      <td>1</td>\n",
       "      <td>0</td>\n",
       "      <td>NaN</td>\n",
       "      <td>0</td>\n",
       "      <td>...</td>\n",
       "      <td>121</td>\n",
       "      <td>8464</td>\n",
       "      <td>1</td>\n",
       "      <td>0</td>\n",
       "      <td>0</td>\n",
       "      <td>0.250000</td>\n",
       "      <td>64.0</td>\n",
       "      <td>121.0</td>\n",
       "      <td>8464</td>\n",
       "      <td>4</td>\n",
       "    </tr>\n",
       "    <tr>\n",
       "      <th>3</th>\n",
       "      <td>ID_d671db89c</td>\n",
       "      <td>180000.0</td>\n",
       "      <td>0</td>\n",
       "      <td>5</td>\n",
       "      <td>0</td>\n",
       "      <td>1</td>\n",
       "      <td>1</td>\n",
       "      <td>1</td>\n",
       "      <td>1.0</td>\n",
       "      <td>0</td>\n",
       "      <td>...</td>\n",
       "      <td>81</td>\n",
       "      <td>289</td>\n",
       "      <td>16</td>\n",
       "      <td>121</td>\n",
       "      <td>4</td>\n",
       "      <td>1.777778</td>\n",
       "      <td>1.0</td>\n",
       "      <td>121.0</td>\n",
       "      <td>289</td>\n",
       "      <td>4</td>\n",
       "    </tr>\n",
       "    <tr>\n",
       "      <th>4</th>\n",
       "      <td>ID_d56d6f5f5</td>\n",
       "      <td>180000.0</td>\n",
       "      <td>0</td>\n",
       "      <td>5</td>\n",
       "      <td>0</td>\n",
       "      <td>1</td>\n",
       "      <td>1</td>\n",
       "      <td>1</td>\n",
       "      <td>1.0</td>\n",
       "      <td>0</td>\n",
       "      <td>...</td>\n",
       "      <td>121</td>\n",
       "      <td>1369</td>\n",
       "      <td>16</td>\n",
       "      <td>121</td>\n",
       "      <td>4</td>\n",
       "      <td>1.777778</td>\n",
       "      <td>1.0</td>\n",
       "      <td>121.0</td>\n",
       "      <td>1369</td>\n",
       "      <td>4</td>\n",
       "    </tr>\n",
       "    <tr>\n",
       "      <th>5</th>\n",
       "      <td>ID_ec05b1a7b</td>\n",
       "      <td>180000.0</td>\n",
       "      <td>0</td>\n",
       "      <td>5</td>\n",
       "      <td>0</td>\n",
       "      <td>1</td>\n",
       "      <td>1</td>\n",
       "      <td>1</td>\n",
       "      <td>1.0</td>\n",
       "      <td>0</td>\n",
       "      <td>...</td>\n",
       "      <td>121</td>\n",
       "      <td>1444</td>\n",
       "      <td>16</td>\n",
       "      <td>121</td>\n",
       "      <td>4</td>\n",
       "      <td>1.777778</td>\n",
       "      <td>1.0</td>\n",
       "      <td>121.0</td>\n",
       "      <td>1444</td>\n",
       "      <td>4</td>\n",
       "    </tr>\n",
       "    <tr>\n",
       "      <th>6</th>\n",
       "      <td>ID_e9e0c1100</td>\n",
       "      <td>180000.0</td>\n",
       "      <td>0</td>\n",
       "      <td>5</td>\n",
       "      <td>0</td>\n",
       "      <td>1</td>\n",
       "      <td>1</td>\n",
       "      <td>1</td>\n",
       "      <td>1.0</td>\n",
       "      <td>0</td>\n",
       "      <td>...</td>\n",
       "      <td>4</td>\n",
       "      <td>64</td>\n",
       "      <td>16</td>\n",
       "      <td>121</td>\n",
       "      <td>4</td>\n",
       "      <td>1.777778</td>\n",
       "      <td>1.0</td>\n",
       "      <td>121.0</td>\n",
       "      <td>64</td>\n",
       "      <td>4</td>\n",
       "    </tr>\n",
       "    <tr>\n",
       "      <th>7</th>\n",
       "      <td>ID_3e04e571e</td>\n",
       "      <td>130000.0</td>\n",
       "      <td>1</td>\n",
       "      <td>2</td>\n",
       "      <td>0</td>\n",
       "      <td>1</td>\n",
       "      <td>1</td>\n",
       "      <td>0</td>\n",
       "      <td>NaN</td>\n",
       "      <td>0</td>\n",
       "      <td>...</td>\n",
       "      <td>0</td>\n",
       "      <td>49</td>\n",
       "      <td>16</td>\n",
       "      <td>81</td>\n",
       "      <td>4</td>\n",
       "      <td>16.000000</td>\n",
       "      <td>1.0</td>\n",
       "      <td>100.0</td>\n",
       "      <td>49</td>\n",
       "      <td>4</td>\n",
       "    </tr>\n",
       "    <tr>\n",
       "      <th>8</th>\n",
       "      <td>ID_1284f8aad</td>\n",
       "      <td>130000.0</td>\n",
       "      <td>1</td>\n",
       "      <td>2</td>\n",
       "      <td>0</td>\n",
       "      <td>1</td>\n",
       "      <td>1</td>\n",
       "      <td>0</td>\n",
       "      <td>NaN</td>\n",
       "      <td>0</td>\n",
       "      <td>...</td>\n",
       "      <td>81</td>\n",
       "      <td>900</td>\n",
       "      <td>16</td>\n",
       "      <td>81</td>\n",
       "      <td>4</td>\n",
       "      <td>16.000000</td>\n",
       "      <td>1.0</td>\n",
       "      <td>100.0</td>\n",
       "      <td>900</td>\n",
       "      <td>4</td>\n",
       "    </tr>\n",
       "    <tr>\n",
       "      <th>9</th>\n",
       "      <td>ID_51f52fdd2</td>\n",
       "      <td>130000.0</td>\n",
       "      <td>1</td>\n",
       "      <td>2</td>\n",
       "      <td>0</td>\n",
       "      <td>1</td>\n",
       "      <td>1</td>\n",
       "      <td>0</td>\n",
       "      <td>NaN</td>\n",
       "      <td>0</td>\n",
       "      <td>...</td>\n",
       "      <td>121</td>\n",
       "      <td>784</td>\n",
       "      <td>16</td>\n",
       "      <td>81</td>\n",
       "      <td>4</td>\n",
       "      <td>16.000000</td>\n",
       "      <td>1.0</td>\n",
       "      <td>100.0</td>\n",
       "      <td>784</td>\n",
       "      <td>4</td>\n",
       "    </tr>\n",
       "  </tbody>\n",
       "</table>\n",
       "<p>10 rows × 143 columns</p>\n",
       "</div>"
      ],
      "text/plain": [
       "             Id      v2a1  hacdor  rooms  hacapo  v14a  refrig  v18q  v18q1  \\\n",
       "0  ID_279628684  190000.0       0      3       0     1       1     0    NaN   \n",
       "1  ID_f29eb3ddd  135000.0       0      4       0     1       1     1    1.0   \n",
       "2  ID_68de51c94       NaN       0      8       0     1       1     0    NaN   \n",
       "3  ID_d671db89c  180000.0       0      5       0     1       1     1    1.0   \n",
       "4  ID_d56d6f5f5  180000.0       0      5       0     1       1     1    1.0   \n",
       "5  ID_ec05b1a7b  180000.0       0      5       0     1       1     1    1.0   \n",
       "6  ID_e9e0c1100  180000.0       0      5       0     1       1     1    1.0   \n",
       "7  ID_3e04e571e  130000.0       1      2       0     1       1     0    NaN   \n",
       "8  ID_1284f8aad  130000.0       1      2       0     1       1     0    NaN   \n",
       "9  ID_51f52fdd2  130000.0       1      2       0     1       1     0    NaN   \n",
       "\n",
       "   r4h1  ...  SQBescolari  SQBage  SQBhogar_total  SQBedjefe  SQBhogar_nin  \\\n",
       "0     0  ...          100    1849               1        100             0   \n",
       "1     0  ...          144    4489               1        144             0   \n",
       "2     0  ...          121    8464               1          0             0   \n",
       "3     0  ...           81     289              16        121             4   \n",
       "4     0  ...          121    1369              16        121             4   \n",
       "5     0  ...          121    1444              16        121             4   \n",
       "6     0  ...            4      64              16        121             4   \n",
       "7     0  ...            0      49              16         81             4   \n",
       "8     0  ...           81     900              16         81             4   \n",
       "9     0  ...          121     784              16         81             4   \n",
       "\n",
       "   SQBovercrowding  SQBdependency  SQBmeaned  agesq  Target  \n",
       "0         1.000000            0.0      100.0   1849       4  \n",
       "1         1.000000           64.0      144.0   4489       4  \n",
       "2         0.250000           64.0      121.0   8464       4  \n",
       "3         1.777778            1.0      121.0    289       4  \n",
       "4         1.777778            1.0      121.0   1369       4  \n",
       "5         1.777778            1.0      121.0   1444       4  \n",
       "6         1.777778            1.0      121.0     64       4  \n",
       "7        16.000000            1.0      100.0     49       4  \n",
       "8        16.000000            1.0      100.0    900       4  \n",
       "9        16.000000            1.0      100.0    784       4  \n",
       "\n",
       "[10 rows x 143 columns]"
      ]
     },
     "execution_count": 881,
     "metadata": {},
     "output_type": "execute_result"
    }
   ],
   "source": [
    "costa_train.head(10)"
   ]
  },
  {
   "cell_type": "markdown",
   "metadata": {},
   "source": [
    "The file is a set of household characteristics from a representative sample of Costa Rican Households. The dataset has observations for each member of the household but the classification is done at the household level. That is, households cannot have two different classifications. Data is not presented at the household level so that participants can create their own household features from individual data."
   ]
  },
  {
   "cell_type": "code",
   "execution_count": 800,
   "metadata": {},
   "outputs": [
    {
     "data": {
      "text/html": [
       "<div>\n",
       "<style scoped>\n",
       "    .dataframe tbody tr th:only-of-type {\n",
       "        vertical-align: middle;\n",
       "    }\n",
       "\n",
       "    .dataframe tbody tr th {\n",
       "        vertical-align: top;\n",
       "    }\n",
       "\n",
       "    .dataframe thead th {\n",
       "        text-align: right;\n",
       "    }\n",
       "</style>\n",
       "<table border=\"1\" class=\"dataframe\">\n",
       "  <thead>\n",
       "    <tr style=\"text-align: right;\">\n",
       "      <th></th>\n",
       "      <th>Id</th>\n",
       "      <th>Target</th>\n",
       "    </tr>\n",
       "  </thead>\n",
       "  <tbody>\n",
       "    <tr>\n",
       "      <th>0</th>\n",
       "      <td>ID_2f6873615</td>\n",
       "      <td>4</td>\n",
       "    </tr>\n",
       "    <tr>\n",
       "      <th>1</th>\n",
       "      <td>ID_1c78846d2</td>\n",
       "      <td>4</td>\n",
       "    </tr>\n",
       "    <tr>\n",
       "      <th>2</th>\n",
       "      <td>ID_e5442cf6a</td>\n",
       "      <td>4</td>\n",
       "    </tr>\n",
       "    <tr>\n",
       "      <th>3</th>\n",
       "      <td>ID_a8db26a79</td>\n",
       "      <td>4</td>\n",
       "    </tr>\n",
       "    <tr>\n",
       "      <th>4</th>\n",
       "      <td>ID_a62966799</td>\n",
       "      <td>4</td>\n",
       "    </tr>\n",
       "  </tbody>\n",
       "</table>\n",
       "</div>"
      ],
      "text/plain": [
       "             Id  Target\n",
       "0  ID_2f6873615       4\n",
       "1  ID_1c78846d2       4\n",
       "2  ID_e5442cf6a       4\n",
       "3  ID_a8db26a79       4\n",
       "4  ID_a62966799       4"
      ]
     },
     "execution_count": 800,
     "metadata": {},
     "output_type": "execute_result"
    }
   ],
   "source": [
    "costa_sample = pd.read_csv('../data/sample_submission.csv')\n",
    "costa_sample.head()"
   ]
  },
  {
   "cell_type": "code",
   "execution_count": 882,
   "metadata": {},
   "outputs": [
    {
     "data": {
      "text/plain": [
       "Id                  object\n",
       "v2a1               float64\n",
       "hacdor               int64\n",
       "rooms                int64\n",
       "hacapo               int64\n",
       "v14a                 int64\n",
       "refrig               int64\n",
       "v18q                 int64\n",
       "v18q1              float64\n",
       "r4h1                 int64\n",
       "r4h2                 int64\n",
       "r4h3                 int64\n",
       "r4m1                 int64\n",
       "r4m2                 int64\n",
       "r4m3                 int64\n",
       "r4t1                 int64\n",
       "r4t2                 int64\n",
       "r4t3                 int64\n",
       "tamhog               int64\n",
       "tamviv               int64\n",
       "escolari             int64\n",
       "rez_esc            float64\n",
       "hhsize               int64\n",
       "paredblolad          int64\n",
       "paredzocalo          int64\n",
       "paredpreb            int64\n",
       "pareddes             int64\n",
       "paredmad             int64\n",
       "paredzinc            int64\n",
       "paredfibras          int64\n",
       "                    ...   \n",
       "bedrooms             int64\n",
       "overcrowding       float64\n",
       "tipovivi1            int64\n",
       "tipovivi2            int64\n",
       "tipovivi3            int64\n",
       "tipovivi4            int64\n",
       "tipovivi5            int64\n",
       "computer             int64\n",
       "television           int64\n",
       "mobilephone          int64\n",
       "qmobilephone         int64\n",
       "lugar1               int64\n",
       "lugar2               int64\n",
       "lugar3               int64\n",
       "lugar4               int64\n",
       "lugar5               int64\n",
       "lugar6               int64\n",
       "area1                int64\n",
       "area2                int64\n",
       "age                  int64\n",
       "SQBescolari          int64\n",
       "SQBage               int64\n",
       "SQBhogar_total       int64\n",
       "SQBedjefe            int64\n",
       "SQBhogar_nin         int64\n",
       "SQBovercrowding    float64\n",
       "SQBdependency      float64\n",
       "SQBmeaned          float64\n",
       "agesq                int64\n",
       "Target               int64\n",
       "Length: 143, dtype: object"
      ]
     },
     "execution_count": 882,
     "metadata": {},
     "output_type": "execute_result"
    }
   ],
   "source": [
    "costa_train.dtypes"
   ]
  },
  {
   "cell_type": "markdown",
   "metadata": {},
   "source": [
    "Response variable = 'Target'"
   ]
  },
  {
   "cell_type": "code",
   "execution_count": 883,
   "metadata": {},
   "outputs": [
    {
     "data": {
      "text/plain": [
       "array([4, 2, 3, 1])"
      ]
     },
     "execution_count": 883,
     "metadata": {},
     "output_type": "execute_result"
    }
   ],
   "source": [
    "costa_train['Target'].unique()"
   ]
  },
  {
   "cell_type": "markdown",
   "metadata": {},
   "source": [
    "### Ditching 'Id' column"
   ]
  },
  {
   "cell_type": "code",
   "execution_count": 884,
   "metadata": {},
   "outputs": [],
   "source": [
    "costa_train = costa_train.drop(columns=['Id'])"
   ]
  },
  {
   "cell_type": "code",
   "execution_count": 885,
   "metadata": {},
   "outputs": [],
   "source": [
    "costa_test = costa_test.drop(columns=['Id'])\n"
   ]
  },
  {
   "cell_type": "markdown",
   "metadata": {},
   "source": [
    "### Looking for missing values"
   ]
  },
  {
   "cell_type": "code",
   "execution_count": 886,
   "metadata": {},
   "outputs": [
    {
     "data": {
      "text/plain": [
       "9557"
      ]
     },
     "execution_count": 886,
     "metadata": {},
     "output_type": "execute_result"
    }
   ],
   "source": [
    "len(costa_train)"
   ]
  },
  {
   "cell_type": "code",
   "execution_count": 887,
   "metadata": {},
   "outputs": [
    {
     "data": {
      "text/plain": [
       "v2a1         0.717798\n",
       "v18q1        0.768233\n",
       "rez_esc      0.829549\n",
       "meaneduc     0.000523\n",
       "SQBmeaned    0.000523\n",
       "dtype: float64"
      ]
     },
     "execution_count": 887,
     "metadata": {},
     "output_type": "execute_result"
    }
   ],
   "source": [
    "null_cols = costa_train.isna().sum()/len(costa_train)\n",
    "\n",
    "null_cols[null_cols > 0]"
   ]
  },
  {
   "cell_type": "code",
   "execution_count": 888,
   "metadata": {},
   "outputs": [],
   "source": [
    "drop_cols = list(null_cols[null_cols > 0.70].index) # removing columns with > 70% NAs\n",
    "costa_train = costa_train.drop(drop_cols, axis=1)"
   ]
  },
  {
   "cell_type": "code",
   "execution_count": 889,
   "metadata": {},
   "outputs": [],
   "source": [
    "costa_test = costa_test.drop(drop_cols, axis=1)"
   ]
  },
  {
   "cell_type": "code",
   "execution_count": 890,
   "metadata": {},
   "outputs": [
    {
     "data": {
      "text/plain": [
       "meaneduc     5\n",
       "SQBmeaned    5\n",
       "dtype: int64"
      ]
     },
     "execution_count": 890,
     "metadata": {},
     "output_type": "execute_result"
    }
   ],
   "source": [
    "null_cols = costa_train.isna().sum()\n",
    "null_cols[null_cols > 0]"
   ]
  },
  {
   "cell_type": "code",
   "execution_count": 891,
   "metadata": {},
   "outputs": [],
   "source": [
    "costa_train.dropna(inplace=True)"
   ]
  },
  {
   "cell_type": "code",
   "execution_count": 811,
   "metadata": {},
   "outputs": [],
   "source": [
    "#costa_test.dropna(inplace=True)"
   ]
  },
  {
   "cell_type": "markdown",
   "metadata": {},
   "source": [
    "### Looking for multicollinearity\n"
   ]
  },
  {
   "cell_type": "code",
   "execution_count": 892,
   "metadata": {},
   "outputs": [
    {
     "data": {
      "text/plain": [
       "<matplotlib.axes._subplots.AxesSubplot at 0x1a3b4f3ac8>"
      ]
     },
     "execution_count": 892,
     "metadata": {},
     "output_type": "execute_result"
    },
    {
     "data": {
      "image/png": "[encoded data removed]",
      "text/plain": [
       "<Figure size 1080x1080 with 2 Axes>"
      ]
     },
     "metadata": {},
     "output_type": "display_data"
    }
   ],
   "source": [
    "rcParams['figure.figsize'] = 15, 15\n",
    "corr = costa_train.corr()\n",
    "\n",
    "# plot the heatmap\n",
    "sns.heatmap(corr, \n",
    "        xticklabels=corr.columns,\n",
    "        yticklabels=corr.columns)"
   ]
  },
  {
   "cell_type": "code",
   "execution_count": 893,
   "metadata": {},
   "outputs": [
    {
     "data": {
      "text/plain": [
       "['tamhog',\n",
       " 'tamviv',\n",
       " 'hhsize',\n",
       " 'hogar_total',\n",
       " 'SQBescolari',\n",
       " 'SQBage',\n",
       " 'SQBhogar_total',\n",
       " 'SQBovercrowding',\n",
       " 'SQBmeaned',\n",
       " 'agesq']"
      ]
     },
     "execution_count": 893,
     "metadata": {},
     "output_type": "execute_result"
    }
   ],
   "source": [
    "# Select upper triangle of correlation matrix\n",
    "upper = corr.where(np.triu(np.ones(corr.shape), k=1).astype(np.bool))\n",
    "\n",
    "# Find features with correlation greater than 0.90\n",
    "to_drop = [column for column in upper.columns if any(upper[column] > 0.90)]\n",
    "to_drop"
   ]
  },
  {
   "cell_type": "markdown",
   "metadata": {},
   "source": [
    "'SQBage' is age squared so it makes sense that it is highly correlated with 'agesq'\n",
    "'tamhog' is size of the household, so it is identical with 'hhsize', household size == 'tamviv' == 'hogar_total'.\n",
    "'SQBhogar_total' is hogar_total squared, so it is highly correlated with 'hogar_total'.\n",
    "'SQBmeaned', square of the mean years of education of adults (>=18) in the household == 'SQBescolari', escolari squared\n",
    "'hhsize' is highly correlated with 'r4t3', Total persons in the household (cf. correlation matrix)"
   ]
  },
  {
   "cell_type": "code",
   "execution_count": 894,
   "metadata": {},
   "outputs": [],
   "source": [
    "costa_train = costa_train.drop(columns=to_drop)"
   ]
  },
  {
   "cell_type": "code",
   "execution_count": 895,
   "metadata": {},
   "outputs": [],
   "source": [
    "costa_test = costa_test.drop(columns=['tamhog',\n",
    " 'tamviv',\n",
    " 'hhsize',\n",
    " 'hogar_total',\n",
    " 'SQBescolari',\n",
    " 'SQBage',\n",
    " 'SQBhogar_total',\n",
    " 'SQBovercrowding',\n",
    " 'SQBmeaned',\n",
    " 'agesq'])"
   ]
  },
  {
   "cell_type": "code",
   "execution_count": 896,
   "metadata": {},
   "outputs": [
    {
     "data": {
      "text/plain": [
       "[]"
      ]
     },
     "execution_count": 896,
     "metadata": {},
     "output_type": "execute_result"
    }
   ],
   "source": [
    "corr = costa_train.corr()\n",
    "# Select upper triangle of correlation matrix\n",
    "upper = corr.where(np.triu(np.ones(corr.shape), k=1).astype(np.bool))\n",
    "\n",
    "# Find features with correlation greater than 0.90\n",
    "to_drop = [column for column in upper.columns if any(upper[column] > 0.90)]\n",
    "to_drop"
   ]
  },
  {
   "cell_type": "markdown",
   "metadata": {},
   "source": [
    "### Taking care of object columns"
   ]
  },
  {
   "cell_type": "code",
   "execution_count": 897,
   "metadata": {},
   "outputs": [
    {
     "data": {
      "text/html": [
       "<div>\n",
       "<style scoped>\n",
       "    .dataframe tbody tr th:only-of-type {\n",
       "        vertical-align: middle;\n",
       "    }\n",
       "\n",
       "    .dataframe tbody tr th {\n",
       "        vertical-align: top;\n",
       "    }\n",
       "\n",
       "    .dataframe thead th {\n",
       "        text-align: right;\n",
       "    }\n",
       "</style>\n",
       "<table border=\"1\" class=\"dataframe\">\n",
       "  <thead>\n",
       "    <tr style=\"text-align: right;\">\n",
       "      <th></th>\n",
       "      <th>idhogar</th>\n",
       "      <th>dependency</th>\n",
       "      <th>edjefe</th>\n",
       "      <th>edjefa</th>\n",
       "    </tr>\n",
       "  </thead>\n",
       "  <tbody>\n",
       "    <tr>\n",
       "      <th>0</th>\n",
       "      <td>21eb7fcc1</td>\n",
       "      <td>no</td>\n",
       "      <td>10</td>\n",
       "      <td>no</td>\n",
       "    </tr>\n",
       "    <tr>\n",
       "      <th>1</th>\n",
       "      <td>0e5d7a658</td>\n",
       "      <td>8</td>\n",
       "      <td>12</td>\n",
       "      <td>no</td>\n",
       "    </tr>\n",
       "    <tr>\n",
       "      <th>2</th>\n",
       "      <td>2c7317ea8</td>\n",
       "      <td>8</td>\n",
       "      <td>no</td>\n",
       "      <td>11</td>\n",
       "    </tr>\n",
       "    <tr>\n",
       "      <th>3</th>\n",
       "      <td>2b58d945f</td>\n",
       "      <td>yes</td>\n",
       "      <td>11</td>\n",
       "      <td>no</td>\n",
       "    </tr>\n",
       "    <tr>\n",
       "      <th>4</th>\n",
       "      <td>2b58d945f</td>\n",
       "      <td>yes</td>\n",
       "      <td>11</td>\n",
       "      <td>no</td>\n",
       "    </tr>\n",
       "    <tr>\n",
       "      <th>5</th>\n",
       "      <td>2b58d945f</td>\n",
       "      <td>yes</td>\n",
       "      <td>11</td>\n",
       "      <td>no</td>\n",
       "    </tr>\n",
       "    <tr>\n",
       "      <th>6</th>\n",
       "      <td>2b58d945f</td>\n",
       "      <td>yes</td>\n",
       "      <td>11</td>\n",
       "      <td>no</td>\n",
       "    </tr>\n",
       "    <tr>\n",
       "      <th>7</th>\n",
       "      <td>d6dae86b7</td>\n",
       "      <td>yes</td>\n",
       "      <td>9</td>\n",
       "      <td>no</td>\n",
       "    </tr>\n",
       "    <tr>\n",
       "      <th>8</th>\n",
       "      <td>d6dae86b7</td>\n",
       "      <td>yes</td>\n",
       "      <td>9</td>\n",
       "      <td>no</td>\n",
       "    </tr>\n",
       "    <tr>\n",
       "      <th>9</th>\n",
       "      <td>d6dae86b7</td>\n",
       "      <td>yes</td>\n",
       "      <td>9</td>\n",
       "      <td>no</td>\n",
       "    </tr>\n",
       "  </tbody>\n",
       "</table>\n",
       "</div>"
      ],
      "text/plain": [
       "     idhogar dependency edjefe edjefa\n",
       "0  21eb7fcc1         no     10     no\n",
       "1  0e5d7a658          8     12     no\n",
       "2  2c7317ea8          8     no     11\n",
       "3  2b58d945f        yes     11     no\n",
       "4  2b58d945f        yes     11     no\n",
       "5  2b58d945f        yes     11     no\n",
       "6  2b58d945f        yes     11     no\n",
       "7  d6dae86b7        yes      9     no\n",
       "8  d6dae86b7        yes      9     no\n",
       "9  d6dae86b7        yes      9     no"
      ]
     },
     "execution_count": 897,
     "metadata": {},
     "output_type": "execute_result"
    }
   ],
   "source": [
    "costa_train.select_dtypes(include=['object']).head(10)"
   ]
  },
  {
   "cell_type": "markdown",
   "metadata": {},
   "source": [
    "* dependency, Dependency rate, calculated = (number of members of the household younger than 19 or older than 64)/(number of member of household between 19 and 64)\n",
    "* edjefe, years of education of male head of household, based on the interaction of escolari (years of education), head of household and gender, yes=1 and no=0\n",
    "* edjefa, years of education of female head of household, based on the interaction of escolari (years of education), head of household and gender, yes=1 and no=0"
   ]
  },
  {
   "cell_type": "code",
   "execution_count": 898,
   "metadata": {},
   "outputs": [
    {
     "data": {
      "text/plain": [
       "array(['no', '11', '4', '10', '9', '15', '7', '14', '13', '8', '17', '6',\n",
       "       '5', '3', '16', '19', 'yes', '21', '12', '2', '20', '18'],\n",
       "      dtype=object)"
      ]
     },
     "execution_count": 898,
     "metadata": {},
     "output_type": "execute_result"
    }
   ],
   "source": [
    "costa_train['edjefa'].unique()"
   ]
  },
  {
   "cell_type": "code",
   "execution_count": 899,
   "metadata": {},
   "outputs": [],
   "source": [
    "### Changing 'edjefa' column values to '0' and '1' for Train and Test"
   ]
  },
  {
   "cell_type": "code",
   "execution_count": 900,
   "metadata": {},
   "outputs": [],
   "source": [
    "costa_train.loc[costa_train['edjefa'].str.contains('[0-9]', regex=True), 'edjefa'] = '1'"
   ]
  },
  {
   "cell_type": "code",
   "execution_count": 901,
   "metadata": {},
   "outputs": [],
   "source": [
    "costa_train.loc[costa_train['edjefa'].str.contains('yes', regex=True), 'edjefa'] = '1'"
   ]
  },
  {
   "cell_type": "code",
   "execution_count": 902,
   "metadata": {},
   "outputs": [],
   "source": [
    "costa_train.loc[costa_train['edjefa'].str.contains('no', regex=True), 'edjefa'] = '0'"
   ]
  },
  {
   "cell_type": "code",
   "execution_count": 903,
   "metadata": {},
   "outputs": [],
   "source": [
    "costa_test.loc[costa_test['edjefa'].str.contains('[0-9]', regex=True), 'edjefa'] = '1'\n",
    "costa_test.loc[costa_test['edjefa'].str.contains('no', regex=True), 'edjefa'] = '0'\n",
    "costa_test.loc[costa_test['edjefa'].str.contains('yes', regex=True), 'edjefa'] = '1'"
   ]
  },
  {
   "cell_type": "code",
   "execution_count": 904,
   "metadata": {},
   "outputs": [
    {
     "data": {
      "text/plain": [
       "array(['0', '1'], dtype=object)"
      ]
     },
     "execution_count": 904,
     "metadata": {},
     "output_type": "execute_result"
    }
   ],
   "source": [
    "costa_train['edjefa'].unique()"
   ]
  },
  {
   "cell_type": "code",
   "execution_count": 905,
   "metadata": {},
   "outputs": [
    {
     "data": {
      "text/plain": [
       "array(['1', '0'], dtype=object)"
      ]
     },
     "execution_count": 905,
     "metadata": {},
     "output_type": "execute_result"
    }
   ],
   "source": [
    "costa_test['edjefa'].unique()"
   ]
  },
  {
   "cell_type": "code",
   "execution_count": 906,
   "metadata": {},
   "outputs": [],
   "source": [
    "### Doing the same for 'edjefe'"
   ]
  },
  {
   "cell_type": "code",
   "execution_count": 907,
   "metadata": {},
   "outputs": [
    {
     "data": {
      "text/plain": [
       "array(['10', '12', 'no', '11', '9', '15', '4', '6', '8', '17', '7', '16',\n",
       "       '14', '5', '21', '2', '19', 'yes', '3', '18', '13', '20'],\n",
       "      dtype=object)"
      ]
     },
     "execution_count": 907,
     "metadata": {},
     "output_type": "execute_result"
    }
   ],
   "source": [
    "costa_train['edjefe'].unique()"
   ]
  },
  {
   "cell_type": "code",
   "execution_count": 908,
   "metadata": {},
   "outputs": [],
   "source": [
    "costa_train.loc[costa_train['edjefe'].str.contains('[0-9]', regex=True), 'edjefe'] = '1'"
   ]
  },
  {
   "cell_type": "code",
   "execution_count": 909,
   "metadata": {},
   "outputs": [],
   "source": [
    "costa_train.loc[costa_train['edjefe'].str.contains('yes', regex=True), 'edjefe'] = '1'\n",
    "costa_train.loc[costa_train['edjefe'].str.contains('no', regex=True), 'edjefe'] = '0'"
   ]
  },
  {
   "cell_type": "code",
   "execution_count": 910,
   "metadata": {},
   "outputs": [],
   "source": [
    "costa_test.loc[costa_test['edjefe'].str.contains('[0-9]', regex=True), 'edjefe'] = '1'\n",
    "costa_test.loc[costa_test['edjefe'].str.contains('yes', regex=True), 'edjefe'] = '1'\n",
    "costa_test.loc[costa_test['edjefe'].str.contains('no', regex=True), 'edjefe'] = '0'"
   ]
  },
  {
   "cell_type": "code",
   "execution_count": 911,
   "metadata": {},
   "outputs": [
    {
     "data": {
      "text/plain": [
       "array(['0', '1'], dtype=object)"
      ]
     },
     "execution_count": 911,
     "metadata": {},
     "output_type": "execute_result"
    }
   ],
   "source": [
    "costa_train['edjefe'].unique()\n",
    "costa_test['edjefe'].unique()\n"
   ]
  },
  {
   "cell_type": "code",
   "execution_count": 912,
   "metadata": {},
   "outputs": [],
   "source": [
    "### Dropping out Dependency column"
   ]
  },
  {
   "cell_type": "code",
   "execution_count": 913,
   "metadata": {},
   "outputs": [
    {
     "data": {
      "text/plain": [
       "array(['no', '8', 'yes', '3', '.5', '.25', '2', '.66666669', '.33333334',\n",
       "       '1.5', '.40000001', '.75', '1.25', '.2', '2.5', '1.2', '4',\n",
       "       '1.3333334', '2.25', '.22222222', '5', '.83333331', '.80000001',\n",
       "       '6', '3.5', '1.6666666', '.2857143', '1.75', '.71428573',\n",
       "       '.16666667', '.60000002'], dtype=object)"
      ]
     },
     "execution_count": 913,
     "metadata": {},
     "output_type": "execute_result"
    }
   ],
   "source": [
    "costa_train['dependency'].unique()"
   ]
  },
  {
   "cell_type": "code",
   "execution_count": 914,
   "metadata": {},
   "outputs": [
    {
     "data": {
      "text/plain": [
       "yes          2192\n",
       "no           1747\n",
       ".5           1497\n",
       "2             730\n",
       "1.5           713\n",
       ".33333334     598\n",
       ".66666669     487\n",
       "8             373\n",
       ".25           260\n",
       "3             236\n",
       "4             100\n",
       ".75            98\n",
       ".2             90\n",
       ".40000001      84\n",
       "1.3333334      84\n",
       "2.5            77\n",
       "5              24\n",
       "1.25           18\n",
       ".80000001      18\n",
       "3.5            18\n",
       "2.25           13\n",
       ".71428573      12\n",
       "1.2            11\n",
       ".83333331      11\n",
       ".22222222      11\n",
       "1.75           11\n",
       ".2857143        9\n",
       ".60000002       8\n",
       "1.6666666       8\n",
       ".16666667       7\n",
       "6               7\n",
       "Name: dependency, dtype: int64"
      ]
     },
     "execution_count": 914,
     "metadata": {},
     "output_type": "execute_result"
    }
   ],
   "source": [
    "costa_train['dependency'].value_counts()"
   ]
  },
  {
   "cell_type": "markdown",
   "metadata": {},
   "source": [
    "'Yes' and 'no' are too many in 'Dependency' column and we can't imagine 'yes' values"
   ]
  },
  {
   "cell_type": "code",
   "execution_count": 915,
   "metadata": {},
   "outputs": [],
   "source": [
    "costa_train = costa_train.drop(columns=['dependency'])"
   ]
  },
  {
   "cell_type": "code",
   "execution_count": 916,
   "metadata": {},
   "outputs": [],
   "source": [
    "costa_test = costa_test.drop(columns=['dependency'])"
   ]
  },
  {
   "cell_type": "code",
   "execution_count": null,
   "metadata": {},
   "outputs": [],
   "source": []
  },
  {
   "cell_type": "markdown",
   "metadata": {},
   "source": [
    "### Response variable : 'Target'"
   ]
  },
  {
   "cell_type": "code",
   "execution_count": 917,
   "metadata": {},
   "outputs": [
    {
     "data": {
      "text/plain": [
       "4    5991\n",
       "2    1597\n",
       "3    1209\n",
       "1     755\n",
       "Name: Target, dtype: int64"
      ]
     },
     "execution_count": 917,
     "metadata": {},
     "output_type": "execute_result"
    }
   ],
   "source": [
    "costa_train.Target.value_counts()"
   ]
  },
  {
   "cell_type": "code",
   "execution_count": 918,
   "metadata": {},
   "outputs": [
    {
     "data": {
      "text/plain": [
       "Text(0.5, 1.0, 'Counts of each Poverty level')"
      ]
     },
     "execution_count": 918,
     "metadata": {},
     "output_type": "execute_result"
    },
    {
     "data": {
      "image/png": "[encoded data removed]",
      "text/plain": [
       "<Figure size 576x360 with 1 Axes>"
      ]
     },
     "metadata": {},
     "output_type": "display_data"
    }
   ],
   "source": [
    "rcParams['figure.figsize'] = 8, 5\n",
    "\n",
    "plt.bar(costa_train.Target.unique(), costa_train.Target.value_counts())\n",
    "plt.title('Counts of each Poverty level')\n"
   ]
  },
  {
   "cell_type": "markdown",
   "metadata": {},
   "source": [
    "### Appending Train and Test data ? (not used)"
   ]
  },
  {
   "cell_type": "code",
   "execution_count": 610,
   "metadata": {},
   "outputs": [],
   "source": [
    "data = costa_train.append(costa_test, ignore_index = True, sort=False)"
   ]
  },
  {
   "cell_type": "code",
   "execution_count": 611,
   "metadata": {},
   "outputs": [
    {
     "data": {
      "text/html": [
       "<div>\n",
       "<style scoped>\n",
       "    .dataframe tbody tr th:only-of-type {\n",
       "        vertical-align: middle;\n",
       "    }\n",
       "\n",
       "    .dataframe tbody tr th {\n",
       "        vertical-align: top;\n",
       "    }\n",
       "\n",
       "    .dataframe thead th {\n",
       "        text-align: right;\n",
       "    }\n",
       "</style>\n",
       "<table border=\"1\" class=\"dataframe\">\n",
       "  <thead>\n",
       "    <tr style=\"text-align: right;\">\n",
       "      <th></th>\n",
       "      <th>hacdor</th>\n",
       "      <th>rooms</th>\n",
       "      <th>hacapo</th>\n",
       "      <th>v14a</th>\n",
       "      <th>refrig</th>\n",
       "      <th>v18q</th>\n",
       "      <th>r4h1</th>\n",
       "      <th>r4h2</th>\n",
       "      <th>r4h3</th>\n",
       "      <th>r4m1</th>\n",
       "      <th>...</th>\n",
       "      <th>lugar4</th>\n",
       "      <th>lugar5</th>\n",
       "      <th>lugar6</th>\n",
       "      <th>area1</th>\n",
       "      <th>area2</th>\n",
       "      <th>age</th>\n",
       "      <th>SQBedjefe</th>\n",
       "      <th>SQBhogar_nin</th>\n",
       "      <th>SQBdependency</th>\n",
       "      <th>Target</th>\n",
       "    </tr>\n",
       "  </thead>\n",
       "  <tbody>\n",
       "    <tr>\n",
       "      <th>0</th>\n",
       "      <td>0</td>\n",
       "      <td>3</td>\n",
       "      <td>0</td>\n",
       "      <td>1</td>\n",
       "      <td>1</td>\n",
       "      <td>0</td>\n",
       "      <td>0</td>\n",
       "      <td>1</td>\n",
       "      <td>1</td>\n",
       "      <td>0</td>\n",
       "      <td>...</td>\n",
       "      <td>0</td>\n",
       "      <td>0</td>\n",
       "      <td>0</td>\n",
       "      <td>1</td>\n",
       "      <td>0</td>\n",
       "      <td>43</td>\n",
       "      <td>100</td>\n",
       "      <td>0</td>\n",
       "      <td>0.0</td>\n",
       "      <td>4.0</td>\n",
       "    </tr>\n",
       "    <tr>\n",
       "      <th>1</th>\n",
       "      <td>0</td>\n",
       "      <td>4</td>\n",
       "      <td>0</td>\n",
       "      <td>1</td>\n",
       "      <td>1</td>\n",
       "      <td>1</td>\n",
       "      <td>0</td>\n",
       "      <td>1</td>\n",
       "      <td>1</td>\n",
       "      <td>0</td>\n",
       "      <td>...</td>\n",
       "      <td>0</td>\n",
       "      <td>0</td>\n",
       "      <td>0</td>\n",
       "      <td>1</td>\n",
       "      <td>0</td>\n",
       "      <td>67</td>\n",
       "      <td>144</td>\n",
       "      <td>0</td>\n",
       "      <td>64.0</td>\n",
       "      <td>4.0</td>\n",
       "    </tr>\n",
       "    <tr>\n",
       "      <th>2</th>\n",
       "      <td>0</td>\n",
       "      <td>8</td>\n",
       "      <td>0</td>\n",
       "      <td>1</td>\n",
       "      <td>1</td>\n",
       "      <td>0</td>\n",
       "      <td>0</td>\n",
       "      <td>0</td>\n",
       "      <td>0</td>\n",
       "      <td>0</td>\n",
       "      <td>...</td>\n",
       "      <td>0</td>\n",
       "      <td>0</td>\n",
       "      <td>0</td>\n",
       "      <td>1</td>\n",
       "      <td>0</td>\n",
       "      <td>92</td>\n",
       "      <td>0</td>\n",
       "      <td>0</td>\n",
       "      <td>64.0</td>\n",
       "      <td>4.0</td>\n",
       "    </tr>\n",
       "    <tr>\n",
       "      <th>3</th>\n",
       "      <td>0</td>\n",
       "      <td>5</td>\n",
       "      <td>0</td>\n",
       "      <td>1</td>\n",
       "      <td>1</td>\n",
       "      <td>1</td>\n",
       "      <td>0</td>\n",
       "      <td>2</td>\n",
       "      <td>2</td>\n",
       "      <td>1</td>\n",
       "      <td>...</td>\n",
       "      <td>0</td>\n",
       "      <td>0</td>\n",
       "      <td>0</td>\n",
       "      <td>1</td>\n",
       "      <td>0</td>\n",
       "      <td>17</td>\n",
       "      <td>121</td>\n",
       "      <td>4</td>\n",
       "      <td>1.0</td>\n",
       "      <td>4.0</td>\n",
       "    </tr>\n",
       "    <tr>\n",
       "      <th>4</th>\n",
       "      <td>0</td>\n",
       "      <td>5</td>\n",
       "      <td>0</td>\n",
       "      <td>1</td>\n",
       "      <td>1</td>\n",
       "      <td>1</td>\n",
       "      <td>0</td>\n",
       "      <td>2</td>\n",
       "      <td>2</td>\n",
       "      <td>1</td>\n",
       "      <td>...</td>\n",
       "      <td>0</td>\n",
       "      <td>0</td>\n",
       "      <td>0</td>\n",
       "      <td>1</td>\n",
       "      <td>0</td>\n",
       "      <td>37</td>\n",
       "      <td>121</td>\n",
       "      <td>4</td>\n",
       "      <td>1.0</td>\n",
       "      <td>4.0</td>\n",
       "    </tr>\n",
       "  </tbody>\n",
       "</table>\n",
       "<p>5 rows × 128 columns</p>\n",
       "</div>"
      ],
      "text/plain": [
       "   hacdor  rooms  hacapo  v14a  refrig  v18q  r4h1  r4h2  r4h3  r4m1  ...  \\\n",
       "0       0      3       0     1       1     0     0     1     1     0  ...   \n",
       "1       0      4       0     1       1     1     0     1     1     0  ...   \n",
       "2       0      8       0     1       1     0     0     0     0     0  ...   \n",
       "3       0      5       0     1       1     1     0     2     2     1  ...   \n",
       "4       0      5       0     1       1     1     0     2     2     1  ...   \n",
       "\n",
       "   lugar4  lugar5  lugar6  area1  area2  age  SQBedjefe  SQBhogar_nin  \\\n",
       "0       0       0       0      1      0   43        100             0   \n",
       "1       0       0       0      1      0   67        144             0   \n",
       "2       0       0       0      1      0   92          0             0   \n",
       "3       0       0       0      1      0   17        121             4   \n",
       "4       0       0       0      1      0   37        121             4   \n",
       "\n",
       "   SQBdependency  Target  \n",
       "0            0.0     4.0  \n",
       "1           64.0     4.0  \n",
       "2           64.0     4.0  \n",
       "3            1.0     4.0  \n",
       "4            1.0     4.0  \n",
       "\n",
       "[5 rows x 128 columns]"
      ]
     },
     "execution_count": 611,
     "metadata": {},
     "output_type": "execute_result"
    }
   ],
   "source": [
    "data.head()"
   ]
  },
  {
   "cell_type": "markdown",
   "metadata": {},
   "source": [
    "### Household identifier and different Target for same household"
   ]
  },
  {
   "cell_type": "markdown",
   "metadata": {},
   "source": [
    "* idhogar - this is a unique identifier for each household. This can be used to create household-wide features, etc. All rows in a given household will have a matching value for this identifier.\n",
    "\n",
    "* parentesco1 - indicates if this person is the head of the household."
   ]
  },
  {
   "cell_type": "code",
   "execution_count": 919,
   "metadata": {},
   "outputs": [
    {
     "data": {
      "text/plain": [
       "idhogar\n",
       "001ff74ca    True\n",
       "003123ec2    True\n",
       "004616164    True\n",
       "004983866    True\n",
       "005905417    True\n",
       "Name: Target, dtype: bool"
      ]
     },
     "execution_count": 919,
     "metadata": {},
     "output_type": "execute_result"
    }
   ],
   "source": [
    "# Groupby the household and count nb of unique values. \n",
    "#It should be == 1 because every household members should have the same Target\n",
    "\n",
    "sameTarget = costa_train.groupby('idhogar')['Target'].apply(lambda x: x.nunique() == 1)\n",
    "\n",
    "sameTarget.head()"
   ]
  },
  {
   "cell_type": "code",
   "execution_count": 920,
   "metadata": {},
   "outputs": [
    {
     "data": {
      "text/plain": [
       "85"
      ]
     },
     "execution_count": 920,
     "metadata": {},
     "output_type": "execute_result"
    }
   ],
   "source": [
    "# Households where targets are not the same\n",
    "\n",
    "diffTarget = sameTarget[sameTarget == False]\n",
    "\n",
    "len(diffTarget)"
   ]
  },
  {
   "cell_type": "markdown",
   "metadata": {},
   "source": [
    "There are 85 households where members don't have the same Target.\n",
    "\n",
    "correct label is that for the head of household (parentesco1 == 1)"
   ]
  },
  {
   "cell_type": "code",
   "execution_count": 921,
   "metadata": {},
   "outputs": [
    {
     "name": "stdout",
     "output_type": "stream",
     "text": [
      "idhogar\n",
      "0172ab1d9    False\n",
      "Name: Target, dtype: bool\n"
     ]
    },
    {
     "data": {
      "text/html": [
       "<div>\n",
       "<style scoped>\n",
       "    .dataframe tbody tr th:only-of-type {\n",
       "        vertical-align: middle;\n",
       "    }\n",
       "\n",
       "    .dataframe tbody tr th {\n",
       "        vertical-align: top;\n",
       "    }\n",
       "\n",
       "    .dataframe thead th {\n",
       "        text-align: right;\n",
       "    }\n",
       "</style>\n",
       "<table border=\"1\" class=\"dataframe\">\n",
       "  <thead>\n",
       "    <tr style=\"text-align: right;\">\n",
       "      <th></th>\n",
       "      <th>idhogar</th>\n",
       "      <th>parentesco1</th>\n",
       "      <th>Target</th>\n",
       "    </tr>\n",
       "  </thead>\n",
       "  <tbody>\n",
       "    <tr>\n",
       "      <th>7651</th>\n",
       "      <td>0172ab1d9</td>\n",
       "      <td>0</td>\n",
       "      <td>3</td>\n",
       "    </tr>\n",
       "    <tr>\n",
       "      <th>7652</th>\n",
       "      <td>0172ab1d9</td>\n",
       "      <td>0</td>\n",
       "      <td>2</td>\n",
       "    </tr>\n",
       "    <tr>\n",
       "      <th>7653</th>\n",
       "      <td>0172ab1d9</td>\n",
       "      <td>0</td>\n",
       "      <td>3</td>\n",
       "    </tr>\n",
       "    <tr>\n",
       "      <th>7654</th>\n",
       "      <td>0172ab1d9</td>\n",
       "      <td>1</td>\n",
       "      <td>3</td>\n",
       "    </tr>\n",
       "    <tr>\n",
       "      <th>7655</th>\n",
       "      <td>0172ab1d9</td>\n",
       "      <td>0</td>\n",
       "      <td>2</td>\n",
       "    </tr>\n",
       "  </tbody>\n",
       "</table>\n",
       "</div>"
      ],
      "text/plain": [
       "        idhogar  parentesco1  Target\n",
       "7651  0172ab1d9            0       3\n",
       "7652  0172ab1d9            0       2\n",
       "7653  0172ab1d9            0       3\n",
       "7654  0172ab1d9            1       3\n",
       "7655  0172ab1d9            0       2"
      ]
     },
     "execution_count": 921,
     "metadata": {},
     "output_type": "execute_result"
    }
   ],
   "source": [
    "print(diffTarget[[0]])\n",
    "costa_train[['idhogar', 'parentesco1', 'Target']][costa_train['idhogar'] == '0172ab1d9']"
   ]
  },
  {
   "cell_type": "code",
   "execution_count": 922,
   "metadata": {},
   "outputs": [],
   "source": [
    "\"\"\" \n",
    "Assigning new target values to every members in a same household\n",
    "\n",
    "\"\"\"\n",
    "\n",
    "for i in range(len(diffTarget)):\n",
    "    #print(diffTarget[[i]].index[0])\n",
    "    newtarget = costa_train['Target'][(costa_train['idhogar'] == diffTarget[[i]].index[0]) & (costa_train['parentesco1'] == 1)]\n",
    "    #print(int(newtarget))\n",
    "    costa_train['Target'][costa_train['idhogar'] == diffTarget[[i]].index[0]] = int(newtarget)\n",
    "    \n",
    "    #print(costa_train['Target'][costa_train['idhogar'] == diffTarget[[i]].index[0]])\n",
    "    \n"
   ]
  },
  {
   "cell_type": "code",
   "execution_count": 923,
   "metadata": {},
   "outputs": [
    {
     "name": "stdout",
     "output_type": "stream",
     "text": [
      "idhogar\n",
      "0172ab1d9    False\n",
      "Name: Target, dtype: bool\n"
     ]
    },
    {
     "data": {
      "text/html": [
       "<div>\n",
       "<style scoped>\n",
       "    .dataframe tbody tr th:only-of-type {\n",
       "        vertical-align: middle;\n",
       "    }\n",
       "\n",
       "    .dataframe tbody tr th {\n",
       "        vertical-align: top;\n",
       "    }\n",
       "\n",
       "    .dataframe thead th {\n",
       "        text-align: right;\n",
       "    }\n",
       "</style>\n",
       "<table border=\"1\" class=\"dataframe\">\n",
       "  <thead>\n",
       "    <tr style=\"text-align: right;\">\n",
       "      <th></th>\n",
       "      <th>idhogar</th>\n",
       "      <th>parentesco1</th>\n",
       "      <th>Target</th>\n",
       "    </tr>\n",
       "  </thead>\n",
       "  <tbody>\n",
       "    <tr>\n",
       "      <th>7651</th>\n",
       "      <td>0172ab1d9</td>\n",
       "      <td>0</td>\n",
       "      <td>3</td>\n",
       "    </tr>\n",
       "    <tr>\n",
       "      <th>7652</th>\n",
       "      <td>0172ab1d9</td>\n",
       "      <td>0</td>\n",
       "      <td>3</td>\n",
       "    </tr>\n",
       "    <tr>\n",
       "      <th>7653</th>\n",
       "      <td>0172ab1d9</td>\n",
       "      <td>0</td>\n",
       "      <td>3</td>\n",
       "    </tr>\n",
       "    <tr>\n",
       "      <th>7654</th>\n",
       "      <td>0172ab1d9</td>\n",
       "      <td>1</td>\n",
       "      <td>3</td>\n",
       "    </tr>\n",
       "    <tr>\n",
       "      <th>7655</th>\n",
       "      <td>0172ab1d9</td>\n",
       "      <td>0</td>\n",
       "      <td>3</td>\n",
       "    </tr>\n",
       "  </tbody>\n",
       "</table>\n",
       "</div>"
      ],
      "text/plain": [
       "        idhogar  parentesco1  Target\n",
       "7651  0172ab1d9            0       3\n",
       "7652  0172ab1d9            0       3\n",
       "7653  0172ab1d9            0       3\n",
       "7654  0172ab1d9            1       3\n",
       "7655  0172ab1d9            0       3"
      ]
     },
     "execution_count": 923,
     "metadata": {},
     "output_type": "execute_result"
    }
   ],
   "source": [
    "## checking if all is ok\n",
    "print(diffTarget[[0]])\n",
    "costa_train[['idhogar', 'parentesco1', 'Target']][costa_train['idhogar'] == '0172ab1d9']"
   ]
  },
  {
   "cell_type": "code",
   "execution_count": null,
   "metadata": {},
   "outputs": [],
   "source": []
  },
  {
   "cell_type": "code",
   "execution_count": 925,
   "metadata": {},
   "outputs": [],
   "source": [
    "### Number of heads of households"
   ]
  },
  {
   "cell_type": "code",
   "execution_count": 924,
   "metadata": {},
   "outputs": [],
   "source": [
    "#head_household = costa_train.loc[costa_train['parentesco1'] == 1, :]\n",
    "#head_household.shape"
   ]
  },
  {
   "cell_type": "code",
   "execution_count": 926,
   "metadata": {},
   "outputs": [],
   "source": [
    "# 2970 heads of households"
   ]
  },
  {
   "cell_type": "code",
   "execution_count": null,
   "metadata": {},
   "outputs": [],
   "source": []
  },
  {
   "cell_type": "markdown",
   "metadata": {},
   "source": [
    "### Data is already splitted in training set and testing set"
   ]
  },
  {
   "cell_type": "markdown",
   "metadata": {},
   "source": [
    "Main table is broken into two files for Train (with a Target column) and Test (without the Target column)."
   ]
  },
  {
   "cell_type": "code",
   "execution_count": 927,
   "metadata": {},
   "outputs": [
    {
     "data": {
      "text/plain": [
       "71.4080459770115"
      ]
     },
     "execution_count": 927,
     "metadata": {},
     "output_type": "execute_result"
    }
   ],
   "source": [
    "len(costa_test)*100/(len(costa_test)+len(costa_train))"
   ]
  },
  {
   "cell_type": "markdown",
   "metadata": {},
   "source": [
    "Train = 29% ; Test (without 'Target') = 71%"
   ]
  },
  {
   "cell_type": "markdown",
   "metadata": {},
   "source": [
    "### Splitting \"Train\" to training (80%) and testing sets (20%) "
   ]
  },
  {
   "cell_type": "code",
   "execution_count": 928,
   "metadata": {},
   "outputs": [],
   "source": [
    "y = costa_train['Target']\n",
    "X = costa_train[[col for col in costa_train.columns if (col != 'Target') & (col != 'idhogar')]]\n",
    "\n",
    "X_train, X_test, y_train, y_test = train_test_split(X, y, train_size=0.8, test_size=0.2)"
   ]
  },
  {
   "cell_type": "code",
   "execution_count": 929,
   "metadata": {},
   "outputs": [
    {
     "name": "stdout",
     "output_type": "stream",
     "text": [
      "(7641, 126)\n",
      "(7641,)\n"
     ]
    }
   ],
   "source": [
    "print(X_train.shape)\n",
    "print(y_train.shape)"
   ]
  },
  {
   "cell_type": "code",
   "execution_count": 930,
   "metadata": {},
   "outputs": [
    {
     "name": "stdout",
     "output_type": "stream",
     "text": [
      "(1911, 126)\n",
      "(1911,)\n"
     ]
    }
   ],
   "source": [
    "print(X_test.shape)\n",
    "print(y_test.shape)"
   ]
  },
  {
   "cell_type": "markdown",
   "metadata": {},
   "source": [
    "### Model results"
   ]
  },
  {
   "cell_type": "code",
   "execution_count": 623,
   "metadata": {},
   "outputs": [],
   "source": [
    "model_accuracies = pd.DataFrame()\n",
    "\n",
    "model_accuracies = pd.DataFrame(columns = ['model', 'accuracy', 'mean F1 score'])\n"
   ]
  },
  {
   "cell_type": "markdown",
   "metadata": {},
   "source": [
    "### Random Forest classification\n"
   ]
  },
  {
   "cell_type": "code",
   "execution_count": 624,
   "metadata": {},
   "outputs": [
    {
     "name": "stdout",
     "output_type": "stream",
     "text": [
      "Confusion matrix \n",
      " [[ 111    3    0   27]\n",
      " [   4  274    7   31]\n",
      " [   3    3  185   50]\n",
      " [   5    7    1 1200]] \n",
      "\n",
      "Accuracy score 0.9262166405023547\n",
      "balanced_accuracy_score:  0.8528100687279171 \n",
      "\n",
      "Precision score:  [0.90243902 0.95470383 0.95854922 0.91743119]\n",
      "Recall score : [0.78723404 0.86708861 0.76763485 0.98928277]\n",
      "F1 score : [0.84090909 0.90878939 0.85253456 0.95200317] \n",
      "\n"
     ]
    }
   ],
   "source": [
    "\n",
    "costa_rf = RandomForestClassifier()\n",
    "costa_rf.fit(X_train, y_train)\n",
    "\n",
    "y_pred_test_rf = costa_rf.predict(X_test)\n",
    "\n",
    "print('Confusion matrix \\n', confusion_matrix(y_test, y_pred_test_rf), '\\n')\n",
    "print('Accuracy score', accuracy_score(y_test, y_pred_test_rf))\n",
    "\n",
    "model_accuracies = model_accuracies.append({'model': 'RF', \n",
    "                                            'accuracy': accuracy_score(y_test, y_pred_test_rf),\n",
    "                                            'mean F1 score': np.mean(f1_score(y_test, y_pred_test_rf, average=None))},ignore_index=True)\n",
    "\n",
    "print('balanced_accuracy_score: ', balanced_accuracy_score(y_test, y_pred_test_rf), '\\n')\n",
    "\n",
    "print('Precision score: ', precision_score(y_test, y_pred_test_rf, average=None))\n",
    "print('Recall score :', recall_score(y_test, y_pred_test_rf, average=None))\n",
    "print('F1 score :', f1_score(y_test, y_pred_test_rf, average=None), '\\n')\n",
    "\n",
    "\n",
    "\n"
   ]
  },
  {
   "cell_type": "code",
   "execution_count": 625,
   "metadata": {},
   "outputs": [],
   "source": [
    "#np.mean(f1_score(y_test, y_pred_test_rf, average=None))"
   ]
  },
  {
   "cell_type": "code",
   "execution_count": 626,
   "metadata": {},
   "outputs": [
    {
     "data": {
      "text/html": [
       "<div>\n",
       "<style scoped>\n",
       "    .dataframe tbody tr th:only-of-type {\n",
       "        vertical-align: middle;\n",
       "    }\n",
       "\n",
       "    .dataframe tbody tr th {\n",
       "        vertical-align: top;\n",
       "    }\n",
       "\n",
       "    .dataframe thead th {\n",
       "        text-align: right;\n",
       "    }\n",
       "</style>\n",
       "<table border=\"1\" class=\"dataframe\">\n",
       "  <thead>\n",
       "    <tr style=\"text-align: right;\">\n",
       "      <th></th>\n",
       "      <th>feature</th>\n",
       "      <th>importance</th>\n",
       "    </tr>\n",
       "  </thead>\n",
       "  <tbody>\n",
       "    <tr>\n",
       "      <th>93</th>\n",
       "      <td>meaneduc</td>\n",
       "      <td>0.066583</td>\n",
       "    </tr>\n",
       "    <tr>\n",
       "      <th>125</th>\n",
       "      <td>SQBdependency</td>\n",
       "      <td>0.040919</td>\n",
       "    </tr>\n",
       "    <tr>\n",
       "      <th>104</th>\n",
       "      <td>overcrowding</td>\n",
       "      <td>0.037546</td>\n",
       "    </tr>\n",
       "    <tr>\n",
       "      <th>123</th>\n",
       "      <td>SQBedjefe</td>\n",
       "      <td>0.034976</td>\n",
       "    </tr>\n",
       "    <tr>\n",
       "      <th>88</th>\n",
       "      <td>hogar_nin</td>\n",
       "      <td>0.034451</td>\n",
       "    </tr>\n",
       "    <tr>\n",
       "      <th>113</th>\n",
       "      <td>qmobilephone</td>\n",
       "      <td>0.027991</td>\n",
       "    </tr>\n",
       "    <tr>\n",
       "      <th>1</th>\n",
       "      <td>rooms</td>\n",
       "      <td>0.025685</td>\n",
       "    </tr>\n",
       "    <tr>\n",
       "      <th>122</th>\n",
       "      <td>age</td>\n",
       "      <td>0.024824</td>\n",
       "    </tr>\n",
       "    <tr>\n",
       "      <th>13</th>\n",
       "      <td>r4t2</td>\n",
       "      <td>0.023681</td>\n",
       "    </tr>\n",
       "    <tr>\n",
       "      <th>14</th>\n",
       "      <td>r4t3</td>\n",
       "      <td>0.022881</td>\n",
       "    </tr>\n",
       "    <tr>\n",
       "      <th>124</th>\n",
       "      <td>SQBhogar_nin</td>\n",
       "      <td>0.022422</td>\n",
       "    </tr>\n",
       "    <tr>\n",
       "      <th>15</th>\n",
       "      <td>escolari</td>\n",
       "      <td>0.021555</td>\n",
       "    </tr>\n",
       "    <tr>\n",
       "      <th>7</th>\n",
       "      <td>r4h2</td>\n",
       "      <td>0.021309</td>\n",
       "    </tr>\n",
       "    <tr>\n",
       "      <th>11</th>\n",
       "      <td>r4m3</td>\n",
       "      <td>0.019759</td>\n",
       "    </tr>\n",
       "    <tr>\n",
       "      <th>89</th>\n",
       "      <td>hogar_adul</td>\n",
       "      <td>0.019524</td>\n",
       "    </tr>\n",
       "  </tbody>\n",
       "</table>\n",
       "</div>"
      ],
      "text/plain": [
       "           feature  importance\n",
       "93        meaneduc    0.066583\n",
       "125  SQBdependency    0.040919\n",
       "104   overcrowding    0.037546\n",
       "123      SQBedjefe    0.034976\n",
       "88       hogar_nin    0.034451\n",
       "113   qmobilephone    0.027991\n",
       "1            rooms    0.025685\n",
       "122            age    0.024824\n",
       "13            r4t2    0.023681\n",
       "14            r4t3    0.022881\n",
       "124   SQBhogar_nin    0.022422\n",
       "15        escolari    0.021555\n",
       "7             r4h2    0.021309\n",
       "11            r4m3    0.019759\n",
       "89      hogar_adul    0.019524"
      ]
     },
     "execution_count": 626,
     "metadata": {},
     "output_type": "execute_result"
    }
   ],
   "source": [
    "\n",
    "feature_importances = pd.DataFrame({'feature': list(X_train.columns), 'importance': costa_rf.feature_importances_})\n",
    "feature_importances.sort_values(by='importance', ascending=False).head(15)"
   ]
  },
  {
   "cell_type": "markdown",
   "metadata": {},
   "source": [
    "Most important variable is the average amount of education in the household"
   ]
  },
  {
   "cell_type": "code",
   "execution_count": 627,
   "metadata": {},
   "outputs": [],
   "source": [
    "rcParams['figure.figsize'] = 6, 7\n"
   ]
  },
  {
   "cell_type": "code",
   "execution_count": 628,
   "metadata": {},
   "outputs": [
    {
     "data": {
      "image/png": "[encoded data removed]",
      "text/plain": [
       "<Figure size 432x504 with 1 Axes>"
      ]
     },
     "metadata": {},
     "output_type": "display_data"
    }
   ],
   "source": [
    "ax = sns.boxplot(x=\"Target\", y=\"meaneduc\", data = costa_train)\n",
    "#ax = sns.swarmplot(x=\"Target\", y=\"meaneduc\", data= costa_train, color=\".25\")"
   ]
  },
  {
   "cell_type": "code",
   "execution_count": 629,
   "metadata": {},
   "outputs": [
    {
     "data": {
      "text/plain": [
       "(array([ 0,  1,  2,  3,  4,  5,  6,  7,  8,  9, 10, 11, 12, 13, 14, 15, 16,\n",
       "        17, 18, 19, 20, 21, 22, 23, 24]),\n",
       " <a list of 25 Text xticklabel objects>)"
      ]
     },
     "execution_count": 629,
     "metadata": {},
     "output_type": "execute_result"
    },
    {
     "data": {
      "image/png": "[encoded data removed]",
      "text/plain": [
       "<Figure size 864x504 with 1 Axes>"
      ]
     },
     "metadata": {},
     "output_type": "display_data"
    }
   ],
   "source": [
    "\n",
    "rcParams['figure.figsize'] = 12, 7\n",
    "\n",
    "\n",
    "sns.barplot(x=\"feature\", y=\"importance\", data = feature_importances.sort_values(by='importance', ascending=False).head(25))\n",
    "plt.xticks(rotation=45)\n"
   ]
  },
  {
   "cell_type": "markdown",
   "metadata": {},
   "source": [
    "### Random Forest with cross validation  (higher performance)"
   ]
  },
  {
   "cell_type": "code",
   "execution_count": 630,
   "metadata": {},
   "outputs": [
    {
     "name": "stdout",
     "output_type": "stream",
     "text": [
      "nfold =  10 \n",
      "\n",
      "Confusion matrix \n",
      " [[ 125    2    0   14]\n",
      " [   3  280    1   32]\n",
      " [   2    9  194   36]\n",
      " [   3   13    3 1194]] \n",
      "\n",
      "Accuracy score 0.9382522239665096\n",
      "balanced_accuracy_score:  0.8904790953289886 \n",
      "\n",
      "Precision score:  [0.93984962 0.92105263 0.97979798 0.93573668]\n",
      "Recall score : [0.88652482 0.88607595 0.80497925 0.98433636]\n",
      "F1 score : [0.91240876 0.90322581 0.88382688 0.95942145] \n",
      "\n",
      "nfold =  11 \n",
      "\n",
      "Confusion matrix \n",
      " [[ 114    5    4   18]\n",
      " [   2  275    3   36]\n",
      " [   1    3  193   44]\n",
      " [   3    2    7 1201]] \n",
      "\n",
      "Accuracy score 0.9330193615907901\n",
      "balanced_accuracy_score:  0.8674252126683972 \n",
      "\n",
      "Precision score:  [0.95       0.96491228 0.93236715 0.92455735]\n",
      "Recall score : [0.80851064 0.87025316 0.80082988 0.99010717]\n",
      "F1 score : [0.87356322 0.91514143 0.86160714 0.95621019] \n",
      "\n",
      "nfold =  12 \n",
      "\n",
      "Confusion matrix \n",
      " [[ 121    2    2   16]\n",
      " [   2  274    0   40]\n",
      " [   2    5  205   29]\n",
      " [   2    6    2 1203]] \n",
      "\n",
      "Accuracy score 0.9434850863422292\n",
      "balanced_accuracy_score:  0.8919057548798677 \n",
      "\n",
      "Precision score:  [0.95275591 0.95470383 0.98086124 0.93400621]\n",
      "Recall score : [0.85815603 0.86708861 0.85062241 0.99175598]\n",
      "F1 score : [0.90298507 0.90878939 0.91111111 0.96201519] \n",
      "\n",
      "nfold =  13 \n",
      "\n",
      "Confusion matrix \n",
      " [[ 124    1    0   16]\n",
      " [   3  282    6   25]\n",
      " [   2    7  198   34]\n",
      " [   6    6    3 1198]] \n",
      "\n",
      "Accuracy score 0.9429618001046572\n",
      "balanced_accuracy_score:  0.8952621040662987 \n",
      "\n",
      "Precision score:  [0.91851852 0.9527027  0.95652174 0.94108405]\n",
      "Recall score : [0.87943262 0.89240506 0.82157676 0.98763397]\n",
      "F1 score : [0.89855072 0.92156863 0.88392857 0.96379726] \n",
      "\n",
      "nfold =  14 \n",
      "\n",
      "Confusion matrix \n",
      " [[ 119    2    1   19]\n",
      " [   1  275    3   37]\n",
      " [   2    5  184   50]\n",
      " [   6    5    5 1197]] \n",
      "\n",
      "Accuracy score 0.9288330716902146\n",
      "balanced_accuracy_score:  0.8661299590019589 \n",
      "\n",
      "Precision score:  [0.9296875  0.95818815 0.95336788 0.91864927]\n",
      "Recall score : [0.84397163 0.87025316 0.76348548 0.98680956]\n",
      "F1 score : [0.88475836 0.91210614 0.84792627 0.95151033] \n",
      "\n",
      "nfold =  15 \n",
      "\n",
      "Confusion matrix \n",
      " [[ 115    3    2   21]\n",
      " [   5  271    3   37]\n",
      " [   1    6  188   46]\n",
      " [   2    7    9 1195]] \n",
      "\n",
      "Accuracy score 0.9256933542647828\n",
      "balanced_accuracy_score:  0.859610379897571 \n",
      "\n",
      "Precision score:  [0.93495935 0.94425087 0.93069307 0.91993841]\n",
      "Recall score : [0.81560284 0.85759494 0.78008299 0.98516076]\n",
      "F1 score : [0.87121212 0.89883914 0.84875847 0.95143312] \n",
      "\n",
      "nfold =  16 \n",
      "\n",
      "Confusion matrix \n",
      " [[ 119    4    0   18]\n",
      " [   3  263    4   46]\n",
      " [   0    7  193   41]\n",
      " [   0    9    3 1201]] \n",
      "\n",
      "Accuracy score 0.9293563579277865\n",
      "balanced_accuracy_score:  0.8667967900092717 \n",
      "\n",
      "Precision score:  [0.97540984 0.92932862 0.965      0.91960184]\n",
      "Recall score : [0.84397163 0.83227848 0.80082988 0.99010717]\n",
      "F1 score : [0.90494297 0.87813022 0.87528345 0.953553  ] \n",
      "\n",
      "nfold =  17 \n",
      "\n",
      "Confusion matrix \n",
      " [[ 115    4    2   20]\n",
      " [   4  278    2   32]\n",
      " [   2    3  191   45]\n",
      " [   4    4    3 1202]] \n",
      "\n",
      "Accuracy score 0.934589220303506\n",
      "balanced_accuracy_score:  0.8697030918157074 \n",
      "\n",
      "Precision score:  [0.92       0.96193772 0.96464646 0.92532717]\n",
      "Recall score : [0.81560284 0.87974684 0.79253112 0.99093157]\n",
      "F1 score : [0.86466165 0.91900826 0.87015945 0.95700637] \n",
      "\n",
      "nfold =  18 \n",
      "\n",
      "Confusion matrix \n",
      " [[ 113    3    2   23]\n",
      " [   2  280    3   31]\n",
      " [   2    6  188   45]\n",
      " [   0   12    8 1193]] \n",
      "\n",
      "Accuracy score 0.9283097854526426\n",
      "balanced_accuracy_score:  0.8627723326171847 \n",
      "\n",
      "Precision score:  [0.96581197 0.93023256 0.93532338 0.92337461]\n",
      "Recall score : [0.80141844 0.88607595 0.78008299 0.98351195]\n",
      "F1 score : [0.87596899 0.9076175  0.85067873 0.95249501] \n",
      "\n",
      "nfold =  19 \n",
      "\n",
      "Confusion matrix \n",
      " [[ 122    3    1   15]\n",
      " [   2  276    2   36]\n",
      " [   2    5  199   35]\n",
      " [   7    8    7 1191]] \n",
      "\n",
      "Accuracy score 0.9356357927786499\n",
      "balanced_accuracy_score:  0.8865638096912495 \n",
      "\n",
      "Precision score:  [0.91729323 0.94520548 0.95215311 0.93265466]\n",
      "Recall score : [0.86524823 0.87341772 0.82572614 0.98186315]\n",
      "F1 score : [0.89051095 0.90789474 0.88444444 0.95662651] \n",
      "\n"
     ]
    }
   ],
   "source": [
    "\n",
    "\n",
    "for nfold in range(10, 20, 1): \n",
    "    \n",
    "    costa_rf_cv = RandomForestClassifier()\n",
    "\n",
    "    # 10 fold cross validation\n",
    "    cv_score = cross_val_score(costa_rf_cv, X_train, y_train, cv = nfold)\n",
    "\n",
    "    costa_rf_cv.fit(X_train, y_train)\n",
    "\n",
    "    y_pred_test_rf = costa_rf_cv.predict(X_test)\n",
    "    print('nfold = ', nfold, '\\n')\n",
    "    \n",
    "    print('Confusion matrix \\n', confusion_matrix(y_test, y_pred_test_rf), '\\n')\n",
    "    print('Accuracy score', accuracy_score(y_test, y_pred_test_rf))\n",
    "\n",
    "\n",
    "    print('balanced_accuracy_score: ', balanced_accuracy_score(y_test, y_pred_test_rf), '\\n')\n",
    "\n",
    "    print('Precision score: ', precision_score(y_test, y_pred_test_rf, average=None))\n",
    "    print('Recall score :', recall_score(y_test, y_pred_test_rf, average=None))\n",
    "    print('F1 score :', f1_score(y_test, y_pred_test_rf, average=None), '\\n')\n",
    "\n",
    "    model_accuracies = model_accuracies.append({'model': 'RF-cv-'+str(nfold)+'-nfolds', \n",
    "                                            'accuracy': accuracy_score(y_test, y_pred_test_rf),\n",
    "                                            'mean F1 score': np.mean(f1_score(y_test, y_pred_test_rf, average=None))},ignore_index=True)\n",
    "\n"
   ]
  },
  {
   "cell_type": "code",
   "execution_count": 631,
   "metadata": {},
   "outputs": [
    {
     "data": {
      "text/html": [
       "<div>\n",
       "<style scoped>\n",
       "    .dataframe tbody tr th:only-of-type {\n",
       "        vertical-align: middle;\n",
       "    }\n",
       "\n",
       "    .dataframe tbody tr th {\n",
       "        vertical-align: top;\n",
       "    }\n",
       "\n",
       "    .dataframe thead th {\n",
       "        text-align: right;\n",
       "    }\n",
       "</style>\n",
       "<table border=\"1\" class=\"dataframe\">\n",
       "  <thead>\n",
       "    <tr style=\"text-align: right;\">\n",
       "      <th></th>\n",
       "      <th>model</th>\n",
       "      <th>accuracy</th>\n",
       "      <th>mean F1 score</th>\n",
       "    </tr>\n",
       "  </thead>\n",
       "  <tbody>\n",
       "    <tr>\n",
       "      <th>0</th>\n",
       "      <td>RF</td>\n",
       "      <td>0.926217</td>\n",
       "      <td>0.888559</td>\n",
       "    </tr>\n",
       "    <tr>\n",
       "      <th>1</th>\n",
       "      <td>RF-cv-10-nfolds</td>\n",
       "      <td>0.938252</td>\n",
       "      <td>0.914721</td>\n",
       "    </tr>\n",
       "    <tr>\n",
       "      <th>2</th>\n",
       "      <td>RF-cv-11-nfolds</td>\n",
       "      <td>0.933019</td>\n",
       "      <td>0.901630</td>\n",
       "    </tr>\n",
       "    <tr>\n",
       "      <th>3</th>\n",
       "      <td>RF-cv-12-nfolds</td>\n",
       "      <td>0.943485</td>\n",
       "      <td>0.921225</td>\n",
       "    </tr>\n",
       "    <tr>\n",
       "      <th>4</th>\n",
       "      <td>RF-cv-13-nfolds</td>\n",
       "      <td>0.942962</td>\n",
       "      <td>0.916961</td>\n",
       "    </tr>\n",
       "    <tr>\n",
       "      <th>5</th>\n",
       "      <td>RF-cv-14-nfolds</td>\n",
       "      <td>0.928833</td>\n",
       "      <td>0.899075</td>\n",
       "    </tr>\n",
       "    <tr>\n",
       "      <th>6</th>\n",
       "      <td>RF-cv-15-nfolds</td>\n",
       "      <td>0.925693</td>\n",
       "      <td>0.892561</td>\n",
       "    </tr>\n",
       "    <tr>\n",
       "      <th>7</th>\n",
       "      <td>RF-cv-16-nfolds</td>\n",
       "      <td>0.929356</td>\n",
       "      <td>0.902977</td>\n",
       "    </tr>\n",
       "    <tr>\n",
       "      <th>8</th>\n",
       "      <td>RF-cv-17-nfolds</td>\n",
       "      <td>0.934589</td>\n",
       "      <td>0.902709</td>\n",
       "    </tr>\n",
       "    <tr>\n",
       "      <th>9</th>\n",
       "      <td>RF-cv-18-nfolds</td>\n",
       "      <td>0.928310</td>\n",
       "      <td>0.896690</td>\n",
       "    </tr>\n",
       "    <tr>\n",
       "      <th>10</th>\n",
       "      <td>RF-cv-19-nfolds</td>\n",
       "      <td>0.935636</td>\n",
       "      <td>0.909869</td>\n",
       "    </tr>\n",
       "  </tbody>\n",
       "</table>\n",
       "</div>"
      ],
      "text/plain": [
       "              model  accuracy  mean F1 score\n",
       "0                RF  0.926217       0.888559\n",
       "1   RF-cv-10-nfolds  0.938252       0.914721\n",
       "2   RF-cv-11-nfolds  0.933019       0.901630\n",
       "3   RF-cv-12-nfolds  0.943485       0.921225\n",
       "4   RF-cv-13-nfolds  0.942962       0.916961\n",
       "5   RF-cv-14-nfolds  0.928833       0.899075\n",
       "6   RF-cv-15-nfolds  0.925693       0.892561\n",
       "7   RF-cv-16-nfolds  0.929356       0.902977\n",
       "8   RF-cv-17-nfolds  0.934589       0.902709\n",
       "9   RF-cv-18-nfolds  0.928310       0.896690\n",
       "10  RF-cv-19-nfolds  0.935636       0.909869"
      ]
     },
     "execution_count": 631,
     "metadata": {},
     "output_type": "execute_result"
    }
   ],
   "source": [
    "model_accuracies"
   ]
  },
  {
   "cell_type": "code",
   "execution_count": null,
   "metadata": {},
   "outputs": [],
   "source": []
  },
  {
   "cell_type": "markdown",
   "metadata": {},
   "source": [
    "### K-Neighbors (less performant)\n"
   ]
  },
  {
   "cell_type": "code",
   "execution_count": 632,
   "metadata": {},
   "outputs": [
    {
     "name": "stdout",
     "output_type": "stream",
     "text": [
      "Number of neighbors:  1 \n",
      "\n",
      "Accuracy score:  0.6881214024071167\n",
      "balanced_accuracy_score:  0.5532314902587394 \n",
      "\n",
      "Precision score:  [0.52054795 0.48958333 0.4092827  0.80725806]\n",
      "Recall score : [0.53900709 0.44620253 0.40248963 0.82522671]\n",
      "F1 score : [0.52961672 0.46688742 0.40585774 0.8161435 ] \n",
      "\n",
      "Confusion matrix: \n",
      " [[  76   19   10   36]\n",
      " [  28  141   43  104]\n",
      " [  10   35   97   99]\n",
      " [  32   93   87 1001]] \n",
      "\n",
      "Number of neighbors:  3 \n",
      "\n",
      "Accuracy score:  0.663003663003663\n",
      "balanced_accuracy_score:  0.4869101202053423 \n",
      "\n",
      "Precision score:  [0.33484163 0.4095941  0.43548387 0.79382239]\n",
      "Recall score : [0.5248227  0.35126582 0.22406639 0.84748557]\n",
      "F1 score : [0.40883978 0.37819421 0.29589041 0.81977671] \n",
      "\n",
      "Confusion matrix: \n",
      " [[  74   21    7   39]\n",
      " [  51  111   33  121]\n",
      " [  34   46   54  107]\n",
      " [  62   93   30 1028]] \n",
      "\n",
      "Number of neighbors:  5 \n",
      "\n",
      "Accuracy score:  0.6619570905285191\n",
      "balanced_accuracy_score:  0.45669129664142977 \n",
      "\n",
      "Precision score:  [0.4057971  0.39846743 0.34131737 0.77918216]\n",
      "Recall score : [0.39716312 0.32911392 0.23651452 0.86397362]\n",
      "F1 score : [0.40143369 0.36048527 0.27941176 0.81939015] \n",
      "\n",
      "Confusion matrix: \n",
      " [[  56   24   12   49]\n",
      " [  39  104   45  128]\n",
      " [  14   50   57  120]\n",
      " [  29   83   53 1048]] \n",
      "\n",
      "Number of neighbors:  7 \n",
      "\n",
      "Accuracy score:  0.6713762428048142\n",
      "balanced_accuracy_score:  0.4493545526476066 \n",
      "\n",
      "Precision score:  [0.40909091 0.47826087 0.34693878 0.75719298]\n",
      "Recall score : [0.38297872 0.31329114 0.21161826 0.88953009]\n",
      "F1 score : [0.3956044  0.37858509 0.2628866  0.81804397] \n",
      "\n",
      "Confusion matrix: \n",
      " [[  54   18    9   60]\n",
      " [  33   99   37  147]\n",
      " [  17   34   51  139]\n",
      " [  28   56   50 1079]] \n",
      "\n",
      "Number of neighbors:  9 \n",
      "\n",
      "Accuracy score:  0.6708529565672423\n",
      "balanced_accuracy_score:  0.4239009072737958 \n",
      "\n",
      "Precision score:  [0.38793103 0.45539906 0.33913043 0.75051125]\n",
      "Recall score : [0.31914894 0.30696203 0.16182573 0.90766694]\n",
      "F1 score : [0.35019455 0.36672968 0.21910112 0.82164179] \n",
      "\n",
      "Confusion matrix: \n",
      " [[  45   23    7   66]\n",
      " [  36   97   34  149]\n",
      " [  13   38   39  151]\n",
      " [  22   55   35 1101]] \n",
      "\n",
      "Number of neighbors:  11 \n",
      "\n",
      "Accuracy score:  0.674515960230246\n",
      "balanced_accuracy_score:  0.4099783640239848 \n",
      "\n",
      "Precision score:  [0.40449438 0.45320197 0.37272727 0.74221339]\n",
      "Recall score : [0.25531915 0.29113924 0.17012448 0.92333059]\n",
      "F1 score : [0.31304348 0.35452794 0.23361823 0.82292432] \n",
      "\n",
      "Confusion matrix: \n",
      " [[  36   28    9   68]\n",
      " [  27   92   27  170]\n",
      " [   9   40   41  151]\n",
      " [  17   43   33 1120]] \n",
      "\n",
      "Number of neighbors:  13 \n",
      "\n",
      "Accuracy score:  0.6692830978545264\n",
      "balanced_accuracy_score:  0.39751097054471735 \n",
      "\n",
      "Precision score:  [0.36734694 0.47027027 0.32989691 0.73416068]\n",
      "Recall score : [0.25531915 0.27531646 0.13278008 0.92662819]\n",
      "F1 score : [0.30125523 0.34730539 0.18934911 0.81924198] \n",
      "\n",
      "Confusion matrix: \n",
      " [[  36   22   11   72]\n",
      " [  28   87   26  175]\n",
      " [  10   39   32  160]\n",
      " [  24   37   28 1124]] \n",
      "\n"
     ]
    },
    {
     "data": {
      "image/png": "[encoded data removed]",
      "text/plain": [
       "<Figure size 720x504 with 1 Axes>"
      ]
     },
     "metadata": {},
     "output_type": "display_data"
    }
   ],
   "source": [
    "# initialize and fit the model\n",
    "\n",
    "rcParams['figure.figsize'] = 10, 7\n",
    "\n",
    "for neighbors in range(1,15,2):\n",
    "    neighbor_model = KNeighborsClassifier(n_neighbors=neighbors)\n",
    "    neighbor_model.fit(X_train, y_train) \n",
    "    KNeighborsClassifier()\n",
    "\n",
    "    y_pred_test_kn = neighbor_model.predict(X_test)\n",
    "\n",
    "    print('Number of neighbors: ', neighbors, '\\n')\n",
    "    print('Accuracy score: ', accuracy_score(y_test, y_pred_test_kn))\n",
    "    print('balanced_accuracy_score: ', balanced_accuracy_score(y_test, y_pred_test_kn), '\\n')\n",
    "    \n",
    "    \n",
    "    print('Precision score: ', precision_score(y_test, y_pred_test_kn, average=None))\n",
    "    print('Recall score :', recall_score(y_test, y_pred_test_kn, average=None))\n",
    "    print('F1 score :', f1_score(y_test, y_pred_test_kn, average=None), '\\n')\n",
    "    \n",
    "    \n",
    "    print('Confusion matrix: \\n', confusion_matrix(y_test, y_pred_test_kn), '\\n')\n",
    "    \n",
    "    plt.bar(neighbors, balanced_accuracy_score(y_test, y_pred_test_kn))\n",
    "    plt.gca().legend((['# of neighbors = ' + str(neighbors) for neighbors in range(1,11,2)]))\n",
    "    plt.ylabel('Balanced Accuracy')\n",
    "    plt.xlabel('# of neighbors')\n",
    "    \n",
    "    model_accuracies = model_accuracies.append({'model': 'Knn-'+str(neighbors), \n",
    "                                            'accuracy': accuracy_score(y_test, y_pred_test_kn),\n",
    "                                            'mean F1 score': np.mean(f1_score(y_test, y_pred_test_kn, average=None))},ignore_index=True)\n",
    "\n",
    "    \n",
    "    "
   ]
  },
  {
   "cell_type": "code",
   "execution_count": 633,
   "metadata": {},
   "outputs": [
    {
     "data": {
      "text/html": [
       "<div>\n",
       "<style scoped>\n",
       "    .dataframe tbody tr th:only-of-type {\n",
       "        vertical-align: middle;\n",
       "    }\n",
       "\n",
       "    .dataframe tbody tr th {\n",
       "        vertical-align: top;\n",
       "    }\n",
       "\n",
       "    .dataframe thead th {\n",
       "        text-align: right;\n",
       "    }\n",
       "</style>\n",
       "<table border=\"1\" class=\"dataframe\">\n",
       "  <thead>\n",
       "    <tr style=\"text-align: right;\">\n",
       "      <th></th>\n",
       "      <th>model</th>\n",
       "      <th>accuracy</th>\n",
       "      <th>mean F1 score</th>\n",
       "    </tr>\n",
       "  </thead>\n",
       "  <tbody>\n",
       "    <tr>\n",
       "      <th>0</th>\n",
       "      <td>RF</td>\n",
       "      <td>0.926217</td>\n",
       "      <td>0.888559</td>\n",
       "    </tr>\n",
       "    <tr>\n",
       "      <th>1</th>\n",
       "      <td>RF-cv-10-nfolds</td>\n",
       "      <td>0.938252</td>\n",
       "      <td>0.914721</td>\n",
       "    </tr>\n",
       "    <tr>\n",
       "      <th>2</th>\n",
       "      <td>RF-cv-11-nfolds</td>\n",
       "      <td>0.933019</td>\n",
       "      <td>0.901630</td>\n",
       "    </tr>\n",
       "    <tr>\n",
       "      <th>3</th>\n",
       "      <td>RF-cv-12-nfolds</td>\n",
       "      <td>0.943485</td>\n",
       "      <td>0.921225</td>\n",
       "    </tr>\n",
       "    <tr>\n",
       "      <th>4</th>\n",
       "      <td>RF-cv-13-nfolds</td>\n",
       "      <td>0.942962</td>\n",
       "      <td>0.916961</td>\n",
       "    </tr>\n",
       "    <tr>\n",
       "      <th>5</th>\n",
       "      <td>RF-cv-14-nfolds</td>\n",
       "      <td>0.928833</td>\n",
       "      <td>0.899075</td>\n",
       "    </tr>\n",
       "    <tr>\n",
       "      <th>6</th>\n",
       "      <td>RF-cv-15-nfolds</td>\n",
       "      <td>0.925693</td>\n",
       "      <td>0.892561</td>\n",
       "    </tr>\n",
       "    <tr>\n",
       "      <th>7</th>\n",
       "      <td>RF-cv-16-nfolds</td>\n",
       "      <td>0.929356</td>\n",
       "      <td>0.902977</td>\n",
       "    </tr>\n",
       "    <tr>\n",
       "      <th>8</th>\n",
       "      <td>RF-cv-17-nfolds</td>\n",
       "      <td>0.934589</td>\n",
       "      <td>0.902709</td>\n",
       "    </tr>\n",
       "    <tr>\n",
       "      <th>9</th>\n",
       "      <td>RF-cv-18-nfolds</td>\n",
       "      <td>0.928310</td>\n",
       "      <td>0.896690</td>\n",
       "    </tr>\n",
       "    <tr>\n",
       "      <th>10</th>\n",
       "      <td>RF-cv-19-nfolds</td>\n",
       "      <td>0.935636</td>\n",
       "      <td>0.909869</td>\n",
       "    </tr>\n",
       "    <tr>\n",
       "      <th>11</th>\n",
       "      <td>Knn-1</td>\n",
       "      <td>0.688121</td>\n",
       "      <td>0.554626</td>\n",
       "    </tr>\n",
       "    <tr>\n",
       "      <th>12</th>\n",
       "      <td>Knn-3</td>\n",
       "      <td>0.663004</td>\n",
       "      <td>0.475675</td>\n",
       "    </tr>\n",
       "    <tr>\n",
       "      <th>13</th>\n",
       "      <td>Knn-5</td>\n",
       "      <td>0.661957</td>\n",
       "      <td>0.465180</td>\n",
       "    </tr>\n",
       "    <tr>\n",
       "      <th>14</th>\n",
       "      <td>Knn-7</td>\n",
       "      <td>0.671376</td>\n",
       "      <td>0.463780</td>\n",
       "    </tr>\n",
       "    <tr>\n",
       "      <th>15</th>\n",
       "      <td>Knn-9</td>\n",
       "      <td>0.670853</td>\n",
       "      <td>0.439417</td>\n",
       "    </tr>\n",
       "    <tr>\n",
       "      <th>16</th>\n",
       "      <td>Knn-11</td>\n",
       "      <td>0.674516</td>\n",
       "      <td>0.431028</td>\n",
       "    </tr>\n",
       "    <tr>\n",
       "      <th>17</th>\n",
       "      <td>Knn-13</td>\n",
       "      <td>0.669283</td>\n",
       "      <td>0.414288</td>\n",
       "    </tr>\n",
       "  </tbody>\n",
       "</table>\n",
       "</div>"
      ],
      "text/plain": [
       "              model  accuracy  mean F1 score\n",
       "0                RF  0.926217       0.888559\n",
       "1   RF-cv-10-nfolds  0.938252       0.914721\n",
       "2   RF-cv-11-nfolds  0.933019       0.901630\n",
       "3   RF-cv-12-nfolds  0.943485       0.921225\n",
       "4   RF-cv-13-nfolds  0.942962       0.916961\n",
       "5   RF-cv-14-nfolds  0.928833       0.899075\n",
       "6   RF-cv-15-nfolds  0.925693       0.892561\n",
       "7   RF-cv-16-nfolds  0.929356       0.902977\n",
       "8   RF-cv-17-nfolds  0.934589       0.902709\n",
       "9   RF-cv-18-nfolds  0.928310       0.896690\n",
       "10  RF-cv-19-nfolds  0.935636       0.909869\n",
       "11            Knn-1  0.688121       0.554626\n",
       "12            Knn-3  0.663004       0.475675\n",
       "13            Knn-5  0.661957       0.465180\n",
       "14            Knn-7  0.671376       0.463780\n",
       "15            Knn-9  0.670853       0.439417\n",
       "16           Knn-11  0.674516       0.431028\n",
       "17           Knn-13  0.669283       0.414288"
      ]
     },
     "execution_count": 633,
     "metadata": {},
     "output_type": "execute_result"
    }
   ],
   "source": [
    "model_accuracies"
   ]
  },
  {
   "cell_type": "markdown",
   "metadata": {},
   "source": [
    "### Gradient Boosting"
   ]
  },
  {
   "cell_type": "code",
   "execution_count": 634,
   "metadata": {},
   "outputs": [
    {
     "name": "stdout",
     "output_type": "stream",
     "text": [
      "Confusion matrix \n",
      " [[  69   23    4   45]\n",
      " [   5  161    6  144]\n",
      " [   3   30   57  151]\n",
      " [   5   31    8 1169]] \n",
      "\n",
      "Accuracy score 0.7619047619047619\n",
      "balanced_accuracy_score:  0.549774048567237 \n",
      "\n",
      "Precision score:  [0.84146341 0.65714286 0.76       0.77468522]\n",
      "Recall score : [0.4893617  0.50949367 0.23651452 0.9637263 ]\n",
      "F1 score : [0.61883408 0.57397504 0.36075949 0.85892726] \n",
      "\n"
     ]
    }
   ],
   "source": [
    "\n",
    "costa_gb = GradientBoostingClassifier()\n",
    "\n",
    "costa_gb.fit(X_train, y_train)\n",
    "y_pred_test_gb = costa_gb.predict(X_test)\n",
    "\n",
    "print('Confusion matrix \\n', confusion_matrix(y_test, y_pred_test_gb), '\\n')\n",
    "print('Accuracy score', accuracy_score(y_test, y_pred_test_gb))\n",
    "\n",
    "model_accuracies = model_accuracies.append({'model': 'GradientBoosting', \n",
    "                                            'accuracy': accuracy_score(y_test, y_pred_test_gb),\n",
    "                                            'mean F1 score': np.mean(f1_score(y_test, y_pred_test_gb, average=None))},ignore_index=True)\n",
    "\n",
    "\n",
    "print('balanced_accuracy_score: ', balanced_accuracy_score(y_test, y_pred_test_gb), '\\n')\n",
    "accuracy_score(y_test, y_pred_test_gb)\n",
    "\n",
    "\n",
    "print('Precision score: ', precision_score(y_test, y_pred_test_gb, average=None))\n",
    "print('Recall score :', recall_score(y_test, y_pred_test_gb, average=None))\n",
    "print('F1 score :', f1_score(y_test, y_pred_test_gb, average=None), '\\n')\n",
    "\n"
   ]
  },
  {
   "cell_type": "markdown",
   "metadata": {},
   "source": [
    "### Gaussian Naive Bayes\n"
   ]
  },
  {
   "cell_type": "code",
   "execution_count": 635,
   "metadata": {},
   "outputs": [
    {
     "name": "stdout",
     "output_type": "stream",
     "text": [
      "Confusion matrix \n",
      " [[ 55   3  80   3]\n",
      " [ 56  17 226  17]\n",
      " [ 24   4 190  23]\n",
      " [ 48  12 652 501]] \n",
      "\n",
      "Accuracy score 0.3992673992673993\n",
      "balanced_accuracy_score:  0.4113189223875983 \n",
      "\n",
      "Precision score:  [0.30054645 0.47222222 0.16550523 0.92095588]\n",
      "Recall score : [0.39007092 0.05379747 0.78838174 0.41302556]\n",
      "F1 score : [0.33950617 0.09659091 0.27357811 0.57029027] \n",
      "\n"
     ]
    }
   ],
   "source": [
    "gnb = GaussianNB()\n",
    "y_pred = gnb.fit(X_train, y_train)\n",
    "\n",
    "\n",
    "y_pred_test_gnb = gnb.predict(X_test)\n",
    "\n",
    "print('Confusion matrix \\n', confusion_matrix(y_test, y_pred_test_gnb), '\\n')\n",
    "print('Accuracy score', accuracy_score(y_test, y_pred_test_gnb))\n",
    "\n",
    "model_accuracies = model_accuracies.append({'model': 'Gaussian Naive Bayes', \n",
    "                                            'accuracy': accuracy_score(y_test, y_pred_test_gnb),\n",
    "                                            'mean F1 score': np.mean(f1_score(y_test, y_pred_test_gnb, average=None))},ignore_index=True)\n",
    "\n",
    "\n",
    "print('balanced_accuracy_score: ', balanced_accuracy_score(y_test, y_pred_test_gnb), '\\n')\n",
    "\n",
    "print('Precision score: ', precision_score(y_test, y_pred_test_gnb, average=None))\n",
    "print('Recall score :', recall_score(y_test, y_pred_test_gnb, average=None))\n",
    "print('F1 score :', f1_score(y_test, y_pred_test_gnb, average=None), '\\n')\n",
    "\n"
   ]
  },
  {
   "cell_type": "markdown",
   "metadata": {},
   "source": [
    "### RBF SVM"
   ]
  },
  {
   "cell_type": "code",
   "execution_count": 636,
   "metadata": {},
   "outputs": [
    {
     "name": "stdout",
     "output_type": "stream",
     "text": [
      "Confusion matrix \n",
      " [[   2    0    0  139]\n",
      " [   0    2    0  314]\n",
      " [   0    0    0  241]\n",
      " [   0    0    0 1213]] \n",
      "\n",
      "Accuracy score 0.6368393511250654\n",
      "balanced_accuracy_score:  0.2551283777717928 \n",
      "\n",
      "Precision score:  [1.         1.         0.         0.63607761]\n",
      "Recall score : [0.0141844  0.00632911 0.         1.        ]\n",
      "F1 score : [0.02797203 0.01257862 0.         0.7775641 ] \n",
      "\n"
     ]
    }
   ],
   "source": [
    "SVM = SVC(gamma=2, C=1)\n",
    "y_pred = SVM.fit(X_train, y_train)\n",
    "\n",
    "\n",
    "y_pred_test_SVM = SVM.predict(X_test)\n",
    "\n",
    "print('Confusion matrix \\n', confusion_matrix(y_test, y_pred_test_SVM), '\\n')\n",
    "print('Accuracy score', accuracy_score(y_test, y_pred_test_SVM))\n",
    "\n",
    "\n",
    "model_accuracies = model_accuracies.append({'model': 'RBF SVM', \n",
    "                                            'accuracy': accuracy_score(y_test, y_pred_test_SVM),\n",
    "                                            'mean F1 score': np.mean(f1_score(y_test, y_pred_test_SVM, average=None))},ignore_index=True)\n",
    "\n",
    "\n",
    "print('balanced_accuracy_score: ', balanced_accuracy_score(y_test, y_pred_test_SVM), '\\n')\n",
    "\n",
    "print('Precision score: ', precision_score(y_test, y_pred_test_SVM, average=None))\n",
    "print('Recall score :', recall_score(y_test, y_pred_test_SVM, average=None))\n",
    "print('F1 score :', f1_score(y_test, y_pred_test_SVM, average=None), '\\n')\n"
   ]
  },
  {
   "cell_type": "code",
   "execution_count": null,
   "metadata": {},
   "outputs": [],
   "source": []
  },
  {
   "cell_type": "code",
   "execution_count": 564,
   "metadata": {},
   "outputs": [
    {
     "data": {
      "text/plain": [
       "\"\\nMLP = MLPClassifier(alpha=1, max_iter=1000)\\ny_pred = MLP.fit(X_train, y_train)\\n\\n\\ny_pred_test_MLP = MLP.predict(X_test)\\n\\nprint('Confusion matrix \\n', confusion_matrix(y_test, y_pred_test_MLP), '\\n')\\nprint('Accuracy score', accuracy_score(y_test, y_pred_test_MLP))\\n\\n\\nmodel_accuracies = model_accuracies.append({'model': 'MLP', \\n                                            'accuracy': accuracy_score(y_test, y_pred_test_MLP),\\n                                            'mean F1 score': np.mean(f1_score(y_test, y_pred_test_MLP, average=None))},ignore_index=True)\\n\\n\\nprint('balanced_accuracy_score: ', balanced_accuracy_score(y_test, y_pred_test_MLP), '\\n')\\n\\nprint('Precision score: ', precision_score(y_test, y_pred_test_MLP, average=None))\\nprint('Recall score :', recall_score(y_test, y_pred_test_MLP, average=None))\\nprint('F1 score :', f1_score(y_test, y_pred_test_MLP, average=None), '\\n')\\n\""
      ]
     },
     "execution_count": 564,
     "metadata": {},
     "output_type": "execute_result"
    }
   ],
   "source": [
    "\"\"\"\n",
    "MLP = MLPClassifier(alpha=1, max_iter=1000)\n",
    "y_pred = MLP.fit(X_train, y_train)\n",
    "\n",
    "\n",
    "y_pred_test_MLP = MLP.predict(X_test)\n",
    "\n",
    "print('Confusion matrix \\n', confusion_matrix(y_test, y_pred_test_MLP), '\\n')\n",
    "print('Accuracy score', accuracy_score(y_test, y_pred_test_MLP))\n",
    "\n",
    "\n",
    "model_accuracies = model_accuracies.append({'model': 'MLP', \n",
    "                                            'accuracy': accuracy_score(y_test, y_pred_test_MLP),\n",
    "                                            'mean F1 score': np.mean(f1_score(y_test, y_pred_test_MLP, average=None))},ignore_index=True)\n",
    "\n",
    "\n",
    "print('balanced_accuracy_score: ', balanced_accuracy_score(y_test, y_pred_test_MLP), '\\n')\n",
    "\n",
    "print('Precision score: ', precision_score(y_test, y_pred_test_MLP, average=None))\n",
    "print('Recall score :', recall_score(y_test, y_pred_test_MLP, average=None))\n",
    "print('F1 score :', f1_score(y_test, y_pred_test_MLP, average=None), '\\n')\n",
    "\"\"\""
   ]
  },
  {
   "cell_type": "markdown",
   "metadata": {},
   "source": [
    "### Model selection"
   ]
  },
  {
   "cell_type": "code",
   "execution_count": 932,
   "metadata": {},
   "outputs": [
    {
     "data": {
      "text/html": [
       "<div>\n",
       "<style scoped>\n",
       "    .dataframe tbody tr th:only-of-type {\n",
       "        vertical-align: middle;\n",
       "    }\n",
       "\n",
       "    .dataframe tbody tr th {\n",
       "        vertical-align: top;\n",
       "    }\n",
       "\n",
       "    .dataframe thead th {\n",
       "        text-align: right;\n",
       "    }\n",
       "</style>\n",
       "<table border=\"1\" class=\"dataframe\">\n",
       "  <thead>\n",
       "    <tr style=\"text-align: right;\">\n",
       "      <th></th>\n",
       "      <th>model</th>\n",
       "      <th>accuracy</th>\n",
       "      <th>mean F1 score</th>\n",
       "    </tr>\n",
       "  </thead>\n",
       "  <tbody>\n",
       "    <tr>\n",
       "      <th>0</th>\n",
       "      <td>RF-cv-12-nfolds</td>\n",
       "      <td>0.943485</td>\n",
       "      <td>0.921225</td>\n",
       "    </tr>\n",
       "    <tr>\n",
       "      <th>1</th>\n",
       "      <td>RF-cv-13-nfolds</td>\n",
       "      <td>0.942962</td>\n",
       "      <td>0.916961</td>\n",
       "    </tr>\n",
       "    <tr>\n",
       "      <th>2</th>\n",
       "      <td>RF-cv-10-nfolds</td>\n",
       "      <td>0.938252</td>\n",
       "      <td>0.914721</td>\n",
       "    </tr>\n",
       "    <tr>\n",
       "      <th>3</th>\n",
       "      <td>RF-cv-19-nfolds</td>\n",
       "      <td>0.935636</td>\n",
       "      <td>0.909869</td>\n",
       "    </tr>\n",
       "    <tr>\n",
       "      <th>4</th>\n",
       "      <td>RF-cv-16-nfolds</td>\n",
       "      <td>0.929356</td>\n",
       "      <td>0.902977</td>\n",
       "    </tr>\n",
       "    <tr>\n",
       "      <th>5</th>\n",
       "      <td>RF-cv-17-nfolds</td>\n",
       "      <td>0.934589</td>\n",
       "      <td>0.902709</td>\n",
       "    </tr>\n",
       "    <tr>\n",
       "      <th>6</th>\n",
       "      <td>RF-cv-11-nfolds</td>\n",
       "      <td>0.933019</td>\n",
       "      <td>0.901630</td>\n",
       "    </tr>\n",
       "    <tr>\n",
       "      <th>7</th>\n",
       "      <td>RF-cv-14-nfolds</td>\n",
       "      <td>0.928833</td>\n",
       "      <td>0.899075</td>\n",
       "    </tr>\n",
       "    <tr>\n",
       "      <th>8</th>\n",
       "      <td>RF-cv-18-nfolds</td>\n",
       "      <td>0.928310</td>\n",
       "      <td>0.896690</td>\n",
       "    </tr>\n",
       "    <tr>\n",
       "      <th>9</th>\n",
       "      <td>RF-cv-15-nfolds</td>\n",
       "      <td>0.925693</td>\n",
       "      <td>0.892561</td>\n",
       "    </tr>\n",
       "    <tr>\n",
       "      <th>10</th>\n",
       "      <td>RF</td>\n",
       "      <td>0.926217</td>\n",
       "      <td>0.888559</td>\n",
       "    </tr>\n",
       "    <tr>\n",
       "      <th>11</th>\n",
       "      <td>GradientBoosting</td>\n",
       "      <td>0.761905</td>\n",
       "      <td>0.603124</td>\n",
       "    </tr>\n",
       "    <tr>\n",
       "      <th>12</th>\n",
       "      <td>Knn-1</td>\n",
       "      <td>0.688121</td>\n",
       "      <td>0.554626</td>\n",
       "    </tr>\n",
       "    <tr>\n",
       "      <th>13</th>\n",
       "      <td>Knn-3</td>\n",
       "      <td>0.663004</td>\n",
       "      <td>0.475675</td>\n",
       "    </tr>\n",
       "    <tr>\n",
       "      <th>14</th>\n",
       "      <td>Knn-5</td>\n",
       "      <td>0.661957</td>\n",
       "      <td>0.465180</td>\n",
       "    </tr>\n",
       "    <tr>\n",
       "      <th>15</th>\n",
       "      <td>Knn-7</td>\n",
       "      <td>0.671376</td>\n",
       "      <td>0.463780</td>\n",
       "    </tr>\n",
       "    <tr>\n",
       "      <th>16</th>\n",
       "      <td>Knn-9</td>\n",
       "      <td>0.670853</td>\n",
       "      <td>0.439417</td>\n",
       "    </tr>\n",
       "    <tr>\n",
       "      <th>17</th>\n",
       "      <td>Knn-11</td>\n",
       "      <td>0.674516</td>\n",
       "      <td>0.431028</td>\n",
       "    </tr>\n",
       "    <tr>\n",
       "      <th>18</th>\n",
       "      <td>Knn-13</td>\n",
       "      <td>0.669283</td>\n",
       "      <td>0.414288</td>\n",
       "    </tr>\n",
       "    <tr>\n",
       "      <th>19</th>\n",
       "      <td>Gaussian Naive Bayes</td>\n",
       "      <td>0.399267</td>\n",
       "      <td>0.319991</td>\n",
       "    </tr>\n",
       "    <tr>\n",
       "      <th>20</th>\n",
       "      <td>RBF SVM</td>\n",
       "      <td>0.636839</td>\n",
       "      <td>0.204529</td>\n",
       "    </tr>\n",
       "  </tbody>\n",
       "</table>\n",
       "</div>"
      ],
      "text/plain": [
       "                   model  accuracy  mean F1 score\n",
       "0        RF-cv-12-nfolds  0.943485       0.921225\n",
       "1        RF-cv-13-nfolds  0.942962       0.916961\n",
       "2        RF-cv-10-nfolds  0.938252       0.914721\n",
       "3        RF-cv-19-nfolds  0.935636       0.909869\n",
       "4        RF-cv-16-nfolds  0.929356       0.902977\n",
       "5        RF-cv-17-nfolds  0.934589       0.902709\n",
       "6        RF-cv-11-nfolds  0.933019       0.901630\n",
       "7        RF-cv-14-nfolds  0.928833       0.899075\n",
       "8        RF-cv-18-nfolds  0.928310       0.896690\n",
       "9        RF-cv-15-nfolds  0.925693       0.892561\n",
       "10                    RF  0.926217       0.888559\n",
       "11      GradientBoosting  0.761905       0.603124\n",
       "12                 Knn-1  0.688121       0.554626\n",
       "13                 Knn-3  0.663004       0.475675\n",
       "14                 Knn-5  0.661957       0.465180\n",
       "15                 Knn-7  0.671376       0.463780\n",
       "16                 Knn-9  0.670853       0.439417\n",
       "17                Knn-11  0.674516       0.431028\n",
       "18                Knn-13  0.669283       0.414288\n",
       "19  Gaussian Naive Bayes  0.399267       0.319991\n",
       "20               RBF SVM  0.636839       0.204529"
      ]
     },
     "execution_count": 932,
     "metadata": {},
     "output_type": "execute_result"
    }
   ],
   "source": [
    "model_accuracies.sort_values(by = ['mean F1 score'], ascending=False, inplace=True)\n",
    "model_accuracies"
   ]
  },
  {
   "cell_type": "code",
   "execution_count": 933,
   "metadata": {},
   "outputs": [
    {
     "data": {
      "image/png": "[encoded data removed]",
      "text/plain": [
       "<Figure size 1152x432 with 1 Axes>"
      ]
     },
     "metadata": {},
     "output_type": "display_data"
    }
   ],
   "source": [
    "rcParams['figure.figsize'] = 16, 6\n",
    "\n",
    "#model_accuracies.sort_values(by = ['mean F1 score'], ascending=False, inplace=True)\n",
    "model_accuracies.set_index('model', inplace = True)\n",
    "model_accuracies.plot.bar()\n",
    "plt.title('Model accuracies')\n",
    "plt.ylabel('Accuracies') \n",
    "plt.xticks(rotation=45)\n",
    "\n",
    "model_accuracies.reset_index(inplace = True)"
   ]
  },
  {
   "cell_type": "markdown",
   "metadata": {},
   "source": [
    "### Applying cross-validation RF model to predict Test dataset\n"
   ]
  },
  {
   "cell_type": "markdown",
   "metadata": {},
   "source": [
    "NB: Submission file \n",
    "* This file contains all test IDs and a default value.\n",
    "* Note that ONLY the heads of household are used in scoring. All household members are included in test + the sample submission, but only heads of households are scored."
   ]
  },
  {
   "cell_type": "code",
   "execution_count": 934,
   "metadata": {},
   "outputs": [
    {
     "data": {
      "text/html": [
       "<div>\n",
       "<style scoped>\n",
       "    .dataframe tbody tr th:only-of-type {\n",
       "        vertical-align: middle;\n",
       "    }\n",
       "\n",
       "    .dataframe tbody tr th {\n",
       "        vertical-align: top;\n",
       "    }\n",
       "\n",
       "    .dataframe thead th {\n",
       "        text-align: right;\n",
       "    }\n",
       "</style>\n",
       "<table border=\"1\" class=\"dataframe\">\n",
       "  <thead>\n",
       "    <tr style=\"text-align: right;\">\n",
       "      <th></th>\n",
       "      <th>hacdor</th>\n",
       "      <th>rooms</th>\n",
       "      <th>hacapo</th>\n",
       "      <th>v14a</th>\n",
       "      <th>refrig</th>\n",
       "      <th>v18q</th>\n",
       "      <th>r4h1</th>\n",
       "      <th>r4h2</th>\n",
       "      <th>r4h3</th>\n",
       "      <th>r4m1</th>\n",
       "      <th>...</th>\n",
       "      <th>lugar3</th>\n",
       "      <th>lugar4</th>\n",
       "      <th>lugar5</th>\n",
       "      <th>lugar6</th>\n",
       "      <th>area1</th>\n",
       "      <th>area2</th>\n",
       "      <th>age</th>\n",
       "      <th>SQBedjefe</th>\n",
       "      <th>SQBhogar_nin</th>\n",
       "      <th>SQBdependency</th>\n",
       "    </tr>\n",
       "  </thead>\n",
       "  <tbody>\n",
       "    <tr>\n",
       "      <th>0</th>\n",
       "      <td>0</td>\n",
       "      <td>5</td>\n",
       "      <td>0</td>\n",
       "      <td>1</td>\n",
       "      <td>1</td>\n",
       "      <td>0</td>\n",
       "      <td>1</td>\n",
       "      <td>1</td>\n",
       "      <td>2</td>\n",
       "      <td>0</td>\n",
       "      <td>...</td>\n",
       "      <td>0</td>\n",
       "      <td>0</td>\n",
       "      <td>0</td>\n",
       "      <td>0</td>\n",
       "      <td>1</td>\n",
       "      <td>0</td>\n",
       "      <td>4</td>\n",
       "      <td>0</td>\n",
       "      <td>1</td>\n",
       "      <td>0.25</td>\n",
       "    </tr>\n",
       "    <tr>\n",
       "      <th>1</th>\n",
       "      <td>0</td>\n",
       "      <td>5</td>\n",
       "      <td>0</td>\n",
       "      <td>1</td>\n",
       "      <td>1</td>\n",
       "      <td>0</td>\n",
       "      <td>1</td>\n",
       "      <td>1</td>\n",
       "      <td>2</td>\n",
       "      <td>0</td>\n",
       "      <td>...</td>\n",
       "      <td>0</td>\n",
       "      <td>0</td>\n",
       "      <td>0</td>\n",
       "      <td>0</td>\n",
       "      <td>1</td>\n",
       "      <td>0</td>\n",
       "      <td>41</td>\n",
       "      <td>0</td>\n",
       "      <td>1</td>\n",
       "      <td>0.25</td>\n",
       "    </tr>\n",
       "    <tr>\n",
       "      <th>2</th>\n",
       "      <td>0</td>\n",
       "      <td>5</td>\n",
       "      <td>0</td>\n",
       "      <td>1</td>\n",
       "      <td>1</td>\n",
       "      <td>0</td>\n",
       "      <td>1</td>\n",
       "      <td>1</td>\n",
       "      <td>2</td>\n",
       "      <td>0</td>\n",
       "      <td>...</td>\n",
       "      <td>0</td>\n",
       "      <td>0</td>\n",
       "      <td>0</td>\n",
       "      <td>0</td>\n",
       "      <td>1</td>\n",
       "      <td>0</td>\n",
       "      <td>41</td>\n",
       "      <td>0</td>\n",
       "      <td>1</td>\n",
       "      <td>0.25</td>\n",
       "    </tr>\n",
       "    <tr>\n",
       "      <th>3</th>\n",
       "      <td>0</td>\n",
       "      <td>14</td>\n",
       "      <td>0</td>\n",
       "      <td>1</td>\n",
       "      <td>1</td>\n",
       "      <td>1</td>\n",
       "      <td>0</td>\n",
       "      <td>1</td>\n",
       "      <td>1</td>\n",
       "      <td>0</td>\n",
       "      <td>...</td>\n",
       "      <td>0</td>\n",
       "      <td>0</td>\n",
       "      <td>0</td>\n",
       "      <td>0</td>\n",
       "      <td>1</td>\n",
       "      <td>0</td>\n",
       "      <td>59</td>\n",
       "      <td>256</td>\n",
       "      <td>0</td>\n",
       "      <td>0.00</td>\n",
       "    </tr>\n",
       "    <tr>\n",
       "      <th>4</th>\n",
       "      <td>0</td>\n",
       "      <td>4</td>\n",
       "      <td>0</td>\n",
       "      <td>1</td>\n",
       "      <td>1</td>\n",
       "      <td>1</td>\n",
       "      <td>0</td>\n",
       "      <td>0</td>\n",
       "      <td>0</td>\n",
       "      <td>0</td>\n",
       "      <td>...</td>\n",
       "      <td>0</td>\n",
       "      <td>0</td>\n",
       "      <td>0</td>\n",
       "      <td>0</td>\n",
       "      <td>1</td>\n",
       "      <td>0</td>\n",
       "      <td>18</td>\n",
       "      <td>0</td>\n",
       "      <td>1</td>\n",
       "      <td>64.00</td>\n",
       "    </tr>\n",
       "  </tbody>\n",
       "</table>\n",
       "<p>5 rows × 127 columns</p>\n",
       "</div>"
      ],
      "text/plain": [
       "   hacdor  rooms  hacapo  v14a  refrig  v18q  r4h1  r4h2  r4h3  r4m1  ...  \\\n",
       "0       0      5       0     1       1     0     1     1     2     0  ...   \n",
       "1       0      5       0     1       1     0     1     1     2     0  ...   \n",
       "2       0      5       0     1       1     0     1     1     2     0  ...   \n",
       "3       0     14       0     1       1     1     0     1     1     0  ...   \n",
       "4       0      4       0     1       1     1     0     0     0     0  ...   \n",
       "\n",
       "   lugar3  lugar4  lugar5  lugar6  area1  area2  age  SQBedjefe  SQBhogar_nin  \\\n",
       "0       0       0       0       0      1      0    4          0             1   \n",
       "1       0       0       0       0      1      0   41          0             1   \n",
       "2       0       0       0       0      1      0   41          0             1   \n",
       "3       0       0       0       0      1      0   59        256             0   \n",
       "4       0       0       0       0      1      0   18          0             1   \n",
       "\n",
       "   SQBdependency  \n",
       "0           0.25  \n",
       "1           0.25  \n",
       "2           0.25  \n",
       "3           0.00  \n",
       "4          64.00  \n",
       "\n",
       "[5 rows x 127 columns]"
      ]
     },
     "execution_count": 934,
     "metadata": {},
     "output_type": "execute_result"
    }
   ],
   "source": [
    "costa_test.head()"
   ]
  },
  {
   "cell_type": "code",
   "execution_count": 936,
   "metadata": {},
   "outputs": [
    {
     "data": {
      "text/plain": [
       "23825"
      ]
     },
     "execution_count": 936,
     "metadata": {},
     "output_type": "execute_result"
    }
   ],
   "source": [
    "len(costa_test.dropna())"
   ]
  },
  {
   "cell_type": "markdown",
   "metadata": {},
   "source": [
    "### Applying model on entire TRAIN set"
   ]
  },
  {
   "cell_type": "markdown",
   "metadata": {},
   "source": [
    "#### Dropping Na's in X_test  and extracting list of IDs to predict"
   ]
  },
  {
   "cell_type": "code",
   "execution_count": 994,
   "metadata": {},
   "outputs": [
    {
     "data": {
      "text/plain": [
       "23825"
      ]
     },
     "execution_count": 994,
     "metadata": {},
     "output_type": "execute_result"
    }
   ],
   "source": [
    "X_test_with_ID = costa_test.dropna()\n",
    "len(X_test_with_ID)"
   ]
  },
  {
   "cell_type": "code",
   "execution_count": 1121,
   "metadata": {},
   "outputs": [
    {
     "name": "stdout",
     "output_type": "stream",
     "text": [
      "23825\n"
     ]
    },
    {
     "data": {
      "text/html": [
       "<div>\n",
       "<style scoped>\n",
       "    .dataframe tbody tr th:only-of-type {\n",
       "        vertical-align: middle;\n",
       "    }\n",
       "\n",
       "    .dataframe tbody tr th {\n",
       "        vertical-align: top;\n",
       "    }\n",
       "\n",
       "    .dataframe thead th {\n",
       "        text-align: right;\n",
       "    }\n",
       "</style>\n",
       "<table border=\"1\" class=\"dataframe\">\n",
       "  <thead>\n",
       "    <tr style=\"text-align: right;\">\n",
       "      <th></th>\n",
       "      <th>idhogar</th>\n",
       "      <th>parentesco1</th>\n",
       "    </tr>\n",
       "  </thead>\n",
       "  <tbody>\n",
       "    <tr>\n",
       "      <th>0</th>\n",
       "      <td>72958b30c</td>\n",
       "      <td>0</td>\n",
       "    </tr>\n",
       "    <tr>\n",
       "      <th>1</th>\n",
       "      <td>72958b30c</td>\n",
       "      <td>0</td>\n",
       "    </tr>\n",
       "    <tr>\n",
       "      <th>2</th>\n",
       "      <td>72958b30c</td>\n",
       "      <td>1</td>\n",
       "    </tr>\n",
       "    <tr>\n",
       "      <th>3</th>\n",
       "      <td>5b598fbc9</td>\n",
       "      <td>1</td>\n",
       "    </tr>\n",
       "    <tr>\n",
       "      <th>5</th>\n",
       "      <td>8ee7365a8</td>\n",
       "      <td>0</td>\n",
       "    </tr>\n",
       "  </tbody>\n",
       "</table>\n",
       "</div>"
      ],
      "text/plain": [
       "     idhogar  parentesco1\n",
       "0  72958b30c            0\n",
       "1  72958b30c            0\n",
       "2  72958b30c            1\n",
       "3  5b598fbc9            1\n",
       "5  8ee7365a8            0"
      ]
     },
     "execution_count": 1121,
     "metadata": {},
     "output_type": "execute_result"
    }
   ],
   "source": [
    "list_ID_test = X_test_with_ID[['idhogar', 'parentesco1']]\n",
    "print(len(list_ID_test))\n",
    "list_ID_test.head()"
   ]
  },
  {
   "cell_type": "code",
   "execution_count": 1126,
   "metadata": {},
   "outputs": [
    {
     "data": {
      "text/plain": [
       "7335"
      ]
     },
     "execution_count": 1126,
     "metadata": {},
     "output_type": "execute_result"
    }
   ],
   "source": [
    "len(list_ID_test['idhogar'].unique())\n"
   ]
  },
  {
   "cell_type": "markdown",
   "metadata": {},
   "source": [
    "#### Dropping IDs of X_test"
   ]
  },
  {
   "cell_type": "code",
   "execution_count": 965,
   "metadata": {},
   "outputs": [
    {
     "data": {
      "text/plain": [
       "23825"
      ]
     },
     "execution_count": 965,
     "metadata": {},
     "output_type": "execute_result"
    }
   ],
   "source": [
    "X_test = X_test_with_ID[[col for col in X_test_with_ID if (col != 'idhogar')]]\n",
    "len(X_test)"
   ]
  },
  {
   "cell_type": "markdown",
   "metadata": {},
   "source": [
    "#### Training model on the entire Training set"
   ]
  },
  {
   "cell_type": "code",
   "execution_count": 959,
   "metadata": {},
   "outputs": [
    {
     "data": {
      "text/plain": [
       "9552"
      ]
     },
     "execution_count": 959,
     "metadata": {},
     "output_type": "execute_result"
    }
   ],
   "source": [
    "X = costa_train[[col for col in costa_train if (col != 'Target') & (col != 'idhogar')]]\n",
    "len(X)"
   ]
  },
  {
   "cell_type": "code",
   "execution_count": 960,
   "metadata": {},
   "outputs": [
    {
     "data": {
      "text/plain": [
       "9552"
      ]
     },
     "execution_count": 960,
     "metadata": {},
     "output_type": "execute_result"
    }
   ],
   "source": [
    "Y = costa_train['Target']\n",
    "len(Y)"
   ]
  },
  {
   "cell_type": "code",
   "execution_count": 961,
   "metadata": {},
   "outputs": [
    {
     "data": {
      "text/plain": [
       "RandomForestClassifier(bootstrap=True, class_weight=None, criterion='gini',\n",
       "            max_depth=None, max_features='auto', max_leaf_nodes=None,\n",
       "            min_impurity_decrease=0.0, min_impurity_split=None,\n",
       "            min_samples_leaf=1, min_samples_split=2,\n",
       "            min_weight_fraction_leaf=0.0, n_estimators=10, n_jobs=None,\n",
       "            oob_score=False, random_state=None, verbose=0,\n",
       "            warm_start=False)"
      ]
     },
     "execution_count": 961,
     "metadata": {},
     "output_type": "execute_result"
    }
   ],
   "source": [
    "# Init RF model\n",
    "\n",
    "model_rf_cv = RandomForestClassifier()\n",
    "\n",
    "# 12 fold cross validation\n",
    "cv_score = cross_val_score(model_rf_cv, X, y, cv = 12)\n",
    "\n",
    "model_rf_cv.fit(X, y)\n",
    "\n"
   ]
  },
  {
   "cell_type": "markdown",
   "metadata": {},
   "source": [
    "#### predicting on X_Test"
   ]
  },
  {
   "cell_type": "code",
   "execution_count": 1005,
   "metadata": {},
   "outputs": [
    {
     "name": "stdout",
     "output_type": "stream",
     "text": [
      "23825\n"
     ]
    }
   ],
   "source": [
    "y_pred = model_rf_cv.predict(X_test)\n",
    "print(len(y_pred))"
   ]
  },
  {
   "cell_type": "code",
   "execution_count": 1006,
   "metadata": {},
   "outputs": [
    {
     "data": {
      "text/plain": [
       "array([4, 4, 4, 4, 4, 4, 4, 4, 4, 4, 4, 4, 4, 4, 4, 4, 4, 4, 4, 4, 4, 4,\n",
       "       2, 4, 4, 4, 4, 4, 4, 4, 4, 4, 4, 4, 4, 4, 4, 4, 4, 4, 4, 4, 4, 4,\n",
       "       4, 4, 4, 4, 4, 1])"
      ]
     },
     "execution_count": 1006,
     "metadata": {},
     "output_type": "execute_result"
    }
   ],
   "source": [
    "y_pred[:50]"
   ]
  },
  {
   "cell_type": "markdown",
   "metadata": {},
   "source": [
    "#### Merging list of IDs and predictions"
   ]
  },
  {
   "cell_type": "code",
   "execution_count": 1007,
   "metadata": {},
   "outputs": [],
   "source": [
    "predictions = pd.DataFrame({'ID': list_ID_test['idhogar'], 'parentesco1' : list_ID_test['parentesco1'], 'Target' : y_pred})\n",
    "\n"
   ]
  },
  {
   "cell_type": "code",
   "execution_count": 1015,
   "metadata": {},
   "outputs": [
    {
     "data": {
      "text/html": [
       "<div>\n",
       "<style scoped>\n",
       "    .dataframe tbody tr th:only-of-type {\n",
       "        vertical-align: middle;\n",
       "    }\n",
       "\n",
       "    .dataframe tbody tr th {\n",
       "        vertical-align: top;\n",
       "    }\n",
       "\n",
       "    .dataframe thead th {\n",
       "        text-align: right;\n",
       "    }\n",
       "</style>\n",
       "<table border=\"1\" class=\"dataframe\">\n",
       "  <thead>\n",
       "    <tr style=\"text-align: right;\">\n",
       "      <th></th>\n",
       "      <th>ID</th>\n",
       "      <th>parentesco1</th>\n",
       "      <th>Target</th>\n",
       "    </tr>\n",
       "  </thead>\n",
       "  <tbody>\n",
       "    <tr>\n",
       "      <th>23836</th>\n",
       "      <td>e44cb9969</td>\n",
       "      <td>1</td>\n",
       "      <td>2</td>\n",
       "    </tr>\n",
       "    <tr>\n",
       "      <th>23837</th>\n",
       "      <td>935a65ffa</td>\n",
       "      <td>0</td>\n",
       "      <td>2</td>\n",
       "    </tr>\n",
       "    <tr>\n",
       "      <th>23838</th>\n",
       "      <td>935a65ffa</td>\n",
       "      <td>0</td>\n",
       "      <td>2</td>\n",
       "    </tr>\n",
       "    <tr>\n",
       "      <th>23839</th>\n",
       "      <td>935a65ffa</td>\n",
       "      <td>0</td>\n",
       "      <td>2</td>\n",
       "    </tr>\n",
       "    <tr>\n",
       "      <th>23840</th>\n",
       "      <td>935a65ffa</td>\n",
       "      <td>0</td>\n",
       "      <td>2</td>\n",
       "    </tr>\n",
       "    <tr>\n",
       "      <th>23841</th>\n",
       "      <td>935a65ffa</td>\n",
       "      <td>1</td>\n",
       "      <td>2</td>\n",
       "    </tr>\n",
       "    <tr>\n",
       "      <th>23842</th>\n",
       "      <td>935a65ffa</td>\n",
       "      <td>0</td>\n",
       "      <td>2</td>\n",
       "    </tr>\n",
       "    <tr>\n",
       "      <th>23843</th>\n",
       "      <td>2edb6f51e</td>\n",
       "      <td>1</td>\n",
       "      <td>4</td>\n",
       "    </tr>\n",
       "    <tr>\n",
       "      <th>23844</th>\n",
       "      <td>2edb6f51e</td>\n",
       "      <td>0</td>\n",
       "      <td>4</td>\n",
       "    </tr>\n",
       "    <tr>\n",
       "      <th>23845</th>\n",
       "      <td>2edb6f51e</td>\n",
       "      <td>0</td>\n",
       "      <td>4</td>\n",
       "    </tr>\n",
       "    <tr>\n",
       "      <th>23846</th>\n",
       "      <td>3aa78c56b</td>\n",
       "      <td>0</td>\n",
       "      <td>2</td>\n",
       "    </tr>\n",
       "    <tr>\n",
       "      <th>23847</th>\n",
       "      <td>3aa78c56b</td>\n",
       "      <td>1</td>\n",
       "      <td>2</td>\n",
       "    </tr>\n",
       "    <tr>\n",
       "      <th>23848</th>\n",
       "      <td>3aa78c56b</td>\n",
       "      <td>0</td>\n",
       "      <td>2</td>\n",
       "    </tr>\n",
       "    <tr>\n",
       "      <th>23849</th>\n",
       "      <td>3aa78c56b</td>\n",
       "      <td>0</td>\n",
       "      <td>2</td>\n",
       "    </tr>\n",
       "    <tr>\n",
       "      <th>23850</th>\n",
       "      <td>3aa78c56b</td>\n",
       "      <td>0</td>\n",
       "      <td>2</td>\n",
       "    </tr>\n",
       "    <tr>\n",
       "      <th>23851</th>\n",
       "      <td>3aa78c56b</td>\n",
       "      <td>0</td>\n",
       "      <td>2</td>\n",
       "    </tr>\n",
       "    <tr>\n",
       "      <th>23852</th>\n",
       "      <td>d237404b6</td>\n",
       "      <td>1</td>\n",
       "      <td>2</td>\n",
       "    </tr>\n",
       "    <tr>\n",
       "      <th>23853</th>\n",
       "      <td>d237404b6</td>\n",
       "      <td>0</td>\n",
       "      <td>2</td>\n",
       "    </tr>\n",
       "    <tr>\n",
       "      <th>23854</th>\n",
       "      <td>d237404b6</td>\n",
       "      <td>0</td>\n",
       "      <td>2</td>\n",
       "    </tr>\n",
       "    <tr>\n",
       "      <th>23855</th>\n",
       "      <td>d237404b6</td>\n",
       "      <td>0</td>\n",
       "      <td>2</td>\n",
       "    </tr>\n",
       "  </tbody>\n",
       "</table>\n",
       "</div>"
      ],
      "text/plain": [
       "              ID  parentesco1  Target\n",
       "23836  e44cb9969            1       2\n",
       "23837  935a65ffa            0       2\n",
       "23838  935a65ffa            0       2\n",
       "23839  935a65ffa            0       2\n",
       "23840  935a65ffa            0       2\n",
       "23841  935a65ffa            1       2\n",
       "23842  935a65ffa            0       2\n",
       "23843  2edb6f51e            1       4\n",
       "23844  2edb6f51e            0       4\n",
       "23845  2edb6f51e            0       4\n",
       "23846  3aa78c56b            0       2\n",
       "23847  3aa78c56b            1       2\n",
       "23848  3aa78c56b            0       2\n",
       "23849  3aa78c56b            0       2\n",
       "23850  3aa78c56b            0       2\n",
       "23851  3aa78c56b            0       2\n",
       "23852  d237404b6            1       2\n",
       "23853  d237404b6            0       2\n",
       "23854  d237404b6            0       2\n",
       "23855  d237404b6            0       2"
      ]
     },
     "execution_count": 1015,
     "metadata": {},
     "output_type": "execute_result"
    }
   ],
   "source": [
    "predictions.tail(20)"
   ]
  },
  {
   "cell_type": "code",
   "execution_count": 1009,
   "metadata": {},
   "outputs": [
    {
     "data": {
      "text/plain": [
       "7335"
      ]
     },
     "execution_count": 1009,
     "metadata": {},
     "output_type": "execute_result"
    }
   ],
   "source": [
    "# several household members\n",
    "\n",
    "len(predictions.ID.unique())\n"
   ]
  },
  {
   "cell_type": "markdown",
   "metadata": {},
   "source": [
    "### Predictions must be made for one household\n",
    "If several targets are predicted for one hosuehold, target of household is head household's"
   ]
  },
  {
   "cell_type": "code",
   "execution_count": 1117,
   "metadata": {},
   "outputs": [
    {
     "data": {
      "text/plain": [
       "7335"
      ]
     },
     "execution_count": 1117,
     "metadata": {},
     "output_type": "execute_result"
    }
   ],
   "source": [
    "len(predictions.ID.unique())\n"
   ]
  },
  {
   "cell_type": "code",
   "execution_count": 1018,
   "metadata": {},
   "outputs": [
    {
     "data": {
      "text/plain": [
       "7317"
      ]
     },
     "execution_count": 1018,
     "metadata": {},
     "output_type": "execute_result"
    }
   ],
   "source": [
    "result = predictions[['ID', 'Target']][predictions['parentesco1'] == 1]\n",
    "len(result)"
   ]
  },
  {
   "cell_type": "code",
   "execution_count": 1050,
   "metadata": {},
   "outputs": [
    {
     "data": {
      "text/html": [
       "<div>\n",
       "<style scoped>\n",
       "    .dataframe tbody tr th:only-of-type {\n",
       "        vertical-align: middle;\n",
       "    }\n",
       "\n",
       "    .dataframe tbody tr th {\n",
       "        vertical-align: top;\n",
       "    }\n",
       "\n",
       "    .dataframe thead th {\n",
       "        text-align: right;\n",
       "    }\n",
       "</style>\n",
       "<table border=\"1\" class=\"dataframe\">\n",
       "  <thead>\n",
       "    <tr style=\"text-align: right;\">\n",
       "      <th></th>\n",
       "      <th>ID</th>\n",
       "      <th>Target</th>\n",
       "    </tr>\n",
       "  </thead>\n",
       "  <tbody>\n",
       "    <tr>\n",
       "      <th>2</th>\n",
       "      <td>72958b30c</td>\n",
       "      <td>4</td>\n",
       "    </tr>\n",
       "    <tr>\n",
       "      <th>3</th>\n",
       "      <td>5b598fbc9</td>\n",
       "      <td>4</td>\n",
       "    </tr>\n",
       "    <tr>\n",
       "      <th>6</th>\n",
       "      <td>8ee7365a8</td>\n",
       "      <td>4</td>\n",
       "    </tr>\n",
       "    <tr>\n",
       "      <th>8</th>\n",
       "      <td>ff69a6fc8</td>\n",
       "      <td>4</td>\n",
       "    </tr>\n",
       "    <tr>\n",
       "      <th>9</th>\n",
       "      <td>b61e2bb92</td>\n",
       "      <td>4</td>\n",
       "    </tr>\n",
       "  </tbody>\n",
       "</table>\n",
       "</div>"
      ],
      "text/plain": [
       "          ID  Target\n",
       "2  72958b30c       4\n",
       "3  5b598fbc9       4\n",
       "6  8ee7365a8       4\n",
       "8  ff69a6fc8       4\n",
       "9  b61e2bb92       4"
      ]
     },
     "execution_count": 1050,
     "metadata": {},
     "output_type": "execute_result"
    }
   ],
   "source": [
    "result.head()"
   ]
  },
  {
   "cell_type": "markdown",
   "metadata": {},
   "source": [
    "### Some households are missing in the prediction"
   ]
  },
  {
   "cell_type": "code",
   "execution_count": 1038,
   "metadata": {},
   "outputs": [
    {
     "data": {
      "text/plain": [
       "Index(['000a08204', '000bce7c4', '001845fb0', '003514e22', '003b51a87',\n",
       "       '003bf2fa9', '004417a6c', '0044a5929', '00498cd58', '004ea2211',\n",
       "       ...\n",
       "       'ff8eaf6cf', 'ff91e66fa', 'ff99cc76f', 'ffa90916d', 'ffab93b9f',\n",
       "       'ffb6d4688', 'ffc1c5fb1', 'ffcdf41de', 'fff6d7a90', 'fffbede04'],\n",
       "      dtype='object', name='ID', length=7335)"
      ]
     },
     "execution_count": 1038,
     "metadata": {},
     "output_type": "execute_result"
    }
   ],
   "source": [
    "groupby = predictions['Target'].groupby([predictions['ID']]).unique()\n",
    "groupby.index"
   ]
  },
  {
   "cell_type": "code",
   "execution_count": 1039,
   "metadata": {},
   "outputs": [
    {
     "data": {
      "text/plain": [
       "7335"
      ]
     },
     "execution_count": 1039,
     "metadata": {},
     "output_type": "execute_result"
    }
   ],
   "source": [
    "len(groupby.index)"
   ]
  },
  {
   "cell_type": "code",
   "execution_count": 1078,
   "metadata": {},
   "outputs": [
    {
     "data": {
      "text/plain": [
       "ID\n",
       "000a08204       [4]\n",
       "000bce7c4    [2, 4]\n",
       "001845fb0       [4]\n",
       "003514e22       [4]\n",
       "003b51a87       [2]\n",
       "003bf2fa9       [4]\n",
       "004417a6c       [4]\n",
       "0044a5929       [4]\n",
       "00498cd58    [3, 4]\n",
       "004ea2211       [4]\n",
       "005411ee8       [2]\n",
       "00564e3ca    [4, 2]\n",
       "0065a3821       [2]\n",
       "008222963       [4]\n",
       "0082c4eb2       [4]\n",
       "Name: Target, dtype: object"
      ]
     },
     "execution_count": 1078,
     "metadata": {},
     "output_type": "execute_result"
    }
   ],
   "source": [
    "groupby.head(15)"
   ]
  },
  {
   "cell_type": "markdown",
   "metadata": {},
   "source": [
    "### Why: Households with no head"
   ]
  },
  {
   "cell_type": "code",
   "execution_count": 1072,
   "metadata": {},
   "outputs": [
    {
     "data": {
      "text/plain": [
       "['b59f5b526',\n",
       " '9d874b0d6',\n",
       " '198fc274a',\n",
       " 'ce6154327',\n",
       " 'e3f69768c',\n",
       " 'df06e01c6',\n",
       " 'df06e01c6',\n",
       " 'f6d6fad32',\n",
       " '5a667591a',\n",
       " '2dc45d484',\n",
       " 'fc6c8d241',\n",
       " 'fc6c8d241',\n",
       " 'e4df1caaf',\n",
       " 'e4df1caaf',\n",
       " 'f2fd28dbb',\n",
       " 'f2fd28dbb',\n",
       " 'f2fd28dbb',\n",
       " 'f2fd28dbb',\n",
       " 'd678c45ad',\n",
       " '0e2a3453d',\n",
       " '0e2a3453d',\n",
       " 'b115b4536',\n",
       " '91aff0a8e',\n",
       " '91aff0a8e',\n",
       " '676750a21',\n",
       " 'd14b3e03a']"
      ]
     },
     "execution_count": 1072,
     "metadata": {},
     "output_type": "execute_result"
    }
   ],
   "source": [
    "[household for household in predictions['ID'].tolist() if household not in result['ID'].tolist()]"
   ]
  },
  {
   "cell_type": "code",
   "execution_count": 1150,
   "metadata": {},
   "outputs": [
    {
     "data": {
      "text/html": [
       "<div>\n",
       "<style scoped>\n",
       "    .dataframe tbody tr th:only-of-type {\n",
       "        vertical-align: middle;\n",
       "    }\n",
       "\n",
       "    .dataframe tbody tr th {\n",
       "        vertical-align: top;\n",
       "    }\n",
       "\n",
       "    .dataframe thead th {\n",
       "        text-align: right;\n",
       "    }\n",
       "</style>\n",
       "<table border=\"1\" class=\"dataframe\">\n",
       "  <thead>\n",
       "    <tr style=\"text-align: right;\">\n",
       "      <th></th>\n",
       "      <th>ID</th>\n",
       "      <th>parentesco1</th>\n",
       "      <th>Target</th>\n",
       "    </tr>\n",
       "  </thead>\n",
       "  <tbody>\n",
       "    <tr>\n",
       "      <th>21654</th>\n",
       "      <td>f2fd28dbb</td>\n",
       "      <td>0</td>\n",
       "      <td>2</td>\n",
       "    </tr>\n",
       "    <tr>\n",
       "      <th>21655</th>\n",
       "      <td>f2fd28dbb</td>\n",
       "      <td>0</td>\n",
       "      <td>2</td>\n",
       "    </tr>\n",
       "    <tr>\n",
       "      <th>21656</th>\n",
       "      <td>f2fd28dbb</td>\n",
       "      <td>0</td>\n",
       "      <td>2</td>\n",
       "    </tr>\n",
       "    <tr>\n",
       "      <th>21657</th>\n",
       "      <td>f2fd28dbb</td>\n",
       "      <td>0</td>\n",
       "      <td>2</td>\n",
       "    </tr>\n",
       "  </tbody>\n",
       "</table>\n",
       "</div>"
      ],
      "text/plain": [
       "              ID  parentesco1  Target\n",
       "21654  f2fd28dbb            0       2\n",
       "21655  f2fd28dbb            0       2\n",
       "21656  f2fd28dbb            0       2\n",
       "21657  f2fd28dbb            0       2"
      ]
     },
     "execution_count": 1150,
     "metadata": {},
     "output_type": "execute_result"
    }
   ],
   "source": [
    "# example:\n",
    "\n",
    "predictions[predictions['ID']=='f2fd28dbb']"
   ]
  },
  {
   "cell_type": "code",
   "execution_count": 1151,
   "metadata": {},
   "outputs": [
    {
     "data": {
      "text/html": [
       "<div>\n",
       "<style scoped>\n",
       "    .dataframe tbody tr th:only-of-type {\n",
       "        vertical-align: middle;\n",
       "    }\n",
       "\n",
       "    .dataframe tbody tr th {\n",
       "        vertical-align: top;\n",
       "    }\n",
       "\n",
       "    .dataframe thead th {\n",
       "        text-align: right;\n",
       "    }\n",
       "</style>\n",
       "<table border=\"1\" class=\"dataframe\">\n",
       "  <thead>\n",
       "    <tr style=\"text-align: right;\">\n",
       "      <th></th>\n",
       "      <th>ID</th>\n",
       "      <th>Target</th>\n",
       "    </tr>\n",
       "  </thead>\n",
       "  <tbody>\n",
       "    <tr>\n",
       "      <th>21654</th>\n",
       "      <td>f2fd28dbb</td>\n",
       "      <td>2</td>\n",
       "    </tr>\n",
       "  </tbody>\n",
       "</table>\n",
       "</div>"
      ],
      "text/plain": [
       "              ID  Target\n",
       "21654  f2fd28dbb       2"
      ]
     },
     "execution_count": 1151,
     "metadata": {},
     "output_type": "execute_result"
    }
   ],
   "source": [
    "predictions[['ID', 'Target']][predictions['ID']=='f2fd28dbb'].drop_duplicates()"
   ]
  },
  {
   "cell_type": "code",
   "execution_count": 1194,
   "metadata": {},
   "outputs": [
    {
     "data": {
      "text/plain": [
       "26"
      ]
     },
     "execution_count": 1194,
     "metadata": {},
     "output_type": "execute_result"
    }
   ],
   "source": [
    "house_nohead = [household for household in predictions['ID'].tolist() if household not in result['ID'].tolist()]\n",
    "len(house_nohead)"
   ]
  },
  {
   "cell_type": "code",
   "execution_count": 1196,
   "metadata": {},
   "outputs": [
    {
     "name": "stdout",
     "output_type": "stream",
     "text": [
      "              ID  parentesco1  Target\n",
      "12753  b59f5b526            0       4\n",
      "              ID  parentesco1  Target\n",
      "15090  9d874b0d6            0       4\n",
      "              ID  parentesco1  Target\n",
      "15544  198fc274a            0       3\n",
      "              ID  parentesco1  Target\n",
      "17053  ce6154327            0       4\n",
      "              ID  parentesco1  Target\n",
      "17132  e3f69768c            0       2\n",
      "              ID  parentesco1  Target\n",
      "17162  df06e01c6            0       4\n",
      "17163  df06e01c6            0       3\n",
      "              ID  parentesco1  Target\n",
      "17162  df06e01c6            0       4\n",
      "17163  df06e01c6            0       3\n",
      "              ID  parentesco1  Target\n",
      "18549  f6d6fad32            0       1\n",
      "              ID  parentesco1  Target\n",
      "18643  5a667591a            0       4\n",
      "              ID  parentesco1  Target\n",
      "18735  2dc45d484            0       4\n",
      "              ID  parentesco1  Target\n",
      "19299  fc6c8d241            0       2\n",
      "19300  fc6c8d241            0       2\n",
      "              ID  parentesco1  Target\n",
      "19299  fc6c8d241            0       2\n",
      "19300  fc6c8d241            0       2\n",
      "              ID  parentesco1  Target\n",
      "19317  e4df1caaf            0       2\n",
      "19318  e4df1caaf            0       2\n",
      "              ID  parentesco1  Target\n",
      "19317  e4df1caaf            0       2\n",
      "19318  e4df1caaf            0       2\n",
      "              ID  parentesco1  Target\n",
      "21654  f2fd28dbb            0       2\n",
      "21655  f2fd28dbb            0       2\n",
      "21656  f2fd28dbb            0       2\n",
      "21657  f2fd28dbb            0       2\n",
      "              ID  parentesco1  Target\n",
      "21654  f2fd28dbb            0       2\n",
      "21655  f2fd28dbb            0       2\n",
      "21656  f2fd28dbb            0       2\n",
      "21657  f2fd28dbb            0       2\n",
      "              ID  parentesco1  Target\n",
      "21654  f2fd28dbb            0       2\n",
      "21655  f2fd28dbb            0       2\n",
      "21656  f2fd28dbb            0       2\n",
      "21657  f2fd28dbb            0       2\n",
      "              ID  parentesco1  Target\n",
      "21654  f2fd28dbb            0       2\n",
      "21655  f2fd28dbb            0       2\n",
      "21656  f2fd28dbb            0       2\n",
      "21657  f2fd28dbb            0       2\n",
      "              ID  parentesco1  Target\n",
      "22006  d678c45ad            0       4\n",
      "              ID  parentesco1  Target\n",
      "22790  0e2a3453d            0       4\n",
      "22791  0e2a3453d            0       4\n",
      "              ID  parentesco1  Target\n",
      "22790  0e2a3453d            0       4\n",
      "22791  0e2a3453d            0       4\n",
      "              ID  parentesco1  Target\n",
      "22833  b115b4536            0       2\n",
      "              ID  parentesco1  Target\n",
      "23252  91aff0a8e            0       2\n",
      "23253  91aff0a8e            0       2\n",
      "              ID  parentesco1  Target\n",
      "23252  91aff0a8e            0       2\n",
      "23253  91aff0a8e            0       2\n",
      "              ID  parentesco1  Target\n",
      "23547  676750a21            0       2\n",
      "              ID  parentesco1  Target\n",
      "23711  d14b3e03a            0       2\n"
     ]
    }
   ],
   "source": [
    "#predictions['Target'].groupby([predictions['ID']]).unique()\n",
    "for household in house_nohead:\n",
    "    print(predictions[predictions['ID'] == household])"
   ]
  },
  {
   "cell_type": "code",
   "execution_count": 1184,
   "metadata": {},
   "outputs": [
    {
     "data": {
      "text/plain": [
       "26"
      ]
     },
     "execution_count": 1184,
     "metadata": {},
     "output_type": "execute_result"
    }
   ],
   "source": [
    "len(result_2)"
   ]
  },
  {
   "cell_type": "code",
   "execution_count": 1185,
   "metadata": {},
   "outputs": [
    {
     "ename": "AttributeError",
     "evalue": "'list' object has no attribute 'drop_duplicates'",
     "output_type": "error",
     "traceback": [
      "\u001b[0;31m---------------------------------------------------------------------------\u001b[0m",
      "\u001b[0;31mAttributeError\u001b[0m                            Traceback (most recent call last)",
      "\u001b[0;32m<ipython-input-1185-47cadc53f49a>\u001b[0m in \u001b[0;36m<module>\u001b[0;34m\u001b[0m\n\u001b[0;32m----> 1\u001b[0;31m \u001b[0mresult_2\u001b[0m\u001b[0;34m.\u001b[0m\u001b[0mdrop_duplicates\u001b[0m\u001b[0;34m(\u001b[0m\u001b[0;34m)\u001b[0m\u001b[0;34m\u001b[0m\u001b[0;34m\u001b[0m\u001b[0m\n\u001b[0m",
      "\u001b[0;31mAttributeError\u001b[0m: 'list' object has no attribute 'drop_duplicates'"
     ]
    }
   ],
   "source": [
    "result_2.drop_duplicates()"
   ]
  },
  {
   "cell_type": "code",
   "execution_count": 1171,
   "metadata": {},
   "outputs": [],
   "source": [
    "for i in range(len(result_2)):\n",
    "    result.append(result_2[i])"
   ]
  },
  {
   "cell_type": "code",
   "execution_count": 1172,
   "metadata": {},
   "outputs": [
    {
     "data": {
      "text/plain": [
       "7317"
      ]
     },
     "execution_count": 1172,
     "metadata": {},
     "output_type": "execute_result"
    }
   ],
   "source": [
    "len(result.ID.unique())"
   ]
  },
  {
   "cell_type": "code",
   "execution_count": 1173,
   "metadata": {},
   "outputs": [
    {
     "data": {
      "text/html": [
       "<div>\n",
       "<style scoped>\n",
       "    .dataframe tbody tr th:only-of-type {\n",
       "        vertical-align: middle;\n",
       "    }\n",
       "\n",
       "    .dataframe tbody tr th {\n",
       "        vertical-align: top;\n",
       "    }\n",
       "\n",
       "    .dataframe thead th {\n",
       "        text-align: right;\n",
       "    }\n",
       "</style>\n",
       "<table border=\"1\" class=\"dataframe\">\n",
       "  <thead>\n",
       "    <tr style=\"text-align: right;\">\n",
       "      <th></th>\n",
       "      <th>ID</th>\n",
       "      <th>Target</th>\n",
       "    </tr>\n",
       "  </thead>\n",
       "  <tbody>\n",
       "  </tbody>\n",
       "</table>\n",
       "</div>"
      ],
      "text/plain": [
       "Empty DataFrame\n",
       "Columns: [ID, Target]\n",
       "Index: []"
      ]
     },
     "execution_count": 1173,
     "metadata": {},
     "output_type": "execute_result"
    }
   ],
   "source": [
    "result[result['ID']=='f2fd28dbb']"
   ]
  },
  {
   "cell_type": "markdown",
   "metadata": {},
   "source": [
    "Grid Search\n",
    "\n",
    "On combine autant de paramètres que de modèles\n",
    "\n",
    "max depth = [a, b]\n",
    "n-estimators = [i, j, k]\n",
    "\n",
    "GridSearchCV\n",
    "\n",
    "je sélectionne le modèle avec les hyperparamètres qui ont les meilleurs scores sur le TRAIN\n",
    "puis je l'applique sur le TEST"
   ]
  },
  {
   "cell_type": "code",
   "execution_count": null,
   "metadata": {},
   "outputs": [],
   "source": []
  }
 ],
 "metadata": {
  "kernelspec": {
   "display_name": "Python 3",
   "language": "python",
   "name": "python3"
  },
  "language_info": {
   "codemirror_mode": {
    "name": "ipython",
    "version": 3
   },
   "file_extension": ".py",
   "mimetype": "text/x-python",
   "name": "python",
   "nbconvert_exporter": "python",
   "pygments_lexer": "ipython3",
   "version": "3.7.3"
  }
 },
 "nbformat": 4,
 "nbformat_minor": 2
}
